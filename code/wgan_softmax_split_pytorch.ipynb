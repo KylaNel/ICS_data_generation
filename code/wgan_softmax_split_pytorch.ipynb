{
  "cells": [
    {
      "cell_type": "code",
      "execution_count": 102,
      "metadata": {
        "id": "XpnS3F54NaTT"
      },
      "outputs": [],
      "source": [
        "import numpy as np\n",
        "import matplotlib.pyplot as plt\n",
        "import pandas as pd\n",
        "import tensorflow as tf\n",
        "from sklearn import preprocessing\n",
        "\n",
        "%matplotlib inline"
      ]
    },
    {
      "cell_type": "code",
      "execution_count": 237,
      "metadata": {
        "id": "Ir3cCqLKNaTT"
      },
      "outputs": [],
      "source": [
        "attacks = pd.read_csv(\"/home/knel/virtual_envs/ankh-morpork/ICS_data_generation/data/wadi_attacks.csv\", sep=\",\", skiprows=[0])"
      ]
    },
    {
      "cell_type": "code",
      "execution_count": 238,
      "metadata": {
        "id": "PlGx2v1BNaTT"
      },
      "outputs": [],
      "source": [
        "attacks = preprocessing.normalize(attacks.to_numpy()[:, 1:], norm=\"max\", axis=0)\n",
        "\n",
        "# # swap sport to front\n",
        "# attacks[:, [0, 1]] = attacks[:, [1, 0]]\n",
        "# # swap dport to after sport\n",
        "# attacks[:, [1, 2]] = attacks[:, [2, 1]]\n",
        "# # swap protocols to after dport\n",
        "# attacks[:, [2, 14]] = attacks[:, [14, 2]]\n",
        "\n",
        "# column order now -> sport, dport, protocols, continuous (discrete, discrete, discrete, continuous)\n",
        "\n",
        "\n",
        "\n",
        "# should probably add batch and shuffle\n",
        "\n",
        "train_dataset = attacks#[:int(np.floor(attacks.shape[0]*3/4))]\n",
        "test_dataset = attacks[-5000:]\n",
        "\n",
        "num_features = attacks[:int(np.floor(attacks.shape[0]*3/4))].shape[1]\n",
        "seq_length = 10"
      ]
    },
    {
      "cell_type": "code",
      "execution_count": 239,
      "metadata": {
        "colab": {
          "base_uri": "https://localhost:8080/"
        },
        "id": "Ifqu0pgzNaTT",
        "outputId": "2ec21186-565b-4bc1-e717-e15a2ba5dea6"
      },
      "outputs": [
        {
          "data": {
            "text/plain": [
              "(9976, 5000)"
            ]
          },
          "execution_count": 239,
          "metadata": {},
          "output_type": "execute_result"
        }
      ],
      "source": [
        "len(train_dataset), len(test_dataset)"
      ]
    },
    {
      "cell_type": "code",
      "execution_count": 5,
      "metadata": {
        "colab": {
          "base_uri": "https://localhost:8080/"
        },
        "id": "lRR0cUA17sWo",
        "outputId": "7f31e18a-f1c4-4b54-de4a-1f4173faa25e"
      },
      "outputs": [
        {
          "data": {
            "text/plain": [
              "array([2.71767327e-01, 7.66154879e-03, 8.27653359e-03, 8.00000000e-01,\n",
              "       7.60913096e-03, 3.76573184e-03, 8.50432283e-03, 6.94274362e-05,\n",
              "       1.53165877e-05, 1.53165877e-05, 1.53165870e-05, 1.53165870e-05,\n",
              "       0.00000000e+00, 0.00000000e+00, 0.00000000e+00, 2.77274300e-02,\n",
              "       8.43319240e-03, 9.59523343e-01, 9.99938846e-01, 9.59523343e-01,\n",
              "       9.59523343e-01, 9.59523343e-01, 3.33333333e-01, 3.85114806e-02,\n",
              "       2.97226418e-05, 9.59523343e-01, 2.77274300e-02])"
            ]
          },
          "execution_count": 5,
          "metadata": {},
          "output_type": "execute_result"
        }
      ],
      "source": [
        "train_dataset[2]"
      ]
    },
    {
      "cell_type": "code",
      "execution_count": 6,
      "metadata": {
        "colab": {
          "base_uri": "https://localhost:8080/"
        },
        "id": "wTZSt9lp71rK",
        "outputId": "ae479dd0-cd5f-4cfd-cc3f-2b345b0c7a70"
      },
      "outputs": [
        {
          "data": {
            "text/plain": [
              "array([4.75905637e-01, 7.66154879e-03, 8.27653359e-03, 4.00000000e-01,\n",
              "       4.50540649e-03, 2.22970964e-03, 4.99717308e-03, 4.07958307e-05,\n",
              "       1.50599124e-05, 1.50599124e-05, 1.51733500e-05, 1.51733500e-05,\n",
              "       0.00000000e+00, 0.00000000e+00, 0.00000000e+00, 1.83647165e-02,\n",
              "       7.88910350e-03, 5.68234365e-01, 9.99939177e-01, 5.68234365e-01,\n",
              "       5.68234365e-01, 5.68234365e-01, 8.90196078e-01, 2.28028504e-02,\n",
              "       1.75989326e-05, 5.68234365e-01, 1.83647165e-02])"
            ]
          },
          "execution_count": 6,
          "metadata": {},
          "output_type": "execute_result"
        }
      ],
      "source": [
        "train_dataset[3]"
      ]
    },
    {
      "cell_type": "code",
      "execution_count": 7,
      "metadata": {
        "id": "5FZs594sNaTU"
      },
      "outputs": [],
      "source": [
        "# custom loss\n",
        "def wasserstein_loss(y_true, y_pred):\n",
        "    return tf.keras.backend.mean(y_true * y_pred)"
      ]
    },
    {
      "cell_type": "code",
      "execution_count": 8,
      "metadata": {
        "id": "IPAYKjg2NaTU"
      },
      "outputs": [],
      "source": [
        "# clip model weights to a given hypercube\n",
        "class ClipConstraint(tf.keras.constraints.Constraint):\n",
        "\t# set clip value when initialized\n",
        "\tdef __init__(self, clip_value):\n",
        "\t\tself.clip_value = clip_value\n",
        "\n",
        "\t# clip model weights to hypercube\n",
        "\tdef __call__(self, weights):\n",
        "\t\treturn tf.keras.backend.clip(weights, -self.clip_value, self.clip_value)\n",
        "\n",
        "\t# get the config\n",
        "\tdef get_config(self):\n",
        "\t\treturn {'clip_value': self.clip_value}"
      ]
    },
    {
      "cell_type": "code",
      "execution_count": 9,
      "metadata": {
        "id": "HRvc7NspNaTV"
      },
      "outputs": [],
      "source": [
        "# Wasserstein loss for critic\n",
        "def critic_loss(pred_real, pred_fake):\n",
        "    return tf.keras.backend.mean(pred_real * pred_fake)\n",
        "\n",
        "# Wasserstein loss for generator\n",
        "def generator_loss(pred_fake):\n",
        "    return -tf.keras.backend.mean(pred_fake)"
      ]
    },
    {
      "cell_type": "code",
      "execution_count": 10,
      "metadata": {
        "id": "XgCI_3rzNaTV"
      },
      "outputs": [],
      "source": [
        "generator_optimiser = tf.keras.optimizers.legacy.RMSprop(learning_rate=0.00005)\n",
        "critic_optimiser = tf.keras.optimizers.legacy.RMSprop(learning_rate=0.00005)\n",
        "generator_optimizer = tf.keras.optimizers.Adam(learning_rate=0.0001)"
      ]
    },
    {
      "cell_type": "code",
      "execution_count": 240,
      "metadata": {
        "id": "xlMvaNXAMG9F"
      },
      "outputs": [],
      "source": [
        "import torch\n",
        "from torch.utils.data import Dataset, DataLoader\n",
        "\n",
        "class Dataset(Dataset):\n",
        "    def __init__(self, _data, num_classes_list):\n",
        "        self.data = torch.tensor(_data, dtype=torch.float32)\n",
        "        self.num_classes_list = num_classes_list\n",
        "\n",
        "    def __len__(self):\n",
        "        return len(self.data)\n",
        "\n",
        "    def __getitem__(self, idx):\n",
        "        sample = self.data[idx]\n",
        "\n",
        "        # One-hot encode each of the first three values with different num_classes\n",
        "        # one_hot_encoded_1 = torch.nn.functional.one_hot(sample[0].long(), self.num_classes_list[0])\n",
        "        # one_hot_encoded_2 = torch.nn.functional.one_hot(sample[1].long(), self.num_classes_list[1])\n",
        "        # one_hot_encoded_3 = torch.nn.functional.one_hot(sample[2].long(), self.num_classes_list[2])\n",
        "        # modified_sample = torch.cat((one_hot_encoded_1.float(), one_hot_encoded_2.float(), one_hot_encoded_3.float(), sample[3:]))\n",
        "\n",
        "        # WADI\n",
        "        one_hot_encoded_1 = torch.nn.functional.one_hot(sample[0].long(), self.num_classes_list[0])\n",
        "        modified_sample = torch.cat((one_hot_encoded_1.float(), sample[1:]))\n",
        "\n",
        "        # print(\"1 :\",one_hot_encoded_1.shape)\n",
        "        # print(\"2 :\",one_hot_encoded_2.shape)\n",
        "        # print(\"3 :\",one_hot_encoded_3.shape)\n",
        "        # print(\"4 :\",sample[3:].shape)\n",
        "        # Concatenate one-hot encoding with the remaining values\n",
        "        \n",
        "\n",
        "        return modified_sample\n",
        "\n",
        "data = np.array(train_dataset[:10000])\n",
        "\n",
        "# SWaT\n",
        "# dataset = Dataset(data,[23030, 14372, 7])\n",
        "\n",
        "# WUSTL\n",
        "# dataset = Dataset(data,[44536, 7756, 4])\n",
        "\n",
        "# WADI\n",
        "dataset = Dataset(data,[3, 1, 1])\n",
        "\n",
        "# SWaT sensor\n",
        "# dataset = Dataset(data,[3, 2, 12])\n",
        "\n",
        "batch_size = 64\n",
        "data_loader = DataLoader(dataset, batch_size=batch_size, shuffle=True, num_workers=4, drop_last=True)\n"
      ]
    },
    {
      "cell_type": "code",
      "execution_count": 12,
      "metadata": {
        "id": "99r4Yc1VZwbI"
      },
      "outputs": [],
      "source": [
        "def differentiable_argmax(gumbel_softmax_sample):\n",
        "    _, max_indices = gumbel_softmax_sample.max(dim=-1, keepdim=True)\n",
        "    one_hot = torch.zeros_like(gumbel_softmax_sample).scatter_(-1, max_indices, 1.0)\n",
        "    return one_hot - gumbel_softmax_sample.detach() + gumbel_softmax_sample"
      ]
    },
    {
      "cell_type": "code",
      "execution_count": 13,
      "metadata": {
        "id": "fPfL8QW8uaqN"
      },
      "outputs": [],
      "source": [
        "def convert_generator_output(output_tensors):\n",
        "    sport_dist, dport_dist, proto_dist, cont = output_tensors\n",
        "    num_samples = sport_dist.size(0)\n",
        "    final = torch.zeros((num_samples, 22))\n",
        "\n",
        "    for sample_index in range(num_samples):\n",
        "        sport = torch.argmax(sport_dist[sample_index]) + 1\n",
        "        dport = torch.argmax(dport_dist[sample_index]) + 1\n",
        "        proto = torch.argmax(proto_dist[sample_index]) + 1\n",
        "\n",
        "        data_point = torch.cat((sport.view(1), dport.view(1), proto.view(1), cont[sample_index]))\n",
        "        final[sample_index] = data_point\n",
        "\n",
        "    return final"
      ]
    },
    {
      "cell_type": "code",
      "execution_count": 241,
      "metadata": {
        "colab": {
          "base_uri": "https://localhost:8080/",
          "height": 0
        },
        "id": "4Ee-uh20Eaih",
        "outputId": "60068658-63de-4999-c86d-67599f7dad72"
      },
      "outputs": [
        {
          "name": "stderr",
          "output_type": "stream",
          "text": [
            "/home/knel/virtual_envs/ankh-morpork/lib/python3.11/site-packages/torch/nn/modules/rnn.py:82: UserWarning: dropout option adds dropout after all but last recurrent layer, so non-zero dropout expects num_layers greater than 1, but got dropout=0.4 and num_layers=1\n",
            "  warnings.warn(\"dropout option adds dropout after all but last \"\n",
            "  0%|          | 0/50 [00:00<?, ?it/s]"
          ]
        },
        {
          "name": "stderr",
          "output_type": "stream",
          "text": [
            "  2%|▏         | 1/50 [00:05<04:44,  5.82s/it]"
          ]
        },
        {
          "name": "stdout",
          "output_type": "stream",
          "text": [
            "Epoch [1/50], D Loss Real: 103.42058563232422, D Loss Fake: 115.46044158935547, G Loss: 103.92402648925781\n"
          ]
        },
        {
          "name": "stderr",
          "output_type": "stream",
          "text": [
            "  4%|▍         | 2/50 [00:11<04:35,  5.73s/it]"
          ]
        },
        {
          "name": "stdout",
          "output_type": "stream",
          "text": [
            "Epoch [2/50], D Loss Real: 100.26966857910156, D Loss Fake: 116.98600769042969, G Loss: 100.61597442626953\n"
          ]
        },
        {
          "name": "stderr",
          "output_type": "stream",
          "text": [
            "  6%|▌         | 3/50 [00:17<04:28,  5.70s/it]"
          ]
        },
        {
          "name": "stdout",
          "output_type": "stream",
          "text": [
            "Epoch [3/50], D Loss Real: 97.92295837402344, D Loss Fake: 119.17755126953125, G Loss: 98.15933990478516\n"
          ]
        },
        {
          "name": "stderr",
          "output_type": "stream",
          "text": [
            "  8%|▊         | 4/50 [00:22<04:21,  5.69s/it]"
          ]
        },
        {
          "name": "stdout",
          "output_type": "stream",
          "text": [
            "Epoch [4/50], D Loss Real: 95.7152099609375, D Loss Fake: 121.49642944335938, G Loss: 95.85798645019531\n"
          ]
        },
        {
          "name": "stderr",
          "output_type": "stream",
          "text": [
            " 10%|█         | 5/50 [00:28<04:13,  5.63s/it]"
          ]
        },
        {
          "name": "stdout",
          "output_type": "stream",
          "text": [
            "Epoch [5/50], D Loss Real: 93.5168685913086, D Loss Fake: 123.92953491210938, G Loss: 93.5820083618164\n"
          ]
        },
        {
          "name": "stderr",
          "output_type": "stream",
          "text": [
            " 12%|█▏        | 6/50 [00:33<04:05,  5.58s/it]"
          ]
        },
        {
          "name": "stdout",
          "output_type": "stream",
          "text": [
            "Epoch [6/50], D Loss Real: 91.30438995361328, D Loss Fake: 126.4952621459961, G Loss: 91.27532958984375\n"
          ]
        },
        {
          "name": "stderr",
          "output_type": "stream",
          "text": [
            " 14%|█▍        | 7/50 [00:39<03:58,  5.54s/it]"
          ]
        },
        {
          "name": "stdout",
          "output_type": "stream",
          "text": [
            "Epoch [7/50], D Loss Real: 89.08296966552734, D Loss Fake: 129.2926025390625, G Loss: 89.02151489257812\n"
          ]
        },
        {
          "name": "stderr",
          "output_type": "stream",
          "text": [
            " 16%|█▌        | 8/50 [00:44<03:51,  5.51s/it]"
          ]
        },
        {
          "name": "stdout",
          "output_type": "stream",
          "text": [
            "Epoch [8/50], D Loss Real: 86.81522369384766, D Loss Fake: 132.17930603027344, G Loss: 86.7231216430664\n"
          ]
        },
        {
          "name": "stderr",
          "output_type": "stream",
          "text": [
            " 18%|█▊        | 9/50 [00:50<03:45,  5.49s/it]"
          ]
        },
        {
          "name": "stdout",
          "output_type": "stream",
          "text": [
            "Epoch [9/50], D Loss Real: 84.58343505859375, D Loss Fake: 135.16934204101562, G Loss: 84.47711181640625\n"
          ]
        },
        {
          "name": "stderr",
          "output_type": "stream",
          "text": [
            " 20%|██        | 10/50 [00:55<03:37,  5.44s/it]"
          ]
        },
        {
          "name": "stdout",
          "output_type": "stream",
          "text": [
            "Epoch [10/50], D Loss Real: 82.43730163574219, D Loss Fake: 138.16749572753906, G Loss: 82.29988861083984\n"
          ]
        },
        {
          "name": "stderr",
          "output_type": "stream",
          "text": [
            " 22%|██▏       | 11/50 [01:01<03:33,  5.46s/it]"
          ]
        },
        {
          "name": "stdout",
          "output_type": "stream",
          "text": [
            "Epoch [11/50], D Loss Real: 80.3794174194336, D Loss Fake: 141.10067749023438, G Loss: 80.20792388916016\n"
          ]
        },
        {
          "name": "stderr",
          "output_type": "stream",
          "text": [
            " 24%|██▍       | 12/50 [01:06<03:28,  5.49s/it]"
          ]
        },
        {
          "name": "stdout",
          "output_type": "stream",
          "text": [
            "Epoch [12/50], D Loss Real: 78.46697998046875, D Loss Fake: 143.9486083984375, G Loss: 78.27981567382812\n"
          ]
        },
        {
          "name": "stderr",
          "output_type": "stream",
          "text": [
            " 26%|██▌       | 13/50 [01:11<03:20,  5.43s/it]"
          ]
        },
        {
          "name": "stdout",
          "output_type": "stream",
          "text": [
            "Epoch [13/50], D Loss Real: 76.68138885498047, D Loss Fake: 146.63504028320312, G Loss: 76.4937515258789\n"
          ]
        },
        {
          "name": "stderr",
          "output_type": "stream",
          "text": [
            " 28%|██▊       | 14/50 [01:17<03:15,  5.43s/it]"
          ]
        },
        {
          "name": "stdout",
          "output_type": "stream",
          "text": [
            "Epoch [14/50], D Loss Real: 75.0904312133789, D Loss Fake: 149.15162658691406, G Loss: 74.88323974609375\n"
          ]
        },
        {
          "name": "stderr",
          "output_type": "stream",
          "text": [
            " 30%|███       | 15/50 [01:22<03:08,  5.38s/it]"
          ]
        },
        {
          "name": "stdout",
          "output_type": "stream",
          "text": [
            "Epoch [15/50], D Loss Real: 73.6471939086914, D Loss Fake: 151.457275390625, G Loss: 73.43003845214844\n"
          ]
        },
        {
          "name": "stderr",
          "output_type": "stream",
          "text": [
            " 32%|███▏      | 16/50 [01:27<03:02,  5.36s/it]"
          ]
        },
        {
          "name": "stdout",
          "output_type": "stream",
          "text": [
            "Epoch [16/50], D Loss Real: 72.3617935180664, D Loss Fake: 153.5712432861328, G Loss: 72.15202331542969\n"
          ]
        },
        {
          "name": "stderr",
          "output_type": "stream",
          "text": [
            " 34%|███▍      | 17/50 [01:33<02:57,  5.37s/it]"
          ]
        },
        {
          "name": "stdout",
          "output_type": "stream",
          "text": [
            "Epoch [17/50], D Loss Real: 71.22412109375, D Loss Fake: 155.4761505126953, G Loss: 71.01937103271484\n"
          ]
        },
        {
          "name": "stderr",
          "output_type": "stream",
          "text": [
            " 36%|███▌      | 18/50 [01:38<02:50,  5.33s/it]"
          ]
        },
        {
          "name": "stdout",
          "output_type": "stream",
          "text": [
            "Epoch [18/50], D Loss Real: 70.21270751953125, D Loss Fake: 157.18026733398438, G Loss: 70.0208740234375\n"
          ]
        },
        {
          "name": "stderr",
          "output_type": "stream",
          "text": [
            " 38%|███▊      | 19/50 [01:43<02:44,  5.31s/it]"
          ]
        },
        {
          "name": "stdout",
          "output_type": "stream",
          "text": [
            "Epoch [19/50], D Loss Real: 69.33747100830078, D Loss Fake: 158.70480346679688, G Loss: 69.14029693603516\n"
          ]
        },
        {
          "name": "stderr",
          "output_type": "stream",
          "text": [
            " 40%|████      | 20/50 [01:48<02:37,  5.24s/it]"
          ]
        },
        {
          "name": "stdout",
          "output_type": "stream",
          "text": [
            "Epoch [20/50], D Loss Real: 68.5791244506836, D Loss Fake: 160.05587768554688, G Loss: 68.37584686279297\n"
          ]
        },
        {
          "name": "stderr",
          "output_type": "stream",
          "text": [
            " 42%|████▏     | 21/50 [01:54<02:31,  5.24s/it]"
          ]
        },
        {
          "name": "stdout",
          "output_type": "stream",
          "text": [
            "Epoch [21/50], D Loss Real: 67.8783187866211, D Loss Fake: 161.2581024169922, G Loss: 67.71060943603516\n"
          ]
        },
        {
          "name": "stderr",
          "output_type": "stream",
          "text": [
            " 44%|████▍     | 22/50 [01:59<02:24,  5.18s/it]"
          ]
        },
        {
          "name": "stdout",
          "output_type": "stream",
          "text": [
            "Epoch [22/50], D Loss Real: 67.3004150390625, D Loss Fake: 162.31175231933594, G Loss: 67.12065124511719\n"
          ]
        },
        {
          "name": "stderr",
          "output_type": "stream",
          "text": [
            " 46%|████▌     | 23/50 [02:04<02:18,  5.15s/it]"
          ]
        },
        {
          "name": "stdout",
          "output_type": "stream",
          "text": [
            "Epoch [23/50], D Loss Real: 66.7925033569336, D Loss Fake: 163.2418670654297, G Loss: 66.61148071289062\n"
          ]
        },
        {
          "name": "stderr",
          "output_type": "stream",
          "text": [
            " 48%|████▊     | 24/50 [02:09<02:13,  5.14s/it]"
          ]
        },
        {
          "name": "stdout",
          "output_type": "stream",
          "text": [
            "Epoch [24/50], D Loss Real: 66.33729553222656, D Loss Fake: 164.05996704101562, G Loss: 66.16412353515625\n"
          ]
        },
        {
          "name": "stderr",
          "output_type": "stream",
          "text": [
            " 50%|█████     | 25/50 [02:14<02:08,  5.13s/it]"
          ]
        },
        {
          "name": "stdout",
          "output_type": "stream",
          "text": [
            "Epoch [25/50], D Loss Real: 65.93671417236328, D Loss Fake: 164.78269958496094, G Loss: 65.7736587524414\n"
          ]
        },
        {
          "name": "stderr",
          "output_type": "stream",
          "text": [
            " 52%|█████▏    | 26/50 [02:19<02:02,  5.11s/it]"
          ]
        },
        {
          "name": "stdout",
          "output_type": "stream",
          "text": [
            "Epoch [26/50], D Loss Real: 65.59295654296875, D Loss Fake: 165.41598510742188, G Loss: 65.43317413330078\n"
          ]
        },
        {
          "name": "stderr",
          "output_type": "stream",
          "text": [
            " 54%|█████▍    | 27/50 [02:24<01:56,  5.05s/it]"
          ]
        },
        {
          "name": "stdout",
          "output_type": "stream",
          "text": [
            "Epoch [27/50], D Loss Real: 65.2842788696289, D Loss Fake: 165.976806640625, G Loss: 65.13864135742188\n"
          ]
        },
        {
          "name": "stderr",
          "output_type": "stream",
          "text": [
            " 56%|█████▌    | 28/50 [02:29<01:49,  4.99s/it]"
          ]
        },
        {
          "name": "stdout",
          "output_type": "stream",
          "text": [
            "Epoch [28/50], D Loss Real: 65.02287292480469, D Loss Fake: 166.46923828125, G Loss: 64.87987518310547\n"
          ]
        },
        {
          "name": "stderr",
          "output_type": "stream",
          "text": [
            " 58%|█████▊    | 29/50 [02:34<01:44,  4.97s/it]"
          ]
        },
        {
          "name": "stdout",
          "output_type": "stream",
          "text": [
            "Epoch [29/50], D Loss Real: 64.78330993652344, D Loss Fake: 166.8948974609375, G Loss: 64.64779663085938\n"
          ]
        },
        {
          "name": "stderr",
          "output_type": "stream",
          "text": [
            " 60%|██████    | 30/50 [02:38<01:38,  4.93s/it]"
          ]
        },
        {
          "name": "stdout",
          "output_type": "stream",
          "text": [
            "Epoch [30/50], D Loss Real: 64.58702850341797, D Loss Fake: 167.2739715576172, G Loss: 64.4481201171875\n"
          ]
        },
        {
          "name": "stderr",
          "output_type": "stream",
          "text": [
            " 62%|██████▏   | 31/50 [02:44<01:34,  4.96s/it]"
          ]
        },
        {
          "name": "stdout",
          "output_type": "stream",
          "text": [
            "Epoch [31/50], D Loss Real: 64.40025329589844, D Loss Fake: 167.6094207763672, G Loss: 64.2759780883789\n"
          ]
        },
        {
          "name": "stderr",
          "output_type": "stream",
          "text": [
            " 64%|██████▍   | 32/50 [02:48<01:29,  4.95s/it]"
          ]
        },
        {
          "name": "stdout",
          "output_type": "stream",
          "text": [
            "Epoch [32/50], D Loss Real: 64.2323226928711, D Loss Fake: 167.89942932128906, G Loss: 64.11643981933594\n"
          ]
        },
        {
          "name": "stderr",
          "output_type": "stream",
          "text": [
            " 66%|██████▌   | 33/50 [02:53<01:23,  4.91s/it]"
          ]
        },
        {
          "name": "stdout",
          "output_type": "stream",
          "text": [
            "Epoch [33/50], D Loss Real: 64.09893035888672, D Loss Fake: 168.16053771972656, G Loss: 63.982242584228516\n"
          ]
        },
        {
          "name": "stderr",
          "output_type": "stream",
          "text": [
            " 68%|██████▊   | 34/50 [02:58<01:18,  4.89s/it]"
          ]
        },
        {
          "name": "stdout",
          "output_type": "stream",
          "text": [
            "Epoch [34/50], D Loss Real: 63.97647476196289, D Loss Fake: 168.3870391845703, G Loss: 63.86531066894531\n"
          ]
        },
        {
          "name": "stderr",
          "output_type": "stream",
          "text": [
            " 70%|███████   | 35/50 [03:03<01:12,  4.86s/it]"
          ]
        },
        {
          "name": "stdout",
          "output_type": "stream",
          "text": [
            "Epoch [35/50], D Loss Real: 63.86104965209961, D Loss Fake: 168.58534240722656, G Loss: 63.75811004638672\n"
          ]
        },
        {
          "name": "stderr",
          "output_type": "stream",
          "text": [
            " 72%|███████▏  | 36/50 [03:08<01:08,  4.87s/it]"
          ]
        },
        {
          "name": "stdout",
          "output_type": "stream",
          "text": [
            "Epoch [36/50], D Loss Real: 63.76409912109375, D Loss Fake: 168.7657928466797, G Loss: 63.6674919128418\n"
          ]
        },
        {
          "name": "stderr",
          "output_type": "stream",
          "text": [
            " 74%|███████▍  | 37/50 [03:13<01:02,  4.84s/it]"
          ]
        },
        {
          "name": "stdout",
          "output_type": "stream",
          "text": [
            "Epoch [37/50], D Loss Real: 63.67943572998047, D Loss Fake: 168.92088317871094, G Loss: 63.584373474121094\n"
          ]
        },
        {
          "name": "stderr",
          "output_type": "stream",
          "text": [
            " 76%|███████▌  | 38/50 [03:17<00:58,  4.84s/it]"
          ]
        },
        {
          "name": "stdout",
          "output_type": "stream",
          "text": [
            "Epoch [38/50], D Loss Real: 63.60956573486328, D Loss Fake: 169.05816650390625, G Loss: 63.513893127441406\n"
          ]
        },
        {
          "name": "stderr",
          "output_type": "stream",
          "text": [
            " 78%|███████▊  | 39/50 [03:22<00:53,  4.85s/it]"
          ]
        },
        {
          "name": "stdout",
          "output_type": "stream",
          "text": [
            "Epoch [39/50], D Loss Real: 63.537418365478516, D Loss Fake: 169.17794799804688, G Loss: 63.44990158081055\n"
          ]
        },
        {
          "name": "stderr",
          "output_type": "stream",
          "text": [
            " 80%|████████  | 40/50 [03:27<00:48,  4.84s/it]"
          ]
        },
        {
          "name": "stdout",
          "output_type": "stream",
          "text": [
            "Epoch [40/50], D Loss Real: 63.48252487182617, D Loss Fake: 169.2830047607422, G Loss: 63.39293670654297\n"
          ]
        },
        {
          "name": "stderr",
          "output_type": "stream",
          "text": [
            " 82%|████████▏ | 41/50 [03:32<00:43,  4.80s/it]"
          ]
        },
        {
          "name": "stdout",
          "output_type": "stream",
          "text": [
            "Epoch [41/50], D Loss Real: 63.42539596557617, D Loss Fake: 169.37750244140625, G Loss: 63.34262466430664\n"
          ]
        },
        {
          "name": "stderr",
          "output_type": "stream",
          "text": [
            " 84%|████████▍ | 42/50 [03:37<00:38,  4.77s/it]"
          ]
        },
        {
          "name": "stdout",
          "output_type": "stream",
          "text": [
            "Epoch [42/50], D Loss Real: 63.37322998046875, D Loss Fake: 169.46583557128906, G Loss: 63.300926208496094\n"
          ]
        },
        {
          "name": "stderr",
          "output_type": "stream",
          "text": [
            " 86%|████████▌ | 43/50 [03:41<00:33,  4.76s/it]"
          ]
        },
        {
          "name": "stdout",
          "output_type": "stream",
          "text": [
            "Epoch [43/50], D Loss Real: 63.339595794677734, D Loss Fake: 169.53900146484375, G Loss: 63.260498046875\n"
          ]
        },
        {
          "name": "stderr",
          "output_type": "stream",
          "text": [
            " 88%|████████▊ | 44/50 [03:46<00:28,  4.73s/it]"
          ]
        },
        {
          "name": "stdout",
          "output_type": "stream",
          "text": [
            "Epoch [44/50], D Loss Real: 63.29937744140625, D Loss Fake: 169.60391235351562, G Loss: 63.22505569458008\n"
          ]
        },
        {
          "name": "stderr",
          "output_type": "stream",
          "text": [
            " 90%|█████████ | 45/50 [03:51<00:23,  4.73s/it]"
          ]
        },
        {
          "name": "stdout",
          "output_type": "stream",
          "text": [
            "Epoch [45/50], D Loss Real: 63.26213073730469, D Loss Fake: 169.66358947753906, G Loss: 63.19425582885742\n"
          ]
        },
        {
          "name": "stderr",
          "output_type": "stream",
          "text": [
            " 92%|█████████▏| 46/50 [03:55<00:18,  4.72s/it]"
          ]
        },
        {
          "name": "stdout",
          "output_type": "stream",
          "text": [
            "Epoch [46/50], D Loss Real: 63.23274230957031, D Loss Fake: 169.7146759033203, G Loss: 63.16436767578125\n"
          ]
        },
        {
          "name": "stderr",
          "output_type": "stream",
          "text": [
            " 94%|█████████▍| 47/50 [04:00<00:14,  4.75s/it]"
          ]
        },
        {
          "name": "stdout",
          "output_type": "stream",
          "text": [
            "Epoch [47/50], D Loss Real: 63.201744079589844, D Loss Fake: 169.7618865966797, G Loss: 63.13963317871094\n"
          ]
        },
        {
          "name": "stderr",
          "output_type": "stream",
          "text": [
            " 96%|█████████▌| 48/50 [04:05<00:09,  4.75s/it]"
          ]
        },
        {
          "name": "stdout",
          "output_type": "stream",
          "text": [
            "Epoch [48/50], D Loss Real: 63.17633819580078, D Loss Fake: 169.803955078125, G Loss: 63.1156120300293\n"
          ]
        },
        {
          "name": "stderr",
          "output_type": "stream",
          "text": [
            " 98%|█████████▊| 49/50 [04:10<00:04,  4.73s/it]"
          ]
        },
        {
          "name": "stdout",
          "output_type": "stream",
          "text": [
            "Epoch [49/50], D Loss Real: 63.154727935791016, D Loss Fake: 169.8432159423828, G Loss: 63.09642028808594\n"
          ]
        },
        {
          "name": "stderr",
          "output_type": "stream",
          "text": [
            "100%|██████████| 50/50 [04:14<00:00,  5.10s/it]"
          ]
        },
        {
          "name": "stdout",
          "output_type": "stream",
          "text": [
            "Epoch [50/50], D Loss Real: 63.1355094909668, D Loss Fake: 169.8780975341797, G Loss: 63.07865524291992\n"
          ]
        },
        {
          "name": "stderr",
          "output_type": "stream",
          "text": [
            "\n"
          ]
        }
      ],
      "source": [
        "import torch\n",
        "import torch.nn as nn\n",
        "import torch.optim as optim\n",
        "import torch.nn.functional as F\n",
        "from torch.distributions import Gumbel\n",
        "num_features = attacks.shape[1]\n",
        "# Generator model\n",
        "\n",
        "class Generator(nn.Module):\n",
        "    def __init__(self, input_dim, num_features):\n",
        "        super(Generator, self).__init__()\n",
        "\n",
        "        self.hidden1 = nn.Linear(input_dim, 8000)\n",
        "        self.hidden2 = nn.Linear(8000, 80)\n",
        "\n",
        "        # SWaT\n",
        "        # self.sport_hidden = nn.Linear(10, 23030)\n",
        "        # self.dport_hidden = nn.Linear(10, 14372)\n",
        "        # self.proto_hidden = nn.Linear(10, 7)\n",
        "\n",
        "        # WUSTL\n",
        "        # self.sport_hidden = nn.Linear(10, 44536)\n",
        "        # self.dport_hidden = nn.Linear(10, 7756)\n",
        "        # self.proto_hidden = nn.Linear(10, 4)\n",
        "\n",
        "        # WADI\n",
        "        self.sport_hidden = nn.Linear(10, 3)\n",
        "        self.dport_hidden = nn.Linear(10, 1)\n",
        "        self.proto_hidden = nn.Linear(10, 1)\n",
        "\n",
        "        # SWaT sensor\n",
        "        # self.sport_hidden = nn.Linear(10, 3)\n",
        "        # self.dport_hidden = nn.Linear(10, 2)\n",
        "        # self.proto_hidden = nn.Linear(10, 12)\n",
        "\n",
        "        # self.sport_output = nn.Softmax(dim=1)\n",
        "        # self.dport_output = nn.Softmax(dim=1)\n",
        "        # self.proto_output = nn.Softmax(dim=1)\n",
        "\n",
        "        self.cont_output = nn.Linear(50, num_features - 3)\n",
        "\n",
        "    def forward(self, x):\n",
        "        x = torch.relu(self.hidden1(x))\n",
        "        x = torch.relu(self.hidden2(x))\n",
        "        # r = nn.LeakyReLU()\n",
        "        # x = r(self.hidden1(x))\n",
        "        # x = r(self.hidden2(x))\n",
        "        # print(x.shape)\n",
        "\n",
        "        _sport_hidden = self.sport_hidden(x[:,:10])\n",
        "        _dport_hidden = self.dport_hidden(x[:,10:20])\n",
        "\n",
        "        _proto_hidden = self.proto_hidden(x[:,20:30])\n",
        "\n",
        "\n",
        "        # sport_output = self.sport_output(sport_hidden)\n",
        "        # dport_output = self.dport_output(dport_hidden)\n",
        "        # proto_output = self.proto_output(proto_hidden)\n",
        "\n",
        "        # Do not apply torch.argmax here, let the loss function handle it\n",
        "        cont_output = self.cont_output(x[:,30:])\n",
        "        # cont_output = self.cont_output(x)\n",
        "\n",
        "        # Concatenate the tensors along dimension 1\n",
        "        output_tensor = torch.cat((_sport_hidden, _dport_hidden, _proto_hidden, cont_output), dim=1)\n",
        "        return output_tensor\n",
        "        # return sport_output, dport_output, proto_output, cont_output\n",
        "# Discriminator model\n",
        "class Discriminator(nn.Module):\n",
        "    def __init__(self, input_size, hidden_size=100, recurrent_dropout=0.4):\n",
        "        super(Discriminator, self).__init__()\n",
        "\n",
        "        # LSTM layers\n",
        "        self.lstm1 = nn.LSTM(input_size, hidden_size, batch_first=True, bidirectional=True, dropout=recurrent_dropout)\n",
        "        self.lstm2 = nn.LSTM(hidden_size * 2, hidden_size, batch_first=True, bidirectional=True, dropout=recurrent_dropout)\n",
        "\n",
        "        # Batch normalization layers\n",
        "        self.batch_norm1 = nn.BatchNorm1d(hidden_size * 2)\n",
        "        self.batch_norm2 = nn.BatchNorm1d(hidden_size * 2)\n",
        "\n",
        "        # Linear output layer\n",
        "        self.output_layer = nn.Linear(hidden_size * 2, 1)\n",
        "\n",
        "    def forward(self, x):\n",
        "\n",
        "\n",
        "        # LSTM layers\n",
        "        out, _ = self.lstm1(x)\n",
        "        # print(out.shape)\n",
        "        out = self.batch_norm1(out)\n",
        "        # print(out.shape)\n",
        "        out, _ = self.lstm2(out)\n",
        "        # print(out.shape)\n",
        "        out = self.batch_norm2(out)\n",
        "        # print(out.shape)\n",
        "\n",
        "        # Global average pooling\n",
        "        # out = torch.mean(out, dim=1)\n",
        "        # print(out.shape)\n",
        "        # Output layer\n",
        "        # out = self.output_layer(out)\n",
        "        out = torch.sigmoid(self.output_layer(out))\n",
        "\n",
        "\n",
        "        return out  # Fix for the dimension mismatch\n",
        "\n",
        "# Hyperparameters\n",
        "latent_dim = 100\n",
        "data_dim = len(dataset[1])\n",
        "lr = 0.00002\n",
        "batch_size = 64\n",
        "epochs = 50\n",
        "discriminator_loops = 1\n",
        "\n",
        "# Models\n",
        "generator = Generator(latent_dim, num_features)\n",
        "discriminator = Discriminator(data_dim)\n",
        "max_grad_norm = 1.0\n",
        "# Loss function and optimizers\n",
        "criterion = nn.BCELoss()\n",
        "# criterion = nn.HuberLoss()\n",
        "# criterion_gen = nn.SmoothL1Loss()\n",
        "criterion_gen = nn.BCELoss()\n",
        "# criterion_gen = nn.HuberLoss()\n",
        "# criterion = nn.CrossEntropyLoss()\n",
        "optimizer_g = optim.Adam(generator.parameters(), lr=lr)\n",
        "optimizer_d = optim.Adam(discriminator.parameters(), lr=lr)\n",
        "\n",
        "# Training loop\n",
        "import csv\n",
        "import copy\n",
        "from tqdm import tqdm\n",
        "parameters_list = []\n",
        "disc_parameters_list = []\n",
        "dlosses = []\n",
        "glosses = []\n",
        "dlosses_fake = []\n",
        "dlosses_real = []\n",
        "gl = []\n",
        "\n",
        "generator.train()\n",
        "discriminator.train()\n",
        "for epoch in tqdm(range(epochs)):\n",
        "    total_loss_fake = 0\n",
        "    total_loss_real = 0\n",
        "    total_loss_gen = 0\n",
        "    for batch in data_loader:\n",
        "        # Train Discriminator\n",
        "        for _ in range(discriminator_loops):\n",
        "            real_data = batch\n",
        "            real_labels = torch.ones((batch_size, 1))\n",
        "            fake_labels = torch.zeros((batch_size, 1))\n",
        "\n",
        "            optimizer_d.zero_grad()\n",
        "\n",
        "            # Real data\n",
        "            # print(\"Real data: \", real_data.shape)\n",
        "            output_real = discriminator(real_data)\n",
        "            # print(output_real)\n",
        "            loss_real = criterion(output_real, real_labels)\n",
        "            # print(\"Loss:\", loss_real.item())\n",
        "            loss_real.backward()\n",
        "            torch.nn.utils.clip_grad_norm_(discriminator.parameters(), 1.0)\n",
        "            optimizer_d.step()\n",
        "            # print(\"Gradients of a specific layer:\", generator.hidden1.weight.grad)\n",
        "            total_loss_real+=loss_real\n",
        "\n",
        "            # Fake data\n",
        "            noise = torch.randn(batch_size, latent_dim)\n",
        "            output = generator(noise)\n",
        "\n",
        "            # SWaT\n",
        "            # sport_output = F.softmax(output[:, :23030], dim=1)\n",
        "            # dport_output = F.softmax(output[:, 23030:23030+14372], dim=1)\n",
        "            # proto_output = F.softmax(output[:, 23030+14372:23030+14372+7], dim=1)\n",
        "            # cont_output = output[:, 23030+14372+7:]\n",
        "\n",
        "            # WUSTL\n",
        "            # sport_output = F.softmax(output[:, :44536], dim=1)\n",
        "            # dport_output = F.softmax(output[:, 44536:44536+7756], dim=1)\n",
        "            # proto_output = F.softmax(output[:, 44536+7756:44536+7756+4], dim=1)\n",
        "            # cont_output = output[:, 44536+7756+4:]\n",
        "\n",
        "            # WADI\n",
        "            sport_output = F.softmax(output[:, :3], dim=1)\n",
        "            dport_output = F.softmax(output[:, 3:3+1], dim=1)\n",
        "            proto_output = F.softmax(output[:, 3+1:3+1+1], dim=1)\n",
        "            cont_output = output[:, 3+1+1:]\n",
        "\n",
        "            # SWaT sensor\n",
        "            # sport_output = F.softmax(output[:, :3], dim=1)\n",
        "            # dport_output = F.softmax(output[:, 3:3+2], dim=1)\n",
        "            # proto_output = F.softmax(output[:, 3+2:3+2+12], dim=1)\n",
        "            # cont_output = output[:, 3+2+12:]\n",
        "\n",
        "            fake_data = torch.cat((sport_output, dport_output, proto_output, cont_output), dim=1)\n",
        "\n",
        "            output_fake = discriminator(fake_data)\n",
        "            # print(output_fake)\n",
        "            # print(fake_labels)\n",
        "            loss_fake = criterion(output_fake, fake_labels)\n",
        "            loss_fake.backward()\n",
        "            torch.nn.utils.clip_grad_norm_(discriminator.parameters(), 1.0)\n",
        "            total_loss_fake+=loss_fake\n",
        "            # print(\"Gradients of a specific layer:\", generator.hidden1.weight.grad)\n",
        "            optimizer_d.step()\n",
        "\n",
        "        # Train Generator\n",
        "        optimizer_g.zero_grad()\n",
        "        # generated_data = generator(noise)\n",
        "        output = generator(noise)\n",
        "        # print(fake_data.shape)\n",
        "\n",
        "        # SWaT\n",
        "        # sport_output = F.softmax(output[:, :23030], dim=1)\n",
        "        # dport_output = F.softmax(output[:, 23030:23030+14372], dim=1)\n",
        "        # proto_output = F.softmax(output[:, 23030+14372:23030+14372+7], dim=1)\n",
        "        # cont_output = output[:, 23030+14372+7:]\n",
        "\n",
        "        # WUSTL\n",
        "        # sport_output = F.softmax(output[:, :44536], dim=1)\n",
        "        # dport_output = F.softmax(output[:, 44536:44536+7756], dim=1)\n",
        "        # proto_output = F.softmax(output[:, 44536+7756:44536+7756+4], dim=1)\n",
        "        # cont_output = output[:, 44536+7756+4:]\n",
        "\n",
        "        # WADI\n",
        "        sport_output = F.softmax(output[:, :3], dim=1)\n",
        "        dport_output = F.softmax(output[:, 3:3+1], dim=1)\n",
        "        proto_output = F.softmax(output[:, 3+1:3+1+1], dim=1)\n",
        "        cont_output = output[:, 3+1+1:]\n",
        "\n",
        "        # SWaT sensor\n",
        "        # sport_output = F.softmax(output[:, :3], dim=1)\n",
        "        # dport_output = F.softmax(output[:, 3:3+2], dim=1)\n",
        "        # proto_output = F.softmax(output[:, 3+2:3+2+12], dim=1)\n",
        "        # cont_output = output[:, 3+2+12:]\n",
        "\n",
        "\n",
        "        # temperature = 1.0  # You can adjust the temperature hyperparameter\n",
        "        # gumbel_dist = Gumbel(0, 1).sample(sport_hidden.shape)\n",
        "        # sport_output = F.softmax((sport_hidden + gumbel_dist) / temperature, dim=1)\n",
        "\n",
        "        # gumbel_dist = Gumbel(0, 1).sample(dport_hidden.shape)\n",
        "        # dport_output = F.softmax((dport_hidden + gumbel_dist) / temperature, dim=1)\n",
        "\n",
        "        # gumbel_dist = Gumbel(0, 1).sample(proto_hidden.shape)\n",
        "        # proto_output = F.softmax((proto_hidden + gumbel_dist) / temperature, dim=1)\n",
        "\n",
        "        # generated_data = torch.cat((differentiable_argmax(sport_output).unsqueeze(1),differentiable_argmax(dport_output)[:,1].unsqueeze(1),differentiable_argmax(proto_output)[:,1].unsqueeze(1), cont_output), dim=1)\n",
        "        # generated_data = torch.cat((sport_output[:,1].unsqueeze(1),dport_output[:,2].unsqueeze(1),proto_output[:,3].unsqueeze(1),cont_output), dim=1)\n",
        "        generated_data = torch.cat((sport_output, dport_output, proto_output, cont_output), dim=1)\n",
        "        # print(generated_data.shape)\n",
        "\n",
        "\n",
        "        # generated_data = convert_generator_output(generator(noise))\n",
        "        # print(generated_data.shape)\n",
        "        output_generated = discriminator(generated_data)\n",
        "        # loss_gen = criterion(output_generated, real_labels)\n",
        "        loss_gen = criterion_gen(output_generated, real_labels.float())\n",
        "        # print(\"Discriminator Output:\", output_generated)\n",
        "        # print(\"Real Labels:\", real_labels)\n",
        "        # print(\"Loss:\", loss_gen.item())\n",
        "        loss_gen.backward()\n",
        "        torch.nn.utils.clip_grad_norm_(generator.parameters(), 1.0)\n",
        "        # torch.nn.utils.clip_grad_norm_([generator.sport_hidden.weight], max_grad_norm)\n",
        "        total_loss_gen+=loss_gen\n",
        "        # for param in generator.sport_hidden.parameters():\n",
        "        #   print(param.requires_grad)\n",
        "        # for name, param in generator.named_parameters():\n",
        "        #   if name == 'sport_hidden.weight':\n",
        "        #       print(name, param.requires_grad)\n",
        "        #       print(name, param.grad)\n",
        "        #       print(f\"{name} - Gradient Statistics: Mean={param.grad.mean()}, Std={param.grad.std()}, Min={param.grad.min()}, Max={param.grad.max()}\")\n",
        "\n",
        "        # asdasdasd\n",
        "        # print(\"Gradients of a specific layer:\", generator.sport_hidden.weight.grad)\n",
        "        optimizer_g.step()\n",
        "\n",
        "    # Print losses at the end of each epoch\n",
        "    print(f\"Epoch [{epoch+1}/{epochs}], D Loss Real: {total_loss_real}, D Loss Fake: {total_loss_fake}, G Loss: {total_loss_gen}\")\n",
        "    # print(f\"\\nEpoch {epoch + 1} - Parameters of Generator:\\n\")\n",
        "    epoch_parameters = {\"Epoch\": epoch + 1}\n",
        "    # epoch_parameters = {}\n",
        "    for name, param in generator.named_parameters():\n",
        "        # print(name, param.data)\n",
        "        # Store parameters in the dictionary\n",
        "        # epoch_parameters[\"Epoch\"] = epoch + 1\n",
        "        # epoch_parameters[name] = param.data\n",
        "        epoch_parameters[name] = copy.deepcopy(param.data.numpy())\n",
        "\n",
        "    disc_params = {\"Epoch\": epoch + 1}\n",
        "    for name, param in discriminator.named_parameters():\n",
        "        disc_params[name] = copy.deepcopy(param.data.numpy())\n",
        "\n",
        "    # Append epoch parameters to the dictionary\n",
        "    parameters_list.append(epoch_parameters)\n",
        "    disc_parameters_list.append(disc_params)\n",
        "    dlosses.append(loss_real + loss_fake)\n",
        "    glosses.append(loss_gen)\n",
        "\n",
        "    dlosses_fake.append(total_loss_fake)\n",
        "    dlosses_real.append(total_loss_real)\n",
        "    gl.append(total_loss_gen)"
      ]
    },
    {
      "cell_type": "code",
      "execution_count": 223,
      "metadata": {},
      "outputs": [],
      "source": [
        "# import csv\n",
        "\n",
        "# with open('params.csv','w') as f:\n",
        "#     w = csv.writer(f)\n",
        "#     for epoch in parameters_list:\n",
        "#         w.writerows(epoch.items())\n",
        "\n",
        "# with open('disc_params.csv', 'w') as f:\n",
        "#     w = csv.writer(f)\n",
        "#     for epoch in disc_parameters_list:\n",
        "#         w.writerows(epoch.items())"
      ]
    },
    {
      "cell_type": "code",
      "execution_count": 242,
      "metadata": {},
      "outputs": [],
      "source": [
        "dl_real = [var.detach().numpy() for var in dlosses_real]\n",
        "dl_fake = [var.detach().numpy() for var in dlosses_fake]\n",
        "dl_total = np.asarray(dl_real) + np.asarray(dl_fake)\n",
        "gls = [var.detach().numpy() for var in gl]"
      ]
    },
    {
      "cell_type": "code",
      "execution_count": 245,
      "metadata": {},
      "outputs": [
        {
          "data": {
            "image/png": "[encoded data removed]",
            "text/plain": [
              "<Figure size 640x480 with 3 Axes>"
            ]
          },
          "metadata": {},
          "output_type": "display_data"
        }
      ],
      "source": [
        "f, (ax1, ax2, ax3) = plt.subplots(3, 1, sharex=True, layout=\"tight\")\n",
        "# f.tight_layout()\n",
        "ax1.plot(dl_real, label=\"Discriminator loss on real data\")\n",
        "ax2.plot(dl_fake, label=\"Discriminator loss on fake data\")\n",
        "ax3.plot(gls,label=\"Generator loss\")\n",
        "ax3.set_xlabel(\"Epoch\")\n",
        "ax1.set_ylabel(\"Loss\")\n",
        "ax2.set_ylabel(\"Loss\")\n",
        "ax3.set_ylabel(\"Loss\")\n",
        "ax1.legend()\n",
        "ax2.legend(loc=\"lower right\")\n",
        "ax3.legend()\n",
        "# f.savefig(\"gan_softmax_wadi_50.png\")"
      ]
    },
    {
      "cell_type": "code",
      "execution_count": 244,
      "metadata": {},
      "outputs": [
        {
          "data": {
            "image/png": "[encoded data removed]",
            "text/plain": [
              "<Figure size 640x480 with 1 Axes>"
            ]
          },
          "metadata": {},
          "output_type": "display_data"
        }
      ],
      "source": [
        "plt.plot(dl_real, label=\"Discriminator loss on real data\")\n",
        "plt.plot(dl_fake, label=\"Discriminator loss on fake data\")\n",
        "plt.plot(gls, label=\"Generator loss\")\n",
        "# plt.plot(dl_total)\n",
        "plt.xlabel(\"Epoch\")\n",
        "plt.ylabel(\"Loss\")\n",
        "plt.legend()\n",
        "plt.show()"
      ]
    },
    {
      "cell_type": "code",
      "execution_count": 228,
      "metadata": {},
      "outputs": [
        {
          "data": {
            "text/plain": [
              "[<matplotlib.lines.Line2D at 0x711a7c8b2790>]"
            ]
          },
          "execution_count": 228,
          "metadata": {},
          "output_type": "execute_result"
        },
        {
          "data": {
            "image/png": "[encoded data removed]",
            "text/plain": [
              "<Figure size 640x480 with 1 Axes>"
            ]
          },
          "metadata": {},
          "output_type": "display_data"
        }
      ],
      "source": [
        "dl = [dloss.detach().numpy() for dloss in dlosses]\n",
        "gl = [gloss.detach().numpy() for gloss in glosses]\n",
        "plt.plot(gl)\n",
        "plt.plot(dl)"
      ]
    },
    {
      "cell_type": "code",
      "execution_count": null,
      "metadata": {
        "colab": {
          "base_uri": "https://localhost:8080/",
          "height": 0
        },
        "id": "fxk8GIpLmreu",
        "outputId": "ed0ff371-daf9-47b2-9c6c-6c9a7826c92b"
      },
      "outputs": [],
      "source": [
        "# csv_file_path = \"generator_parameters_1.csv\"\n",
        "# with open(csv_file_path, mode='w', newline='') as csv_file:\n",
        "#     fieldnames = [\"Epoch\"] + list(generator.state_dict().keys())\n",
        "#     csv_writer = csv.DictWriter(csv_file, fieldnames=fieldnames)\n",
        "#     print(fieldnames)\n",
        "#     # Write the header\n",
        "#     csv_writer.writeheader()\n",
        "\n",
        "#     # Write parameters for each epoch\n",
        "#     for i in parameters_list:\n",
        "#       # print(i)\n",
        "#       # for key in i.keys():\n",
        "#       # print(i.values())\n",
        "#       print(i.keys())\n",
        "#       row = {}\n",
        "#       for key in i.keys():\n",
        "#         row[key] = i[key]\n",
        "#       print(row.keys())\n",
        "#       csv_writer.writerow(i)\n",
        "\n",
        "#       # exit\n",
        "#       # csv_writer.writerows(i.values())"
      ]
    },
    {
      "cell_type": "code",
      "execution_count": 69,
      "metadata": {},
      "outputs": [],
      "source": [
        "def convert_softmax_output_swat(tens):\n",
        "\n",
        "    output = np.asarray([var.detach().numpy() for var in tens])\n",
        "\n",
        "    sport = output[:, :23030]\n",
        "    dport = output[:, 23030:23030+14372]\n",
        "    proto = output[:, 23030+14372:23030+14372+7]\n",
        "    cont = output[:, 23030+14372+7:]\n",
        "\n",
        "    num_samples = sport.shape[0]\n",
        "\n",
        "    sport_select = np.argmax(sport, axis=1)\n",
        "    dport_select = np.argmax(dport, axis=1)\n",
        "    proto_select = np.argmax(proto, axis=1)\n",
        "\n",
        "    return np.hstack((sport_select.reshape(num_samples, 1), dport_select.reshape(num_samples, 1), proto_select.reshape(num_samples, 1), cont))\n",
        "\n",
        "def convert_softmax_output_wustl(tens):\n",
        "\n",
        "    output = np.asarray([var.detach().numpy() for var in tens])\n",
        "\n",
        "    sport = output[:, :44536]\n",
        "    dport = output[:, 44536:44536+7756]\n",
        "    proto = output[:, 44536+7756:44536+7756+4]\n",
        "    cont = output[:, 44536+7756+4:]\n",
        "\n",
        "    num_samples = sport.shape[0]\n",
        "\n",
        "    sport_select = np.argmax(sport, axis=1)\n",
        "    dport_select = np.argmax(dport, axis=1)\n",
        "    proto_select = np.argmax(proto, axis=1)\n",
        "\n",
        "    return np.hstack((sport_select.reshape(num_samples, 1), dport_select.reshape(num_samples, 1), proto_select.reshape(num_samples, 1), cont))\n",
        "\n",
        "def convert_softmax_output_wadi(tens):\n",
        "\n",
        "    output = np.asarray([var.detach().numpy() for var in tens])\n",
        "\n",
        "    sport = output[:, :3]\n",
        "    dport = output[:, 3:3+1]\n",
        "    proto = output[:, 3+1:3+1+1]\n",
        "    cont = output[:, 3+1+1:]\n",
        "\n",
        "    num_samples = sport.shape[0]\n",
        "\n",
        "    sport_select = np.argmax(sport, axis=1)\n",
        "    dport_select = np.argmax(dport, axis=1)\n",
        "    proto_select = np.argmax(proto, axis=1)\n",
        "\n",
        "    return np.hstack((sport_select.reshape(num_samples, 1), dport_select.reshape(num_samples, 1), proto_select.reshape(num_samples, 1), cont))\n",
        "\n",
        "def convert_softmax_output_swat_sensor(tens):\n",
        "\n",
        "    output = np.asarray([var.detach().numpy() for var in tens])\n",
        "\n",
        "    sport = output[:, :3]\n",
        "    dport = output[:, 3:3+2]\n",
        "    proto = output[:, 3+2:3+2+12]\n",
        "    cont = output[:, 3+2+12:]\n",
        "\n",
        "    num_samples = sport.shape[0]\n",
        "\n",
        "    sport_select = np.argmax(sport, axis=1)\n",
        "    dport_select = np.argmax(dport, axis=1)\n",
        "    proto_select = np.argmax(proto, axis=1)\n",
        "\n",
        "    return np.hstack((sport_select.reshape(num_samples, 1), dport_select.reshape(num_samples, 1), proto_select.reshape(num_samples, 1), cont))"
      ]
    },
    {
      "cell_type": "code",
      "execution_count": 229,
      "metadata": {},
      "outputs": [
        {
          "data": {
            "text/plain": [
              "KstestResult(statistic=0.7934857142857143, pvalue=0.0, statistic_location=0.37703365087509155, statistic_sign=-1)"
            ]
          },
          "execution_count": 229,
          "metadata": {},
          "output_type": "execute_result"
        }
      ],
      "source": [
        "import scipy\n",
        "test_noise = torch.randn(test_dataset.shape[0], latent_dim)\n",
        "preds = generator(test_noise)\n",
        "data = convert_softmax_output_swat_sensor(preds)\n",
        "scipy.stats.ks_2samp(test_dataset.reshape(preds.shape[0]*num_features,), data.reshape(preds.shape[0]*num_features,))"
      ]
    },
    {
      "cell_type": "code",
      "execution_count": 208,
      "metadata": {
        "id": "PCpmnS0K_ywD"
      },
      "outputs": [],
      "source": [
        "# df = pd.DataFrame(data)\n",
        "# df.to_csv(\"gan_softmax_swat_50.csv\", index=False)"
      ]
    }
  ],
  "metadata": {
    "colab": {
      "provenance": []
    },
    "kernelspec": {
      "display_name": "ankh-morpork",
      "language": "python",
      "name": "python3"
    },
    "language_info": {
      "codemirror_mode": {
        "name": "ipython",
        "version": 3
      },
      "file_extension": ".py",
      "mimetype": "text/x-python",
      "name": "python",
      "nbconvert_exporter": "python",
      "pygments_lexer": "ipython3",
      "version": "3.11.6"
    }
  },
  "nbformat": 4,
  "nbformat_minor": 0
}
