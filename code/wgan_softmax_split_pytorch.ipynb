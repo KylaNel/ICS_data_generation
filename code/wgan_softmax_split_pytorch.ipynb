{
  "cells": [
    {
      "cell_type": "code",
      "execution_count": 2,
      "metadata": {
        "id": "XpnS3F54NaTT"
      },
      "outputs": [
        {
          "name": "stderr",
          "output_type": "stream",
          "text": [
            "2024-03-11 20:44:29.626056: I tensorflow/tsl/cuda/cudart_stub.cc:28] Could not find cuda drivers on your machine, GPU will not be used.\n",
            "2024-03-11 20:44:29.649947: E tensorflow/compiler/xla/stream_executor/cuda/cuda_dnn.cc:9342] Unable to register cuDNN factory: Attempting to register factory for plugin cuDNN when one has already been registered\n",
            "2024-03-11 20:44:29.649973: E tensorflow/compiler/xla/stream_executor/cuda/cuda_fft.cc:609] Unable to register cuFFT factory: Attempting to register factory for plugin cuFFT when one has already been registered\n",
            "2024-03-11 20:44:29.649990: E tensorflow/compiler/xla/stream_executor/cuda/cuda_blas.cc:1518] Unable to register cuBLAS factory: Attempting to register factory for plugin cuBLAS when one has already been registered\n",
            "2024-03-11 20:44:29.655080: I tensorflow/core/platform/cpu_feature_guard.cc:182] This TensorFlow binary is optimized to use available CPU instructions in performance-critical operations.\n",
            "To enable the following instructions: AVX2 FMA, in other operations, rebuild TensorFlow with the appropriate compiler flags.\n",
            "2024-03-11 20:44:30.395886: W tensorflow/compiler/tf2tensorrt/utils/py_utils.cc:38] TF-TRT Warning: Could not find TensorRT\n"
          ]
        }
      ],
      "source": [
        "import numpy as np\n",
        "import matplotlib.pyplot as plt\n",
        "import pandas as pd\n",
        "import tensorflow as tf\n",
        "from sklearn import preprocessing\n",
        "\n",
        "%matplotlib inline"
      ]
    },
    {
      "cell_type": "code",
      "execution_count": 3,
      "metadata": {
        "id": "Ir3cCqLKNaTT"
      },
      "outputs": [],
      "source": [
        "attacks = pd.read_csv(\"/home/knel/virtual_envs/ankh-morpork/ICS_data_generation/data/wustl_attacks.csv\", sep=\",\", skiprows=[0])"
      ]
    },
    {
      "cell_type": "code",
      "execution_count": 4,
      "metadata": {
        "id": "PlGx2v1BNaTT"
      },
      "outputs": [],
      "source": [
        "attacks = preprocessing.normalize(attacks.to_numpy()[:, 1:], norm=\"max\", axis=0)\n",
        "\n",
        "# # swap sport to front\n",
        "# attacks[:, [0, 1]] = attacks[:, [1, 0]]\n",
        "# # swap dport to after sport\n",
        "# attacks[:, [1, 2]] = attacks[:, [2, 1]]\n",
        "# # swap protocols to after dport\n",
        "# attacks[:, [2, 14]] = attacks[:, [14, 2]]\n",
        "\n",
        "# column order now -> sport, dport, protocols, continuous (discrete, discrete, discrete, continuous)\n",
        "\n",
        "\n",
        "\n",
        "# should probably add batch and shuffle\n",
        "\n",
        "train_dataset = attacks[:int(np.floor(attacks.shape[0]*3/4))]\n",
        "test_dataset = attacks[-5000:]\n",
        "\n",
        "num_features = attacks[:int(np.floor(attacks.shape[0]*3/4))].shape[1]\n",
        "seq_length = 10"
      ]
    },
    {
      "cell_type": "code",
      "execution_count": 5,
      "metadata": {
        "colab": {
          "base_uri": "https://localhost:8080/"
        },
        "id": "Ifqu0pgzNaTT",
        "outputId": "2ec21186-565b-4bc1-e717-e15a2ba5dea6"
      },
      "outputs": [
        {
          "data": {
            "text/plain": [
              "(65261, 5000)"
            ]
          },
          "execution_count": 5,
          "metadata": {},
          "output_type": "execute_result"
        }
      ],
      "source": [
        "len(train_dataset), len(test_dataset)"
      ]
    },
    {
      "cell_type": "code",
      "execution_count": 5,
      "metadata": {
        "colab": {
          "base_uri": "https://localhost:8080/"
        },
        "id": "lRR0cUA17sWo",
        "outputId": "7f31e18a-f1c4-4b54-de4a-1f4173faa25e"
      },
      "outputs": [
        {
          "data": {
            "text/plain": [
              "array([2.71767327e-01, 7.66154879e-03, 8.27653359e-03, 8.00000000e-01,\n",
              "       7.60913096e-03, 3.76573184e-03, 8.50432283e-03, 6.94274362e-05,\n",
              "       1.53165877e-05, 1.53165877e-05, 1.53165870e-05, 1.53165870e-05,\n",
              "       0.00000000e+00, 0.00000000e+00, 0.00000000e+00, 2.77274300e-02,\n",
              "       8.43319240e-03, 9.59523343e-01, 9.99938846e-01, 9.59523343e-01,\n",
              "       9.59523343e-01, 9.59523343e-01, 3.33333333e-01, 3.85114806e-02,\n",
              "       2.97226418e-05, 9.59523343e-01, 2.77274300e-02])"
            ]
          },
          "execution_count": 5,
          "metadata": {},
          "output_type": "execute_result"
        }
      ],
      "source": [
        "train_dataset[2]"
      ]
    },
    {
      "cell_type": "code",
      "execution_count": 6,
      "metadata": {
        "colab": {
          "base_uri": "https://localhost:8080/"
        },
        "id": "wTZSt9lp71rK",
        "outputId": "ae479dd0-cd5f-4cfd-cc3f-2b345b0c7a70"
      },
      "outputs": [
        {
          "data": {
            "text/plain": [
              "array([4.75905637e-01, 7.66154879e-03, 8.27653359e-03, 4.00000000e-01,\n",
              "       4.50540649e-03, 2.22970964e-03, 4.99717308e-03, 4.07958307e-05,\n",
              "       1.50599124e-05, 1.50599124e-05, 1.51733500e-05, 1.51733500e-05,\n",
              "       0.00000000e+00, 0.00000000e+00, 0.00000000e+00, 1.83647165e-02,\n",
              "       7.88910350e-03, 5.68234365e-01, 9.99939177e-01, 5.68234365e-01,\n",
              "       5.68234365e-01, 5.68234365e-01, 8.90196078e-01, 2.28028504e-02,\n",
              "       1.75989326e-05, 5.68234365e-01, 1.83647165e-02])"
            ]
          },
          "execution_count": 6,
          "metadata": {},
          "output_type": "execute_result"
        }
      ],
      "source": [
        "train_dataset[3]"
      ]
    },
    {
      "cell_type": "code",
      "execution_count": 7,
      "metadata": {
        "id": "5FZs594sNaTU"
      },
      "outputs": [],
      "source": [
        "# custom loss\n",
        "def wasserstein_loss(y_true, y_pred):\n",
        "    return tf.keras.backend.mean(y_true * y_pred)"
      ]
    },
    {
      "cell_type": "code",
      "execution_count": 8,
      "metadata": {
        "id": "IPAYKjg2NaTU"
      },
      "outputs": [],
      "source": [
        "# clip model weights to a given hypercube\n",
        "class ClipConstraint(tf.keras.constraints.Constraint):\n",
        "\t# set clip value when initialized\n",
        "\tdef __init__(self, clip_value):\n",
        "\t\tself.clip_value = clip_value\n",
        "\n",
        "\t# clip model weights to hypercube\n",
        "\tdef __call__(self, weights):\n",
        "\t\treturn tf.keras.backend.clip(weights, -self.clip_value, self.clip_value)\n",
        "\n",
        "\t# get the config\n",
        "\tdef get_config(self):\n",
        "\t\treturn {'clip_value': self.clip_value}"
      ]
    },
    {
      "cell_type": "code",
      "execution_count": 9,
      "metadata": {
        "id": "HRvc7NspNaTV"
      },
      "outputs": [],
      "source": [
        "# Wasserstein loss for critic\n",
        "def critic_loss(pred_real, pred_fake):\n",
        "    return tf.keras.backend.mean(pred_real * pred_fake)\n",
        "\n",
        "# Wasserstein loss for generator\n",
        "def generator_loss(pred_fake):\n",
        "    return -tf.keras.backend.mean(pred_fake)"
      ]
    },
    {
      "cell_type": "code",
      "execution_count": 10,
      "metadata": {
        "id": "XgCI_3rzNaTV"
      },
      "outputs": [],
      "source": [
        "generator_optimiser = tf.keras.optimizers.legacy.RMSprop(learning_rate=0.00005)\n",
        "critic_optimiser = tf.keras.optimizers.legacy.RMSprop(learning_rate=0.00005)\n",
        "generator_optimizer = tf.keras.optimizers.Adam(learning_rate=0.0001)"
      ]
    },
    {
      "cell_type": "code",
      "execution_count": 6,
      "metadata": {
        "id": "xlMvaNXAMG9F"
      },
      "outputs": [],
      "source": [
        "import torch\n",
        "from torch.utils.data import Dataset, DataLoader\n",
        "\n",
        "class Dataset(Dataset):\n",
        "    def __init__(self, _data, num_classes_list):\n",
        "        self.data = torch.tensor(_data, dtype=torch.float32)\n",
        "        self.num_classes_list = num_classes_list\n",
        "\n",
        "    def __len__(self):\n",
        "        return len(self.data)\n",
        "\n",
        "    def __getitem__(self, idx):\n",
        "        sample = self.data[idx]\n",
        "\n",
        "        # One-hot encode each of the first three values with different num_classes\n",
        "        one_hot_encoded_1 = torch.nn.functional.one_hot(sample[0].long(), self.num_classes_list[0])\n",
        "        one_hot_encoded_2 = torch.nn.functional.one_hot(sample[1].long(), self.num_classes_list[1])\n",
        "        one_hot_encoded_3 = torch.nn.functional.one_hot(sample[2].long(), self.num_classes_list[2])\n",
        "        # print(\"1 :\",one_hot_encoded_1.shape)\n",
        "        # print(\"2 :\",one_hot_encoded_2.shape)\n",
        "        # print(\"3 :\",one_hot_encoded_3.shape)\n",
        "        # print(\"4 :\",sample[3:].shape)\n",
        "        # Concatenate one-hot encoding with the remaining values\n",
        "        modified_sample = torch.cat((one_hot_encoded_1.float(), one_hot_encoded_2.float(), one_hot_encoded_3.float(), sample[3:]))\n",
        "\n",
        "        return modified_sample\n",
        "\n",
        "data = np.array(train_dataset[:10000])\n",
        "\n",
        "# SWaT\n",
        "# dataset = Dataset(data,[23030, 14372, 7])\n",
        "\n",
        "# WUSTL\n",
        "dataset = Dataset(data,[44536, 7756, 4])\n",
        "\n",
        "batch_size = 64\n",
        "data_loader = DataLoader(dataset, batch_size=batch_size, shuffle=True, num_workers=4, drop_last=True)\n"
      ]
    },
    {
      "cell_type": "code",
      "execution_count": 12,
      "metadata": {
        "id": "99r4Yc1VZwbI"
      },
      "outputs": [],
      "source": [
        "def differentiable_argmax(gumbel_softmax_sample):\n",
        "    _, max_indices = gumbel_softmax_sample.max(dim=-1, keepdim=True)\n",
        "    one_hot = torch.zeros_like(gumbel_softmax_sample).scatter_(-1, max_indices, 1.0)\n",
        "    return one_hot - gumbel_softmax_sample.detach() + gumbel_softmax_sample"
      ]
    },
    {
      "cell_type": "code",
      "execution_count": 13,
      "metadata": {
        "id": "fPfL8QW8uaqN"
      },
      "outputs": [],
      "source": [
        "def convert_generator_output(output_tensors):\n",
        "    sport_dist, dport_dist, proto_dist, cont = output_tensors\n",
        "    num_samples = sport_dist.size(0)\n",
        "    final = torch.zeros((num_samples, 22))\n",
        "\n",
        "    for sample_index in range(num_samples):\n",
        "        sport = torch.argmax(sport_dist[sample_index]) + 1\n",
        "        dport = torch.argmax(dport_dist[sample_index]) + 1\n",
        "        proto = torch.argmax(proto_dist[sample_index]) + 1\n",
        "\n",
        "        data_point = torch.cat((sport.view(1), dport.view(1), proto.view(1), cont[sample_index]))\n",
        "        final[sample_index] = data_point\n",
        "\n",
        "    return final"
      ]
    },
    {
      "cell_type": "code",
      "execution_count": 7,
      "metadata": {
        "colab": {
          "base_uri": "https://localhost:8080/",
          "height": 0
        },
        "id": "4Ee-uh20Eaih",
        "outputId": "60068658-63de-4999-c86d-67599f7dad72"
      },
      "outputs": [
        {
          "name": "stderr",
          "output_type": "stream",
          "text": [
            "/home/knel/virtual_envs/ankh-morpork/lib/python3.11/site-packages/torch/nn/modules/rnn.py:82: UserWarning: dropout option adds dropout after all but last recurrent layer, so non-zero dropout expects num_layers greater than 1, but got dropout=0.4 and num_layers=1\n",
            "  warnings.warn(\"dropout option adds dropout after all but last \"\n",
            " 20%|██        | 1/5 [02:00<08:03, 120.94s/it]"
          ]
        },
        {
          "name": "stdout",
          "output_type": "stream",
          "text": [
            "Epoch [1/5], D Loss: 39.376251220703125, G Loss: 19.626096725463867\n"
          ]
        },
        {
          "name": "stderr",
          "output_type": "stream",
          "text": [
            " 40%|████      | 2/5 [03:43<05:29, 109.92s/it]"
          ]
        },
        {
          "name": "stdout",
          "output_type": "stream",
          "text": [
            "Epoch [2/5], D Loss: 39.128684997558594, G Loss: 19.535879135131836\n"
          ]
        },
        {
          "name": "stderr",
          "output_type": "stream",
          "text": [
            " 60%|██████    | 3/5 [05:13<03:22, 101.18s/it]"
          ]
        },
        {
          "name": "stdout",
          "output_type": "stream",
          "text": [
            "Epoch [3/5], D Loss: 39.08113479614258, G Loss: 19.52677345275879\n"
          ]
        },
        {
          "name": "stderr",
          "output_type": "stream",
          "text": [
            " 80%|████████  | 4/5 [06:45<01:37, 97.47s/it] "
          ]
        },
        {
          "name": "stdout",
          "output_type": "stream",
          "text": [
            "Epoch [4/5], D Loss: nan, G Loss: nan\n"
          ]
        },
        {
          "name": "stderr",
          "output_type": "stream",
          "text": [
            "100%|██████████| 5/5 [08:22<00:00, 100.60s/it]"
          ]
        },
        {
          "name": "stdout",
          "output_type": "stream",
          "text": [
            "Epoch [5/5], D Loss: nan, G Loss: nan\n"
          ]
        },
        {
          "name": "stderr",
          "output_type": "stream",
          "text": [
            "\n"
          ]
        }
      ],
      "source": [
        "import torch\n",
        "import torch.nn as nn\n",
        "import torch.optim as optim\n",
        "import torch.nn.functional as F\n",
        "from torch.distributions import Gumbel\n",
        "num_features=22\n",
        "# Generator model\n",
        "\n",
        "class Generator(nn.Module):\n",
        "    def __init__(self, input_dim, num_features):\n",
        "        super(Generator, self).__init__()\n",
        "\n",
        "        self.hidden1 = nn.Linear(input_dim, 8000)\n",
        "        self.hidden2 = nn.Linear(8000, 80)\n",
        "\n",
        "        # SWaT\n",
        "        # self.sport_hidden = nn.Linear(10, 23030)\n",
        "        # self.dport_hidden = nn.Linear(10, 14372)\n",
        "        # self.proto_hidden = nn.Linear(10, 7)\n",
        "\n",
        "        # WUSTL\n",
        "        self.sport_hidden = nn.Linear(10, 44536)\n",
        "        self.dport_hidden = nn.Linear(10, 7756)\n",
        "        self.proto_hidden = nn.Linear(10, 4)\n",
        "\n",
        "        # self.sport_output = nn.Softmax(dim=1)\n",
        "        # self.dport_output = nn.Softmax(dim=1)\n",
        "        # self.proto_output = nn.Softmax(dim=1)\n",
        "\n",
        "        self.cont_output = nn.Linear(50, num_features - 3)\n",
        "\n",
        "    def forward(self, x):\n",
        "        x = torch.relu(self.hidden1(x))\n",
        "        x = torch.relu(self.hidden2(x))\n",
        "        # r = nn.LeakyReLU()\n",
        "        # x = r(self.hidden1(x))\n",
        "        # x = r(self.hidden2(x))\n",
        "        # print(x.shape)\n",
        "\n",
        "        _sport_hidden = self.sport_hidden(x[:,:10])\n",
        "        _dport_hidden = self.dport_hidden(x[:,10:20])\n",
        "\n",
        "        _proto_hidden = self.proto_hidden(x[:,20:30])\n",
        "\n",
        "\n",
        "        # sport_output = self.sport_output(sport_hidden)\n",
        "        # dport_output = self.dport_output(dport_hidden)\n",
        "        # proto_output = self.proto_output(proto_hidden)\n",
        "\n",
        "        # Do not apply torch.argmax here, let the loss function handle it\n",
        "        cont_output = self.cont_output(x[:,30:])\n",
        "        # cont_output = self.cont_output(x)\n",
        "\n",
        "        # Concatenate the tensors along dimension 1\n",
        "        output_tensor = torch.cat((_sport_hidden, _dport_hidden, _proto_hidden, cont_output), dim=1)\n",
        "        return output_tensor\n",
        "        # return sport_output, dport_output, proto_output, cont_output\n",
        "# Discriminator model\n",
        "class Discriminator(nn.Module):\n",
        "    def __init__(self, input_size, hidden_size=100, recurrent_dropout=0.4):\n",
        "        super(Discriminator, self).__init__()\n",
        "\n",
        "        # LSTM layers\n",
        "        self.lstm1 = nn.LSTM(input_size, hidden_size, batch_first=True, bidirectional=True, dropout=recurrent_dropout)\n",
        "        self.lstm2 = nn.LSTM(hidden_size * 2, hidden_size, batch_first=True, bidirectional=True, dropout=recurrent_dropout)\n",
        "\n",
        "        # Batch normalization layers\n",
        "        self.batch_norm1 = nn.BatchNorm1d(hidden_size * 2)\n",
        "        self.batch_norm2 = nn.BatchNorm1d(hidden_size * 2)\n",
        "\n",
        "        # Linear output layer\n",
        "        self.output_layer = nn.Linear(hidden_size * 2, 1)\n",
        "\n",
        "    def forward(self, x):\n",
        "\n",
        "\n",
        "        # LSTM layers\n",
        "        out, _ = self.lstm1(x)\n",
        "        # print(out.shape)\n",
        "        out = self.batch_norm1(out)\n",
        "        # print(out.shape)\n",
        "        out, _ = self.lstm2(out)\n",
        "        # print(out.shape)\n",
        "        out = self.batch_norm2(out)\n",
        "        # print(out.shape)\n",
        "\n",
        "        # Global average pooling\n",
        "        # out = torch.mean(out, dim=1)\n",
        "        # print(out.shape)\n",
        "        # Output layer\n",
        "        # out = self.output_layer(out)\n",
        "        out = torch.sigmoid(self.output_layer(out))\n",
        "\n",
        "\n",
        "        return out  # Fix for the dimension mismatch\n",
        "\n",
        "# Hyperparameters\n",
        "latent_dim = 100\n",
        "data_dim = len(dataset[1])\n",
        "lr = 0.0002\n",
        "batch_size = 64\n",
        "epochs = 5\n",
        "discriminator_loops = 1\n",
        "\n",
        "# Models\n",
        "generator = Generator(latent_dim, num_features)\n",
        "discriminator = Discriminator(data_dim)\n",
        "max_grad_norm = 1.0\n",
        "# Loss function and optimizers\n",
        "# criterion = nn.BCELoss()\n",
        "criterion = nn.HuberLoss()\n",
        "# criterion_gen = nn.SmoothL1Loss()\n",
        "criterion_gen = nn.HuberLoss()\n",
        "# criterion = nn.CrossEntropyLoss()\n",
        "optimizer_g = optim.Adam(generator.parameters(), lr=lr)\n",
        "optimizer_d = optim.Adam(discriminator.parameters(), lr=lr)\n",
        "\n",
        "# Training loop\n",
        "import csv\n",
        "import copy\n",
        "from tqdm import tqdm\n",
        "parameters_list = []\n",
        "disc_parameters_list = []\n",
        "dlosses = []\n",
        "glosses = []\n",
        "\n",
        "generator.train()\n",
        "discriminator.train()\n",
        "for epoch in tqdm(range(epochs)):\n",
        "    total_loss_fake = 0\n",
        "    total_loss_real = 0\n",
        "    total_loss_gen = 0\n",
        "    for batch in data_loader:\n",
        "        # Train Discriminator\n",
        "        for _ in range(discriminator_loops):\n",
        "            real_data = batch\n",
        "            real_labels = torch.ones((batch_size, 1))\n",
        "            fake_labels = torch.zeros((batch_size, 1))\n",
        "\n",
        "            optimizer_d.zero_grad()\n",
        "\n",
        "            # Real data\n",
        "            # print(\"Real data: \", real_data.shape)\n",
        "            output_real = discriminator(real_data)\n",
        "            # print(output_real)\n",
        "            loss_real = criterion(output_real, real_labels)\n",
        "            # print(\"Loss:\", loss_real.item())\n",
        "            loss_real.backward()\n",
        "            # print(\"Gradients of a specific layer:\", generator.hidden1.weight.grad)\n",
        "            total_loss_real+=loss_real\n",
        "\n",
        "            # Fake data\n",
        "            noise = torch.randn(batch_size, latent_dim)\n",
        "            output = generator(noise)\n",
        "\n",
        "            # SWaT\n",
        "            # sport_output = F.softmax(output[:, :23030], dim=1)\n",
        "            # dport_output = F.softmax(output[:, 23030:23030+14372], dim=1)\n",
        "            # proto_output = F.softmax(output[:, 23030+14372:23030+14372+7], dim=1)\n",
        "            # cont_output = output[:, 23030+14372+7:]\n",
        "\n",
        "            # WUSTL\n",
        "            sport_output = F.softmax(output[:, :44536], dim=1)\n",
        "            dport_output = F.softmax(output[:, 44536:44536+7756], dim=1)\n",
        "            proto_output = F.softmax(output[:, 44536+7756:44536+7756+4], dim=1)\n",
        "            cont_output = output[:, 44536+7756+4:]\n",
        "\n",
        "            fake_data = torch.cat((sport_output, dport_output, proto_output, cont_output), dim=1)\n",
        "\n",
        "            output_fake = discriminator(fake_data)\n",
        "            # print(output_fake)\n",
        "            # print(fake_labels)\n",
        "            loss_fake = criterion(output_fake, fake_labels)\n",
        "            loss_fake.backward()\n",
        "            total_loss_fake+=loss_fake\n",
        "            # print(\"Gradients of a specific layer:\", generator.hidden1.weight.grad)\n",
        "            optimizer_d.step()\n",
        "\n",
        "        # Train Generator\n",
        "        optimizer_g.zero_grad()\n",
        "        # generated_data = generator(noise)\n",
        "        output = generator(noise)\n",
        "        # print(fake_data.shape)\n",
        "\n",
        "        # SWaT\n",
        "        # sport_output = F.softmax(output[:, :23030], dim=1)\n",
        "        # dport_output = F.softmax(output[:, 23030:23030+14372], dim=1)\n",
        "        # proto_output = F.softmax(output[:, 23030+14372:23030+14372+7], dim=1)\n",
        "        # cont_output = output[:, 23030+14372+7:]\n",
        "\n",
        "        # WUSTL\n",
        "        sport_output = F.softmax(output[:, :44536], dim=1)\n",
        "        dport_output = F.softmax(output[:, 44536:44536+7756], dim=1)\n",
        "        proto_output = F.softmax(output[:, 44536+7756:44536+7756+4], dim=1)\n",
        "        cont_output = output[:, 44536+7756+4:]\n",
        "\n",
        "\n",
        "        # temperature = 1.0  # You can adjust the temperature hyperparameter\n",
        "        # gumbel_dist = Gumbel(0, 1).sample(sport_hidden.shape)\n",
        "        # sport_output = F.softmax((sport_hidden + gumbel_dist) / temperature, dim=1)\n",
        "\n",
        "        # gumbel_dist = Gumbel(0, 1).sample(dport_hidden.shape)\n",
        "        # dport_output = F.softmax((dport_hidden + gumbel_dist) / temperature, dim=1)\n",
        "\n",
        "        # gumbel_dist = Gumbel(0, 1).sample(proto_hidden.shape)\n",
        "        # proto_output = F.softmax((proto_hidden + gumbel_dist) / temperature, dim=1)\n",
        "\n",
        "        # generated_data = torch.cat((differentiable_argmax(sport_output).unsqueeze(1),differentiable_argmax(dport_output)[:,1].unsqueeze(1),differentiable_argmax(proto_output)[:,1].unsqueeze(1), cont_output), dim=1)\n",
        "        # generated_data = torch.cat((sport_output[:,1].unsqueeze(1),dport_output[:,2].unsqueeze(1),proto_output[:,3].unsqueeze(1),cont_output), dim=1)\n",
        "        generated_data = torch.cat((sport_output, dport_output, proto_output, cont_output), dim=1)\n",
        "        # print(generated_data.shape)\n",
        "\n",
        "\n",
        "        # generated_data = convert_generator_output(generator(noise))\n",
        "        # print(generated_data.shape)\n",
        "        output_generated = discriminator(generated_data)\n",
        "        # loss_gen = criterion(output_generated, real_labels)\n",
        "        loss_gen = criterion_gen(output_generated, real_labels.float())\n",
        "        # print(\"Discriminator Output:\", output_generated)\n",
        "        # print(\"Real Labels:\", real_labels)\n",
        "        # print(\"Loss:\", loss_gen.item())\n",
        "        loss_gen.backward()\n",
        "        # torch.nn.utils.clip_grad_norm_([generator.sport_hidden.weight], max_grad_norm)\n",
        "        total_loss_gen+=loss_gen\n",
        "        # for param in generator.sport_hidden.parameters():\n",
        "        #   print(param.requires_grad)\n",
        "        # for name, param in generator.named_parameters():\n",
        "        #   if name == 'sport_hidden.weight':\n",
        "        #       print(name, param.requires_grad)\n",
        "        #       print(name, param.grad)\n",
        "        #       print(f\"{name} - Gradient Statistics: Mean={param.grad.mean()}, Std={param.grad.std()}, Min={param.grad.min()}, Max={param.grad.max()}\")\n",
        "\n",
        "        # asdasdasd\n",
        "        # print(\"Gradients of a specific layer:\", generator.sport_hidden.weight.grad)\n",
        "        optimizer_g.step()\n",
        "\n",
        "    # Print losses at the end of each epoch\n",
        "    print(f\"Epoch [{epoch+1}/{epochs}], D Loss: {total_loss_real + total_loss_fake}, G Loss: {total_loss_gen}\")\n",
        "    # print(f\"\\nEpoch {epoch + 1} - Parameters of Generator:\\n\")\n",
        "    epoch_parameters = {\"Epoch\": epoch + 1}\n",
        "    # epoch_parameters = {}\n",
        "    for name, param in generator.named_parameters():\n",
        "        # print(name, param.data)\n",
        "        # Store parameters in the dictionary\n",
        "        # epoch_parameters[\"Epoch\"] = epoch + 1\n",
        "        # epoch_parameters[name] = param.data\n",
        "        epoch_parameters[name] = copy.deepcopy(param.data.numpy())\n",
        "\n",
        "    disc_params = {\"Epoch\": epoch + 1}\n",
        "    for name, param in discriminator.named_parameters():\n",
        "        disc_params[name] = copy.deepcopy(param.data.numpy())\n",
        "\n",
        "    # Append epoch parameters to the dictionary\n",
        "    parameters_list.append(epoch_parameters)\n",
        "    disc_parameters_list.append(disc_params)\n",
        "    dlosses.append(loss_real + loss_fake)\n",
        "    glosses.append(loss_gen)\n",
        "\n",
        "\n"
      ]
    },
    {
      "cell_type": "code",
      "execution_count": null,
      "metadata": {},
      "outputs": [],
      "source": [
        "# import csv\n",
        "\n",
        "# with open('params.csv','w') as f:\n",
        "#     w = csv.writer(f)\n",
        "#     for epoch in parameters_list:\n",
        "#         w.writerows(epoch.items())\n",
        "\n",
        "# with open('disc_params.csv', 'w') as f:\n",
        "#     w = csv.writer(f)\n",
        "#     for epoch in disc_parameters_list:\n",
        "#         w.writerows(epoch.items())"
      ]
    },
    {
      "cell_type": "code",
      "execution_count": null,
      "metadata": {},
      "outputs": [
        {
          "data": {
            "text/plain": [
              "[<matplotlib.lines.Line2D at 0x7f3331224210>]"
            ]
          },
          "execution_count": 108,
          "metadata": {},
          "output_type": "execute_result"
        },
        {
          "data": {
            "image/png": "[encoded data removed]",
            "text/plain": [
              "<Figure size 640x480 with 1 Axes>"
            ]
          },
          "metadata": {},
          "output_type": "display_data"
        }
      ],
      "source": [
        "dlosses = [dloss.detach().numpy() for dloss in dlosses]\n",
        "glosses = [gloss.detach().numpy() for gloss in glosses]\n",
        "\n",
        "# plt.figure(1)\n",
        "plt.plot(dlosses)\n",
        "# plt.figure(2)\n",
        "plt.plot(glosses)"
      ]
    },
    {
      "cell_type": "code",
      "execution_count": null,
      "metadata": {
        "colab": {
          "base_uri": "https://localhost:8080/",
          "height": 0
        },
        "id": "fxk8GIpLmreu",
        "outputId": "ed0ff371-daf9-47b2-9c6c-6c9a7826c92b"
      },
      "outputs": [],
      "source": [
        "# csv_file_path = \"generator_parameters_1.csv\"\n",
        "# with open(csv_file_path, mode='w', newline='') as csv_file:\n",
        "#     fieldnames = [\"Epoch\"] + list(generator.state_dict().keys())\n",
        "#     csv_writer = csv.DictWriter(csv_file, fieldnames=fieldnames)\n",
        "#     print(fieldnames)\n",
        "#     # Write the header\n",
        "#     csv_writer.writeheader()\n",
        "\n",
        "#     # Write parameters for each epoch\n",
        "#     for i in parameters_list:\n",
        "#       # print(i)\n",
        "#       # for key in i.keys():\n",
        "#       # print(i.values())\n",
        "#       print(i.keys())\n",
        "#       row = {}\n",
        "#       for key in i.keys():\n",
        "#         row[key] = i[key]\n",
        "#       print(row.keys())\n",
        "#       csv_writer.writerow(i)\n",
        "\n",
        "#       # exit\n",
        "#       # csv_writer.writerows(i.values())"
      ]
    },
    {
      "cell_type": "code",
      "execution_count": null,
      "metadata": {},
      "outputs": [],
      "source": [
        "def convert_softmax_output_swat(tens):\n",
        "\n",
        "    output = np.asarray([var.detach().numpy() for var in tens])\n",
        "\n",
        "    sport = output[:, :23030]\n",
        "    dport = output[:, 23030:23030+14372]\n",
        "    proto = output[:, 23030+14372:23030+14372+7]\n",
        "    cont = output[:, 23030+14372+7:]\n",
        "\n",
        "    num_samples = sport.shape[0]\n",
        "\n",
        "    sport_select = np.argmax(sport, axis=1)\n",
        "    dport_select = np.argmax(dport, axis=1)\n",
        "    proto_select = np.argmax(proto, axis=1)\n",
        "\n",
        "    return np.hstack((sport_select.reshape(num_samples, 1), dport_select.reshape(num_samples, 1), proto_select.reshape(num_samples, 1), cont))"
      ]
    },
    {
      "cell_type": "code",
      "execution_count": null,
      "metadata": {},
      "outputs": [],
      "source": [
        "def convert_softmax_output_wustl(tens):\n",
        "\n",
        "    output = np.asarray([var.detach().numpy() for var in tens])\n",
        "\n",
        "    sport = output[:, :44536]\n",
        "    dport = output[:, 44536:44536+7756]\n",
        "    proto = output[:, 44536+7756:44536+7756+4]\n",
        "    cont = output[:, 44536+7756+4:]\n",
        "\n",
        "    num_samples = sport.shape[0]\n",
        "\n",
        "    sport_select = np.argmax(sport, axis=1)\n",
        "    dport_select = np.argmax(dport, axis=1)\n",
        "    proto_select = np.argmax(proto, axis=1)\n",
        "\n",
        "    return np.hstack((sport_select.reshape(num_samples, 1), dport_select.reshape(num_samples, 1), proto_select.reshape(num_samples, 1), cont))"
      ]
    },
    {
      "cell_type": "code",
      "execution_count": null,
      "metadata": {},
      "outputs": [
        {
          "data": {
            "text/plain": [
              "KstestResult(statistic=0.4811363636363636, pvalue=0.0, statistic_location=0.14285714285714285, statistic_sign=1)"
            ]
          },
          "execution_count": 115,
          "metadata": {},
          "output_type": "execute_result"
        }
      ],
      "source": [
        "import scipy\n",
        "test_noise = torch.randn(test_dataset.shape[0], latent_dim)\n",
        "preds = generator(test_noise)\n",
        "data = convert_softmax_output_wustl(preds)\n",
        "scipy.stats.ks_2samp(test_dataset.reshape(preds.shape[0]*num_features,), data.reshape(preds.shape[0]*num_features,))"
      ]
    },
    {
      "cell_type": "code",
      "execution_count": 8,
      "metadata": {
        "id": "PCpmnS0K_ywD"
      },
      "outputs": [],
      "source": [
        "# df = pd.DataFrame(data)\n",
        "# df.to_csv(\"gan_softmax_wustl_network.csv\", index=False)"
      ]
    }
  ],
  "metadata": {
    "colab": {
      "provenance": []
    },
    "kernelspec": {
      "display_name": "ankh-morpork",
      "language": "python",
      "name": "python3"
    },
    "language_info": {
      "codemirror_mode": {
        "name": "ipython",
        "version": 3
      },
      "file_extension": ".py",
      "mimetype": "text/x-python",
      "name": "python",
      "nbconvert_exporter": "python",
      "pygments_lexer": "ipython3",
      "version": "3.11.6"
    }
  },
  "nbformat": 4,
  "nbformat_minor": 0
}
