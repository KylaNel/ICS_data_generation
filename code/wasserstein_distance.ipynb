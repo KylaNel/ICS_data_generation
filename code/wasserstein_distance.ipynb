{
 "cells": [
  {
   "cell_type": "code",
   "execution_count": 1,
   "metadata": {},
   "outputs": [
    {
     "name": "stdout",
     "output_type": "stream",
     "text": [
      "[KeOps] Warning : Cuda libraries were not detected on the system or could not be loaded ; using cpu only mode\n"
     ]
    }
   ],
   "source": [
    "import scipy\n",
    "import numpy as np\n",
    "import pandas as pd\n",
    "import matplotlib.pyplot as plt\n",
    "from geomloss import SamplesLoss\n",
    "import torch\n",
    "from sklearn import preprocessing"
   ]
  },
  {
   "cell_type": "code",
   "execution_count": 2,
   "metadata": {},
   "outputs": [],
   "source": [
    "gan_swat_network = pd.read_csv(\"gan_lstm_swat_network.csv\", sep=\",\").to_numpy()\n",
    "gan_swat_sensor = pd.read_csv(\"gan_lstm_swat_sensor.csv\", sep=\",\").to_numpy()\n",
    "gan_wadi = pd.read_csv(\"gan_lstm_wadi.csv\", sep=\",\").to_numpy()\n",
    "gan_wustl = pd.read_csv(\"gan_lstm_wustl.csv\", sep=\",\").to_numpy()\n",
    "\n",
    "vae_swat_network = pd.read_csv(\"vae_swat_network.csv\", sep=\",\").to_numpy()\n",
    "vae_swat_sensor = pd.read_csv(\"vae_swat_sensor.csv\", sep=\",\").to_numpy()\n",
    "vae_wadi = pd.read_csv(\"vae_wadi_sensor.csv\", sep=\",\").to_numpy()\n",
    "vae_wustl = pd.read_csv(\"vae_wustl_network.csv\", sep=\",\").to_numpy()\n",
    "\n",
    "vae_gan_swat_network = pd.read_csv(\"vae_gan_swat_network.csv\", sep=\",\").to_numpy()\n",
    "vae_gan_swat_sensor = pd.read_csv(\"vae_gan_swat_sensor.csv\", sep=\",\").to_numpy()\n",
    "vae_gan_wadi = pd.read_csv(\"vae_gan_wadi_sensor.csv\", sep=\",\").to_numpy()\n",
    "vae_gan_wustl = pd.read_csv(\"vae_gan_wustl_network.csv\", sep=\",\").to_numpy()\n",
    "\n",
    "gan_softmax_swat_network = pd.read_csv(\"gan_softmax_swat_network_50.csv\", sep=\",\").to_numpy()\n",
    "gan_softmax_swat_sensor = pd.read_csv(\"gan_softmax_swat_sensor_50.csv\", sep=\",\").to_numpy()\n",
    "gan_softmax_wadi = pd.read_csv(\"gan_softmax_wadi_50.csv\", sep=\",\").to_numpy()\n",
    "gan_softmax_wustl = pd.read_csv(\"gan_softmax_wustl_50.csv\", sep=\",\").to_numpy()"
   ]
  },
  {
   "cell_type": "code",
   "execution_count": 3,
   "metadata": {},
   "outputs": [],
   "source": [
    "swat = preprocessing.normalize(pd.read_csv(\"/home/knel/virtual_envs/ankh-morpork/ICS_data_generation/data/swat_processed.csv\", sep=\",\").to_numpy()[:, 1:])\n",
    "# swap sport to front\n",
    "swat[:, [0, 1]] = swat[:, [1, 0]]\n",
    "# # swap dport to after sport\n",
    "swat[:, [1, 2]] = swat[:, [2, 1]]\n",
    "# # swap protocols to after dport\n",
    "swat[:, [2, 14]] = swat[:, [14, 2]]\n",
    "\n",
    "wadi = preprocessing.normalize(pd.read_csv(\"/home/knel/virtual_envs/ankh-morpork/ICS_data_generation/data/wadi_attacks.csv\", sep=\",\").to_numpy()[:, 1:])\n",
    "swat_sensor = preprocessing.normalize(pd.read_csv(\"/home/knel/virtual_envs/ankh-morpork/ICS_data_generation/data/swat_sensor.csv\", sep=\",\").to_numpy()[:, 1:])\n",
    "wustl = preprocessing.normalize(pd.read_csv(\"/home/knel/virtual_envs/ankh-morpork/ICS_data_generation/data/wustl_attacks.csv\", sep=\",\").to_numpy()[:, 1:])"
   ]
  },
  {
   "cell_type": "code",
   "execution_count": 4,
   "metadata": {},
   "outputs": [],
   "source": [
    "loss = SamplesLoss(\"sinkhorn\", blur=0.05)"
   ]
  },
  {
   "cell_type": "code",
   "execution_count": 5,
   "metadata": {},
   "outputs": [],
   "source": [
    "def wasserstein(real, fake):\n",
    "    loss = SamplesLoss(\"sinkhorn\", blur=0.05)\n",
    "\n",
    "    num_features = real.shape[1]\n",
    "    real = torch.from_numpy(real[: fake.shape[0]])\n",
    "    fake = torch.from_numpy(fake)\n",
    "\n",
    "    return loss(real, fake)"
   ]
  },
  {
   "cell_type": "markdown",
   "metadata": {},
   "source": [
    "## GAN"
   ]
  },
  {
   "cell_type": "code",
   "execution_count": 6,
   "metadata": {},
   "outputs": [
    {
     "data": {
      "text/plain": [
       "tensor(0.7820, dtype=torch.float64)"
      ]
     },
     "execution_count": 6,
     "metadata": {},
     "output_type": "execute_result"
    }
   ],
   "source": [
    "wasserstein(swat, gan_swat_network[:, 1:])"
   ]
  },
  {
   "cell_type": "code",
   "execution_count": 7,
   "metadata": {},
   "outputs": [
    {
     "data": {
      "text/plain": [
       "tensor(6.7952, dtype=torch.float64)"
      ]
     },
     "execution_count": 7,
     "metadata": {},
     "output_type": "execute_result"
    }
   ],
   "source": [
    "wasserstein(swat_sensor, gan_swat_sensor)"
   ]
  },
  {
   "cell_type": "code",
   "execution_count": 8,
   "metadata": {},
   "outputs": [
    {
     "data": {
      "text/plain": [
       "tensor(13.0911, dtype=torch.float64)"
      ]
     },
     "execution_count": 8,
     "metadata": {},
     "output_type": "execute_result"
    }
   ],
   "source": [
    "wasserstein(wadi, gan_wadi)"
   ]
  },
  {
   "cell_type": "code",
   "execution_count": 9,
   "metadata": {},
   "outputs": [
    {
     "data": {
      "text/plain": [
       "tensor(1.9241, dtype=torch.float64)"
      ]
     },
     "execution_count": 9,
     "metadata": {},
     "output_type": "execute_result"
    }
   ],
   "source": [
    "wasserstein(wustl, gan_wustl)"
   ]
  },
  {
   "cell_type": "markdown",
   "metadata": {},
   "source": [
    "## VAE"
   ]
  },
  {
   "cell_type": "code",
   "execution_count": 10,
   "metadata": {},
   "outputs": [
    {
     "data": {
      "text/plain": [
       "tensor(0.6788, dtype=torch.float64)"
      ]
     },
     "execution_count": 10,
     "metadata": {},
     "output_type": "execute_result"
    }
   ],
   "source": [
    "wasserstein(swat, vae_swat_network[:5000, 1:])"
   ]
  },
  {
   "cell_type": "code",
   "execution_count": 11,
   "metadata": {},
   "outputs": [
    {
     "data": {
      "text/plain": [
       "tensor(7.8900, dtype=torch.float64)"
      ]
     },
     "execution_count": 11,
     "metadata": {},
     "output_type": "execute_result"
    }
   ],
   "source": [
    "wasserstein(swat_sensor, vae_swat_sensor)"
   ]
  },
  {
   "cell_type": "code",
   "execution_count": 12,
   "metadata": {},
   "outputs": [
    {
     "data": {
      "text/plain": [
       "tensor(11.7697, dtype=torch.float64)"
      ]
     },
     "execution_count": 12,
     "metadata": {},
     "output_type": "execute_result"
    }
   ],
   "source": [
    "wasserstein(wadi, vae_wadi)"
   ]
  },
  {
   "cell_type": "code",
   "execution_count": 13,
   "metadata": {},
   "outputs": [
    {
     "data": {
      "text/plain": [
       "tensor(1.5986, dtype=torch.float64)"
      ]
     },
     "execution_count": 13,
     "metadata": {},
     "output_type": "execute_result"
    }
   ],
   "source": [
    "wasserstein(wustl, vae_wustl[:5000])"
   ]
  },
  {
   "cell_type": "markdown",
   "metadata": {},
   "source": [
    "## VAE+GAN"
   ]
  },
  {
   "cell_type": "code",
   "execution_count": 14,
   "metadata": {},
   "outputs": [
    {
     "data": {
      "text/plain": [
       "tensor(0.7038, dtype=torch.float64)"
      ]
     },
     "execution_count": 14,
     "metadata": {},
     "output_type": "execute_result"
    }
   ],
   "source": [
    "wasserstein(swat, vae_gan_swat_network[:, 1:])"
   ]
  },
  {
   "cell_type": "code",
   "execution_count": 15,
   "metadata": {},
   "outputs": [
    {
     "data": {
      "text/plain": [
       "tensor(4.0623, dtype=torch.float64)"
      ]
     },
     "execution_count": 15,
     "metadata": {},
     "output_type": "execute_result"
    }
   ],
   "source": [
    "wasserstein(swat_sensor, vae_gan_swat_sensor.reshape(2640, 28))"
   ]
  },
  {
   "cell_type": "code",
   "execution_count": 16,
   "metadata": {},
   "outputs": [
    {
     "data": {
      "text/plain": [
       "tensor(8.4115, dtype=torch.float64)"
      ]
     },
     "execution_count": 16,
     "metadata": {},
     "output_type": "execute_result"
    }
   ],
   "source": [
    "wasserstein(wadi, vae_gan_wadi.reshape(1996, 69))"
   ]
  },
  {
   "cell_type": "code",
   "execution_count": 17,
   "metadata": {},
   "outputs": [
    {
     "data": {
      "text/plain": [
       "tensor(1.9475, dtype=torch.float64)"
      ]
     },
     "execution_count": 17,
     "metadata": {},
     "output_type": "execute_result"
    }
   ],
   "source": [
    "wasserstein(wustl, vae_gan_wustl.reshape(17404, 27)[:5000])"
   ]
  },
  {
   "cell_type": "markdown",
   "metadata": {},
   "source": [
    "## GAN Softmax"
   ]
  },
  {
   "cell_type": "code",
   "execution_count": 18,
   "metadata": {},
   "outputs": [
    {
     "data": {
      "text/plain": [
       "tensor(2.5661e+08, dtype=torch.float64)"
      ]
     },
     "execution_count": 18,
     "metadata": {},
     "output_type": "execute_result"
    }
   ],
   "source": [
    "wasserstein(swat, gan_softmax_swat_network)"
   ]
  },
  {
   "cell_type": "code",
   "execution_count": 19,
   "metadata": {},
   "outputs": [
    {
     "data": {
      "text/plain": [
       "tensor(6.1560, dtype=torch.float64)"
      ]
     },
     "execution_count": 19,
     "metadata": {},
     "output_type": "execute_result"
    }
   ],
   "source": [
    "wasserstein(swat_sensor, gan_softmax_swat_sensor)"
   ]
  },
  {
   "cell_type": "code",
   "execution_count": 20,
   "metadata": {},
   "outputs": [
    {
     "data": {
      "text/plain": [
       "tensor(9.6024, dtype=torch.float64)"
      ]
     },
     "execution_count": 20,
     "metadata": {},
     "output_type": "execute_result"
    }
   ],
   "source": [
    "wasserstein(wadi, gan_softmax_wadi)"
   ]
  },
  {
   "cell_type": "code",
   "execution_count": 21,
   "metadata": {},
   "outputs": [
    {
     "data": {
      "text/plain": [
       "tensor(1.4338e+08, dtype=torch.float64)"
      ]
     },
     "execution_count": 21,
     "metadata": {},
     "output_type": "execute_result"
    }
   ],
   "source": [
    "wasserstein(wustl, gan_softmax_wustl)"
   ]
  },
  {
   "cell_type": "code",
   "execution_count": null,
   "metadata": {},
   "outputs": [],
   "source": []
  }
 ],
 "metadata": {
  "kernelspec": {
   "display_name": "ankh-morpork",
   "language": "python",
   "name": "python3"
  },
  "language_info": {
   "codemirror_mode": {
    "name": "ipython",
    "version": 3
   },
   "file_extension": ".py",
   "mimetype": "text/x-python",
   "name": "python",
   "nbconvert_exporter": "python",
   "pygments_lexer": "ipython3",
   "version": "3.11.6"
  }
 },
 "nbformat": 4,
 "nbformat_minor": 2
}
