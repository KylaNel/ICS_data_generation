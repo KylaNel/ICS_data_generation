{
 "cells": [
  {
   "cell_type": "code",
   "execution_count": 25,
   "metadata": {},
   "outputs": [],
   "source": [
    "import numpy as np\n",
    "import matplotlib.pyplot as plt\n",
    "import pandas as pd\n",
    "import tensorflow as tf\n",
    "from sklearn import preprocessing\n",
    "import scipy\n",
    "from sklearn import preprocessing"
   ]
  },
  {
   "cell_type": "code",
   "execution_count": 26,
   "metadata": {},
   "outputs": [],
   "source": [
    "attacks = pd.read_csv(\"/home/knel/virtual_envs/ankh-morpork/ICS_data_generation/data/swat_processed.csv\", sep=\",\")"
   ]
  },
  {
   "cell_type": "code",
   "execution_count": 27,
   "metadata": {},
   "outputs": [],
   "source": [
    "attacks = preprocessing.normalize(attacks.to_numpy(), norm=\"max\", axis=0)\n",
    "\n",
    "# swap sport to front\n",
    "attacks[:, [0, 1]] = attacks[:, [1, 0]]\n",
    "# swap dport to after sport\n",
    "attacks[:, [1, 2]] = attacks[:, [2, 1]]\n",
    "# swap protocols to after dport\n",
    "attacks[:, [2, 14]] = attacks[:, [14, 2]]\n",
    "\n",
    "# column order now -> sport, dport, protocols, continuous (discrete, discrete, discrete, continuous)\n",
    "\n",
    "# should probably add batch and shuffle\n",
    "\n",
    "batch_size = 64\n",
    "num_features = attacks[:int(np.floor(attacks.shape[0]*3/4))].shape[1]\n",
    "train_dataset = attacks[:int(np.floor(attacks.shape[0]*3/4))]\n",
    "# train_dataset = (tf.data.Dataset.from_tensor_slices(attacks[:10000]).shuffle(10000).batch(batch_size))\n",
    "# test_dataset = attacks[int(np.floor(attacks.shape[0]*3/4)):]\n",
    "test_dataset = attacks[:100000]\n",
    "\n",
    "\n",
    "seq_length = 5\n",
    "latent_dim = 80"
   ]
  },
  {
   "cell_type": "code",
   "execution_count": 28,
   "metadata": {},
   "outputs": [],
   "source": [
    "class Sampling(tf.keras.layers.Layer):\n",
    "    def call(self, inputs):\n",
    "        mean, log_var = inputs\n",
    "        return tf.keras.backend.random_normal(tf.shape(log_var)) * tf.keras.backend.exp(log_var / 2) + mean"
   ]
  },
  {
   "cell_type": "code",
   "execution_count": 29,
   "metadata": {},
   "outputs": [],
   "source": [
    "# encoder\n",
    "\n",
    "inputs = tf.keras.layers.Input(shape=[num_features,1])\n",
    "z = tf.keras.layers.Flatten()(inputs)\n",
    "z = tf.keras.layers.Dense(150, activation=\"relu\", kernel_initializer=\"he_normal\")(z)\n",
    "z = tf.keras.layers.Dense(100, activation=\"relu\", kernel_initializer=\"he_normal\")(z)\n",
    "codings_mean = tf.keras.layers.Dense(latent_dim)(z) # mu\n",
    "codings_log_var = tf.keras.layers.Dense(latent_dim)(z) # gamma\n",
    "codings = Sampling()([codings_mean, codings_log_var])\n",
    "variational_encoder = tf.keras.Model(inputs=[inputs], outputs=[codings_mean, codings_log_var, codings])\n",
    "\n",
    "# decoder\n",
    "\n",
    "decoder_inputs = tf.keras.layers.Input(shape=[latent_dim])\n",
    "x = tf.keras.layers.Dense(100, activation=\"relu\", kernel_initializer=\"he_normal\")(decoder_inputs)\n",
    "x = tf.keras.layers.Dense(150, activation=\"relu\", kernel_initializer=\"he_normal\")(x)\n",
    "x = tf.keras.layers.Dense(num_features*1, activation=\"sigmoid\")(x)\n",
    "outputs = tf.keras.layers.Reshape([num_features, 1])(x)\n",
    "variational_decoder = tf.keras.Model(inputs=[decoder_inputs], outputs=[outputs])\n",
    "\n",
    "# VAE model\n",
    "\n",
    "_, _, codings = variational_encoder(inputs)\n",
    "reconstructions = variational_decoder(codings)\n",
    "variational_ae = tf.keras.Model(inputs=[inputs], outputs=[reconstructions])\n",
    "\n",
    "# VAE losses\n",
    "\n",
    "latent_loss = -0.5 * tf.keras.backend.sum(1 + codings_log_var - tf.keras.backend.exp(codings_log_var) - tf.keras.backend.square(codings_mean), axis=-1)\n",
    "variational_ae.add_loss(tf.keras.backend.mean(latent_loss / float(num_features)))\n",
    "# variational_ae.add_loss(tf.keras.backend.mean(latent_loss))\n",
    "optimizer = tf.keras.optimizers.RMSprop(learning_rate=1e-5)\n",
    "variational_ae.compile(loss=\"binary_crossentropy\", optimizer=optimizer)"
   ]
  },
  {
   "cell_type": "code",
   "execution_count": 30,
   "metadata": {},
   "outputs": [],
   "source": [
    "noise_dim = 30\n",
    "\n",
    "def make_generator_model():\n",
    "    model = tf.keras.Sequential()\n",
    "    # LSTM hidden layer with 100 memory units\n",
    "    model.add(tf.keras.layers.LSTM(200, input_shape = [5, noise_dim], recurrent_dropout=0.4, return_sequences=True))\n",
    "    model.add(tf.keras.layers.ReLU())\n",
    "    model.add(tf.keras.layers.LSTM(200, recurrent_dropout=0.4))\n",
    "    model.add(tf.keras.layers.ReLU())\n",
    "    # dropout layer with a probability of 20\n",
    "    # model.add(tf.keras.layers.Dropout(0.2))\n",
    "    # output dense (fully connected) layer\n",
    "    model.add(tf.keras.layers.Dense(latent_dim, activation=\"tanh\"))\n",
    "    return model\n",
    "\n",
    "def make_discriminator_model():\n",
    "    model = tf.keras.Sequential()\n",
    "    model.add(tf.keras.layers.LSTM(200, input_shape=[latent_dim, 1], recurrent_dropout=0.4, return_sequences=True))\n",
    "    model.add(tf.keras.layers.LSTM(200, recurrent_dropout=0.4))\n",
    "    # model.add(tf.keras.layers.Dropout(0.2))\n",
    "    # what should the units of this dense layer be?\n",
    "    # seems like it outputs one value >0 for real data and <0 for fake data\n",
    "    # for each item in the batch\n",
    "    model.add(tf.keras.layers.Dense(1, activation=\"tanh\"))\n",
    "    return model\n",
    "\n",
    "cross_entropy = tf.keras.losses.BinaryCrossentropy(from_logits=False) # from_logits=True means models prediction represents a value [-inf, inf]\n",
    "\n",
    "def discriminator_loss(real_data, fake_data):\n",
    "    real_loss = cross_entropy(tf.ones_like(real_data), real_data)\n",
    "    fake_loss = cross_entropy(tf.zeros_like(fake_data), fake_data)\n",
    "    total_loss = real_loss + fake_loss\n",
    "    return total_loss\n",
    "\n",
    "def generator_loss(fake_data):\n",
    "    return cross_entropy(tf.ones_like(fake_data), fake_data)"
   ]
  },
  {
   "cell_type": "code",
   "execution_count": 31,
   "metadata": {},
   "outputs": [],
   "source": [
    "generator = make_generator_model()\n",
    "discriminator = make_discriminator_model()"
   ]
  },
  {
   "cell_type": "code",
   "execution_count": 32,
   "metadata": {},
   "outputs": [],
   "source": [
    "# def wasserstein_loss(y_pred, y_real):\n",
    "#     return tf.keras.backend.mean(y_pred * y_real)\n",
    "\n",
    "# def generator_wasserstein_loss(y_pred):\n",
    "#     return -tf.keras.backend.mean(y_pred)\n",
    "\n",
    "# class ClipConstraint(tf.keras.constraints.Constraint):\n",
    "#     def __init__(self, clip_value):\n",
    "#         self.clip_value = clip_value"
   ]
  },
  {
   "cell_type": "code",
   "execution_count": 33,
   "metadata": {},
   "outputs": [],
   "source": [
    "# def make_critic(input_shape):\n",
    "#     init = tf.keras.initializers.RandomNormal(stddev=0.02)\n",
    "#     const = ClipConstraint(0.01)\n",
    "#     model = tf.keras.models.Sequential()\n",
    "#     # model.add(tf.keras.layers.Flatten(input_shape=(input_shape[0]*input_shape[1])))\n",
    "#     # model.add(tf.keras.layers.LSTM(100, input_shape=input_shape, kernel_initializer=init, kernel_constraint=const, recurrent_dropout=0.4, return_sequences=True, name=\"c_lstm1\"))\n",
    "#     # model.add(tf.keras.layers.LSTM(100, kernel_initializer=init, kernel_constraint=const, recurrent_dropout=0.4, return_sequences=True, name=\"c_lstm2\"))\n",
    "#     model.add(tf.keras.layers.Dense(250, input_shape=input_shape, kernel_initializer=init, kernel_constraint=const))\n",
    "\n",
    "#     model.add(tf.keras.layers.Dense(200, kernel_initializer=init, kernel_constraint=const))\n",
    "#     model.add(tf.keras.layers.Dropout(0.2))\n",
    "#     tf.keras.layers.BatchNormalization()\n",
    "#     model.add(tf.keras.layers.LeakyReLU(0.2))\n",
    "#     # model.add(tf.keras.layers.LSTM(100, kernel_initializer=init, kernel_constraint=const, recurrent_dropout=0.4, name=\"c_lstm3\"))\n",
    "#     model.add(tf.keras.layers.Dense(150, kernel_initializer=init, kernel_constraint=const))\n",
    "#     model.add(tf.keras.layers.Dropout(0.2))\n",
    "#     tf.keras.layers.BatchNormalization()\n",
    "#     model.add(tf.keras.layers.LeakyReLU(0.2))\n",
    "\n",
    "#     model.add(tf.keras.layers.Dense(100, kernel_initializer=init, kernel_constraint=const))\n",
    "#     model.add(tf.keras.layers.Dropout(0.2))\n",
    "#     tf.keras.layers.BatchNormalization()\n",
    "#     model.add(tf.keras.layers.LeakyReLU(0.2))\n",
    "\n",
    "#     model.add(tf.keras.layers.Dense(1, name=\"c_dense\"))\n",
    "#     # opt = tf.keras.optimizers.RMSprop(learning_rate=0.00005)\n",
    "#     # model.compile(loss=wasserstein_loss, optimizer=opt)\n",
    "#     return model\n",
    "\n",
    "# def make_generator(output_shape, noise_dim):\n",
    "#     init = tf.keras.initializers.RandomNormal(stddev=0.02)\n",
    "#     model = tf.keras.models.Sequential()\n",
    "#     # model.add(tf.keras.layers.LSTM(100, input_shape=(5, output_shape), kernel_initializer=init, recurrent_dropout=0.4, return_sequences=True))\n",
    "#     model.add(tf.keras.layers.Dense(100, input_shape=[noise_dim], kernel_initializer=init))\n",
    "#     tf.keras.layers.BatchNormalization()\n",
    "#     model.add(tf.keras.layers.LeakyReLU(0.2))\n",
    "#     # model.add(tf.keras.layers.LSTM(100, kernel_initializer=init, recurrent_dropout=0.4))\n",
    "#     model.add(tf.keras.layers.Dense(150, kernel_initializer=init))\n",
    "#     model.add(tf.keras.layers.Dropout(0.2))\n",
    "#     tf.keras.layers.BatchNormalization()\n",
    "#     model.add(tf.keras.layers.LeakyReLU(0.2))\n",
    "\n",
    "#     model.add(tf.keras.layers.Dense(200, kernel_initializer=init))\n",
    "#     model.add(tf.keras.layers.Dropout(0.2))\n",
    "#     tf.keras.layers.BatchNormalization()\n",
    "#     model.add(tf.keras.layers.LeakyReLU(0.2))\n",
    "#     # model.add(tf.keras.layers.Dense(output_shape[0]*output_shape[1], activation=\"tanh\", kernel_initializer=init))\n",
    "#     # model.add(tf.keras.layers.Reshape([output_shape[0], output_shape[1]]))\n",
    "#     model.add(tf.keras.layers.Dense(output_shape, activation=\"tanh\"))\n",
    "#     # opt = tf.keras.optimizers.RMSprop(learning_rate=0.00005)\n",
    "#     # model.compile(loss=generator_wasserstein_loss, optimizer=opt)\n",
    "#     return model\n",
    "\n",
    "# def make_gan(generator, critic):\n",
    "#     model = tf.keras.models.Sequential()\n",
    "#     model.add(generator)\n",
    "#     model.add(critic)\n",
    "#     opt = tf.keras.optimizers.RMSprop(learning_rate=0.00005)\n",
    "#     model.compile(loss=wasserstein_loss, optimizer=opt)\n",
    "#     return model"
   ]
  },
  {
   "cell_type": "markdown",
   "metadata": {},
   "source": [
    "## Step 1: Train autoencoder on real data"
   ]
  },
  {
   "cell_type": "code",
   "execution_count": 34,
   "metadata": {},
   "outputs": [
    {
     "name": "stdout",
     "output_type": "stream",
     "text": [
      "Epoch 1/5\n",
      "31151/31151 [==============================] - 30s 949us/step - loss: 0.2449\n",
      "Epoch 2/5\n",
      "31151/31151 [==============================] - 29s 944us/step - loss: 0.2194\n",
      "Epoch 3/5\n",
      "31151/31151 [==============================] - 30s 949us/step - loss: 0.2157\n",
      "Epoch 4/5\n",
      "31151/31151 [==============================] - 29s 947us/step - loss: 0.2141\n",
      "Epoch 5/5\n",
      "31151/31151 [==============================] - 29s 938us/step - loss: 0.2132\n"
     ]
    },
    {
     "data": {
      "text/plain": [
       "<keras.src.callbacks.History at 0x7f221e84e690>"
      ]
     },
     "execution_count": 34,
     "metadata": {},
     "output_type": "execute_result"
    }
   ],
   "source": [
    "# variational_ae.fit(train_dataset, train_dataset, epochs=5, batch_size=64)\n",
    "variational_ae.fit(train_dataset, train_dataset, epochs=5, batch_size=64)"
   ]
  },
  {
   "cell_type": "markdown",
   "metadata": {},
   "source": [
    "## Step 2: Train GAN to learn realistic latent vectors"
   ]
  },
  {
   "cell_type": "code",
   "execution_count": 35,
   "metadata": {},
   "outputs": [],
   "source": [
    "# generator_optimiser = tf.keras.optimizers.RMSprop(learning_rate=0.00005)\n",
    "# critic_optimiser = tf.keras.optimizers.RMSprop(learning_rate=0.00005)\n",
    "\n",
    "# def train_step(generator, critic, dataset, latent_dim, noise_dim, n_batch=40, n_critic=5):\n",
    "\n",
    "#     for _ in range(n_critic):\n",
    "\n",
    "#         \"\"\"\n",
    "#         Train critic more often than the generator for WGAN\n",
    "#         \"\"\"\n",
    "\n",
    "#         with tf.GradientTape() as critic_tape:\n",
    "#             ix = np.random.randint(0, dataset.shape[0], n_batch)\n",
    "#             # X_real = dataset.numpy()[ix]\n",
    "#             X_real = dataset[ix]\n",
    "#             noise = tf.random.normal((n_batch, noise_dim))\n",
    "#             X_fake = generator(noise, training=True)\n",
    "\n",
    "#             pred_real = critic(X_real, training=True)\n",
    "#             pred_fake = critic(X_fake, training=True)\n",
    "\n",
    "#             c_loss = wasserstein_loss(pred_real, pred_fake)\n",
    "        \n",
    "\n",
    "#         critic_gradients = critic_tape.gradient(c_loss, critic.trainable_variables)\n",
    "#         critic_optimiser.apply_gradients(zip(critic_gradients, critic.trainable_variables))\n",
    "#     # print(f\"Critic loss: {c_loss}\")  \n",
    "    \n",
    "#     \"\"\" \n",
    "#     Train generator\n",
    "#     \"\"\"\n",
    "\n",
    "#     with tf.GradientTape() as gen_tape:\n",
    "#         X_fake = generator(noise, training=True)\n",
    "#         pred_fake = critic(X_fake, training=True)\n",
    "#         g_loss = generator_wasserstein_loss(pred_fake)\n",
    "#         # print(f\"Generator loss: {g_loss}\")\n",
    "    \n",
    "#     generator_gradients = gen_tape.gradient(g_loss, generator.trainable_variables)\n",
    "#     generator_optimiser.apply_gradients(zip(generator_gradients, generator.trainable_variables))\n",
    "\n",
    "\n",
    "#     return c_loss, g_loss\n",
    "\n",
    "# def train(dataset, n_epochs=2, noise_dim=50, latent_dim=50):\n",
    "\n",
    "#     generator = make_generator(latent_dim, noise_dim)\n",
    "#     critic = make_critic((latent_dim, 1))\n",
    "\n",
    "#     c_losses, g_losses = [], []\n",
    "\n",
    "#     for i in range(n_epochs):\n",
    "#         # print(f\"Epoch: {i+1}\")\n",
    "#         for batch in dataset:\n",
    "#             c_loss, g_loss = train_step(generator, critic, batch, latent_dim, noise_dim)\n",
    "#             c_losses.append(c_loss)\n",
    "#             g_losses.append(g_loss)\n",
    "    \n",
    "#     noise = tf.random.normal((1000, noise_dim))\n",
    "#     prediction = generator.predict(noise)\n",
    "\n",
    "#     return c_losses, g_losses, prediction"
   ]
  },
  {
   "cell_type": "code",
   "execution_count": 36,
   "metadata": {},
   "outputs": [],
   "source": [
    "generator_optimiser = tf.keras.optimizers.Adam(1e-4)\n",
    "discriminator_optimiser = tf.keras.optimizers.Adam(1e-4)\n",
    "\n",
    "@tf.function\n",
    "def train_step(data):\n",
    "    dlosses = []\n",
    "    glosses = []\n",
    "    # generate samples from the random space\n",
    "    # noise = tf.random.normal((batch_size, seq_length, num_features))\n",
    "\n",
    "    with tf.GradientTape() as generator_tape, tf.GradientTape() as discriminator_tape:\n",
    "        noise = tf.random.normal((64, 5, noise_dim))\n",
    "        generated_data = generator(noise, training=True)\n",
    "\n",
    "        real_data = discriminator(data, training=True)\n",
    "        fake_data = discriminator(generated_data, training=True)\n",
    "\n",
    "        gloss = generator_loss(fake_data)\n",
    "        dloss = discriminator_loss(real_data, fake_data)\n",
    "        dlosses.append(dloss)\n",
    "        glosses.append(gloss)\n",
    "\n",
    "    generator_gradients = generator_tape.gradient(gloss, generator.trainable_variables)\n",
    "    discriminator_gradients = discriminator_tape.gradient(dloss, discriminator.trainable_variables)\n",
    "\n",
    "    generator_optimiser.apply_gradients(zip(generator_gradients, generator.trainable_variables))\n",
    "    discriminator_optimiser.apply_gradients(zip(discriminator_gradients, discriminator.trainable_variables))\n",
    "    return dloss, gloss"
   ]
  },
  {
   "cell_type": "code",
   "execution_count": 37,
   "metadata": {},
   "outputs": [
    {
     "data": {
      "text/plain": [
       "<_BatchDataset element_spec=TensorSpec(shape=(None, 80), dtype=tf.float32, name=None)>"
      ]
     },
     "execution_count": 37,
     "metadata": {},
     "output_type": "execute_result"
    }
   ],
   "source": [
    "real_latent_vectors = np.split((variational_encoder(attacks[:20000])[0]).numpy(), 200)\n",
    "noise = tf.random.normal((batch_size, seq_length, num_features))\n",
    "latent_vector_dataset = (tf.data.Dataset.from_tensor_slices((variational_encoder(attacks[:20000])[0]).numpy()).shuffle(10000).batch(64))\n",
    "latent_vector_dataset"
   ]
  },
  {
   "cell_type": "code",
   "execution_count": 38,
   "metadata": {},
   "outputs": [],
   "source": [
    "def train(dataset, epochs):\n",
    "    predictions = np.array([])\n",
    "    dlosses = []\n",
    "    glosses = []\n",
    "\n",
    "    for epoch in range(epochs):\n",
    "        \n",
    "        # maybe add another loop for more training rounds\n",
    "        for data_batch in dataset:\n",
    "            dloss, gloss = train_step(data_batch)\n",
    "            dlosses.append(dloss)\n",
    "            glosses.append(gloss)\n",
    "\n",
    "        noise = tf.random.normal((64, 5, noise_dim))\n",
    "        prediction = generator(noise, training=False)\n",
    "        predictions = np.append(predictions, prediction)\n",
    "\n",
    "    return predictions, dlosses, glosses"
   ]
  },
  {
   "cell_type": "code",
   "execution_count": 39,
   "metadata": {},
   "outputs": [
    {
     "data": {
      "text/plain": [
       "200"
      ]
     },
     "execution_count": 39,
     "metadata": {},
     "output_type": "execute_result"
    }
   ],
   "source": [
    "len(real_latent_vectors)"
   ]
  },
  {
   "cell_type": "code",
   "execution_count": 40,
   "metadata": {},
   "outputs": [],
   "source": [
    "# c_losses, g_losses, pred = train(real_latent_vectors, 10, 30, latent_dim)\n",
    "preds, dlosses, glosses = train(latent_vector_dataset, epochs=10)"
   ]
  },
  {
   "cell_type": "code",
   "execution_count": 41,
   "metadata": {},
   "outputs": [],
   "source": [
    "\n",
    "# noise_dim = 30\n",
    "# n_batch = 64\n",
    "# # create the critic\n",
    "# critic = make_critic([latent_dim, 1])\n",
    "# # create the generator\n",
    "# # generator = make_generator((n_batch, latent_dim))\n",
    "# generator = make_generator(latent_dim, noise_dim)\n",
    "# # create the gan\n",
    "# gan = make_gan(generator, critic)\n",
    "# # load image data\n",
    "\n",
    "\n",
    "# real_latent_vectors = variational_encoder(test_dataset)[0]\n",
    "# epochs = 10\n",
    "# # train model\n",
    "# c1_loss, c2_loss, g_loss = train(generator, critic, gan, dataset=test_dataset[:10000], latent_dim=latent_dim, noise_dim=noise_dim, n_epochs=epochs, n_batch=n_batch)"
   ]
  },
  {
   "cell_type": "code",
   "execution_count": 42,
   "metadata": {},
   "outputs": [
    {
     "data": {
      "image/png": "[encoded data removed]",
      "text/plain": [
       "<Figure size 640x480 with 1 Axes>"
      ]
     },
     "metadata": {},
     "output_type": "display_data"
    }
   ],
   "source": [
    "# plt.plot(c_losses, label=\"critic loss real data\")\n",
    "# plt.plot(g_losses, label=\"generator\")\n",
    "plt.plot(dlosses, label=\"discriminator loss\")\n",
    "plt.plot(glosses, label=\"generator loss\")\n",
    "plt.legend()\n",
    "plt.show()"
   ]
  },
  {
   "cell_type": "markdown",
   "metadata": {},
   "source": [
    "## Step 3: Use generator to make latent vectors and decode with decoder"
   ]
  },
  {
   "cell_type": "code",
   "execution_count": 43,
   "metadata": {},
   "outputs": [],
   "source": [
    "preds = preds.reshape(640, latent_dim)"
   ]
  },
  {
   "cell_type": "code",
   "execution_count": 44,
   "metadata": {},
   "outputs": [
    {
     "data": {
      "text/plain": [
       "(100000, 23)"
      ]
     },
     "execution_count": 44,
     "metadata": {},
     "output_type": "execute_result"
    }
   ],
   "source": [
    "test_dataset.shape"
   ]
  },
  {
   "cell_type": "code",
   "execution_count": 45,
   "metadata": {},
   "outputs": [
    {
     "data": {
      "text/plain": [
       "KstestResult(statistic=0.836820652173913, pvalue=0.0, statistic_location=0.14391691394658754, statistic_sign=1)"
      ]
     },
     "execution_count": 45,
     "metadata": {},
     "output_type": "execute_result"
    }
   ],
   "source": [
    "latent_vectors = preds\n",
    "data = variational_decoder(latent_vectors)\n",
    "scipy.stats.ks_2samp(test_dataset[:640].reshape(14720,), data.numpy().reshape(14720,))\n",
    "# data.numpy().shape, test_dataset.shape"
   ]
  },
  {
   "cell_type": "code",
   "execution_count": 46,
   "metadata": {},
   "outputs": [
    {
     "data": {
      "text/plain": [
       "0.2650681650427665"
      ]
     },
     "execution_count": 46,
     "metadata": {},
     "output_type": "execute_result"
    }
   ],
   "source": [
    "scipy.stats.wasserstein_distance(test_dataset[:640].reshape(14720,), data.numpy().reshape(14720,))"
   ]
  },
  {
   "cell_type": "code",
   "execution_count": 47,
   "metadata": {},
   "outputs": [],
   "source": [
    "# from sklearn.neighbors import KernelDensity\n",
    "# kde_gen = KernelDensity(kernel='epanechnikov').fit(data.numpy()[:, 10].reshape(-1, 1))\n",
    "# kde_dat = KernelDensity(kernel='epanechnikov').fit(test_dataset[:1000, 10].reshape(-1, 1))\n",
    "\n",
    "# plt.plot(kde_gen.score_samples(data.numpy()[:, 10].reshape(-1, 1)))"
   ]
  },
  {
   "cell_type": "code",
   "execution_count": 48,
   "metadata": {},
   "outputs": [],
   "source": [
    "# plt.plot(kde_dat.score_samples(test_dataset[:1000, 10].reshape(-1, 1)))"
   ]
  }
 ],
 "metadata": {
  "kernelspec": {
   "display_name": "ankh-morpork",
   "language": "python",
   "name": "python3"
  },
  "language_info": {
   "codemirror_mode": {
    "name": "ipython",
    "version": 3
   },
   "file_extension": ".py",
   "mimetype": "text/x-python",
   "name": "python",
   "nbconvert_exporter": "python",
   "pygments_lexer": "ipython3",
   "version": "3.11.6"
  }
 },
 "nbformat": 4,
 "nbformat_minor": 2
}
