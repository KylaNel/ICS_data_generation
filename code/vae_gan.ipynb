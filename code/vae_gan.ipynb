{
 "cells": [
  {
   "cell_type": "code",
   "execution_count": 365,
   "metadata": {},
   "outputs": [],
   "source": [
    "import numpy as np\n",
    "import matplotlib.pyplot as plt\n",
    "import pandas as pd\n",
    "import tensorflow as tf\n",
    "import scipy\n",
    "from sklearn import preprocessing"
   ]
  },
  {
   "cell_type": "code",
   "execution_count": 366,
   "metadata": {},
   "outputs": [],
   "source": [
    "attacks = pd.read_csv(\"/home/knel/virtual_envs/ankh-morpork/ICS_data_generation/data/swat_processed.csv\", sep=\",\")"
   ]
  },
  {
   "cell_type": "code",
   "execution_count": 367,
   "metadata": {},
   "outputs": [],
   "source": [
    "attacks = preprocessing.normalize(attacks.to_numpy()[:, 1:], norm=\"max\", axis=0)\n",
    "\n",
    "# swap sport to front\n",
    "# attacks[:, [0, 1]] = attacks[:, [1, 0]]\n",
    "# # swap dport to after sport\n",
    "# attacks[:, [1, 2]] = attacks[:, [2, 1]]\n",
    "# # swap protocols to after dport\n",
    "# attacks[:, [2, 14]] = attacks[:, [14, 2]]\n",
    "\n",
    "# column order now -> sport, dport, protocols, continuous (discrete, discrete, discrete, continuous)\n",
    "\n",
    "# should probably add batch and shuffle\n",
    "\n",
    "batch_size = 64\n",
    "num_features = attacks[:int(np.floor(attacks.shape[0]*3/4))].shape[1]\n",
    "# train_dataset = attacks[:int(np.floor(attacks.shape[0]*4/5))]\n",
    "train_dataset = attacks[:10000]\n",
    "# train_dataset = (tf.data.Dataset.from_tensor_slices(attacks[:19968]).shuffle(10000).batch(batch_size))\n",
    "test_dataset = attacks[int(np.floor(attacks.shape[0]*4/5)):]\n",
    "# test_dataset = attacks[30000:32000]\n",
    "\n",
    "\n",
    "seq_length = 10\n",
    "latent_dim = 100"
   ]
  },
  {
   "cell_type": "code",
   "execution_count": 368,
   "metadata": {},
   "outputs": [
    {
     "data": {
      "text/plain": [
       "(531634, 22)"
      ]
     },
     "execution_count": 368,
     "metadata": {},
     "output_type": "execute_result"
    }
   ],
   "source": [
    "test_dataset.shape"
   ]
  },
  {
   "cell_type": "code",
   "execution_count": 369,
   "metadata": {},
   "outputs": [],
   "source": [
    "class Sampling(tf.keras.layers.Layer):\n",
    "    def call(self, inputs):\n",
    "        mean, log_var = inputs\n",
    "        return tf.keras.backend.random_normal(tf.shape(log_var)) * tf.keras.backend.exp(log_var / 2) + mean"
   ]
  },
  {
   "cell_type": "code",
   "execution_count": 370,
   "metadata": {},
   "outputs": [],
   "source": [
    "# encoder\n",
    "\n",
    "inputs = tf.keras.layers.Input(shape=[num_features,1])\n",
    "z = tf.keras.layers.Flatten()(inputs)\n",
    "z = tf.keras.layers.Dense(150, activation=\"relu\", kernel_initializer=\"he_normal\")(z)\n",
    "z = tf.keras.layers.Dense(100, activation=\"relu\", kernel_initializer=\"he_normal\")(z)\n",
    "codings_mean = tf.keras.layers.Dense(latent_dim)(z) # mu\n",
    "codings_log_var = tf.keras.layers.Dense(latent_dim)(z) # gamma\n",
    "codings = Sampling()([codings_mean, codings_log_var])\n",
    "variational_encoder = tf.keras.Model(inputs=[inputs], outputs=[codings_mean, codings_log_var, codings])\n",
    "\n",
    "# decoder\n",
    "\n",
    "decoder_inputs = tf.keras.layers.Input(shape=[latent_dim])\n",
    "x = tf.keras.layers.Dense(100, activation=\"relu\", kernel_initializer=\"he_normal\")(decoder_inputs)\n",
    "x = tf.keras.layers.Dense(150, activation=\"relu\", kernel_initializer=\"he_normal\")(x)\n",
    "x = tf.keras.layers.Dense(num_features*1, activation=\"sigmoid\")(x)\n",
    "outputs = tf.keras.layers.Reshape([num_features, 1])(x)\n",
    "variational_decoder = tf.keras.Model(inputs=[decoder_inputs], outputs=[outputs])\n",
    "\n",
    "# VAE model\n",
    "\n",
    "_, _, codings = variational_encoder(inputs)\n",
    "reconstructions = variational_decoder(codings)\n",
    "variational_ae = tf.keras.Model(inputs=[inputs], outputs=[reconstructions])\n",
    "\n",
    "# VAE losses\n",
    "\n",
    "latent_loss = -0.5 * tf.keras.backend.sum(1 + codings_log_var - tf.keras.backend.exp(codings_log_var) - tf.keras.backend.square(codings_mean), axis=-1)\n",
    "variational_ae.add_loss(tf.keras.backend.mean(latent_loss / float(num_features)))\n",
    "# variational_ae.add_loss(tf.keras.backend.mean(latent_loss))\n",
    "optimizer = tf.keras.optimizers.RMSprop(learning_rate=1e-5)\n",
    "variational_ae.compile(loss=\"binary_crossentropy\", optimizer=optimizer)"
   ]
  },
  {
   "cell_type": "code",
   "execution_count": 371,
   "metadata": {},
   "outputs": [],
   "source": [
    "noise_dim = 100\n",
    "\n",
    "def make_generator_model():\n",
    "    model = tf.keras.Sequential()\n",
    "    # LSTM hidden layer with 200 memory units\n",
    "    model.add(tf.keras.layers.LSTM(200, input_shape = [seq_length, noise_dim], recurrent_dropout=0.4, return_sequences=True))\n",
    "    model.add(tf.keras.layers.ReLU())\n",
    "    model.add(tf.keras.layers.LSTM(200, recurrent_dropout=0.4))\n",
    "    model.add(tf.keras.layers.ReLU())\n",
    "    # dropout layer with a probability of 20\n",
    "    # model.add(tf.keras.layers.Dropout(0.2))\n",
    "    # output dense (fully connected) layer\n",
    "    model.add(tf.keras.layers.Dense(latent_dim, activation=\"tanh\"))\n",
    "    return model\n",
    "\n",
    "def make_discriminator_model():\n",
    "    model = tf.keras.Sequential()\n",
    "    model.add(tf.keras.layers.LSTM(200, input_shape=[latent_dim, 1], recurrent_dropout=0.4, return_sequences=True))\n",
    "    model.add(tf.keras.layers.LSTM(200, recurrent_dropout=0.4))\n",
    "    # model.add(tf.keras.layers.Dropout(0.2))\n",
    "    # what should the units of this dense layer be?\n",
    "    # seems like it outputs one value >0 for real data and <0 for fake data\n",
    "    # for each item in the batch\n",
    "    model.add(tf.keras.layers.Dense(1, activation=\"tanh\"))\n",
    "    return model\n",
    "\n",
    "cross_entropy = tf.keras.losses.BinaryCrossentropy(from_logits=False) # from_logits=True means models prediction represents a value [-inf, inf]\n",
    "\n",
    "def discriminator_loss(real_data, fake_data):\n",
    "    real_loss = cross_entropy(tf.ones_like(real_data), real_data)\n",
    "    fake_loss = cross_entropy(tf.zeros_like(fake_data), fake_data)\n",
    "    total_loss = real_loss + fake_loss\n",
    "    return total_loss\n",
    "\n",
    "def generator_loss(fake_data):\n",
    "    return cross_entropy(tf.ones_like(fake_data), fake_data)"
   ]
  },
  {
   "cell_type": "code",
   "execution_count": 372,
   "metadata": {},
   "outputs": [],
   "source": [
    "generator = make_generator_model()\n",
    "discriminator = make_discriminator_model()"
   ]
  },
  {
   "cell_type": "code",
   "execution_count": 373,
   "metadata": {},
   "outputs": [],
   "source": [
    "# def wasserstein_loss(y_pred, y_real):\n",
    "#     return tf.keras.backend.mean(y_pred * y_real)\n",
    "\n",
    "# def generator_wasserstein_loss(y_pred):\n",
    "#     return -tf.keras.backend.mean(y_pred)\n",
    "\n",
    "# class ClipConstraint(tf.keras.constraints.Constraint):\n",
    "#     def __init__(self, clip_value):\n",
    "#         self.clip_value = clip_value"
   ]
  },
  {
   "cell_type": "code",
   "execution_count": 374,
   "metadata": {},
   "outputs": [],
   "source": [
    "# def make_critic(input_shape):\n",
    "#     init = tf.keras.initializers.RandomNormal(stddev=0.02)\n",
    "#     const = ClipConstraint(0.01)\n",
    "#     model = tf.keras.models.Sequential()\n",
    "#     # model.add(tf.keras.layers.Flatten(input_shape=(input_shape[0]*input_shape[1])))\n",
    "#     # model.add(tf.keras.layers.LSTM(100, input_shape=input_shape, kernel_initializer=init, kernel_constraint=const, recurrent_dropout=0.4, return_sequences=True, name=\"c_lstm1\"))\n",
    "#     # model.add(tf.keras.layers.LSTM(100, kernel_initializer=init, kernel_constraint=const, recurrent_dropout=0.4, return_sequences=True, name=\"c_lstm2\"))\n",
    "#     model.add(tf.keras.layers.Dense(250, input_shape=input_shape, kernel_initializer=init, kernel_constraint=const))\n",
    "\n",
    "#     model.add(tf.keras.layers.Dense(200, kernel_initializer=init, kernel_constraint=const))\n",
    "#     model.add(tf.keras.layers.Dropout(0.2))\n",
    "#     tf.keras.layers.BatchNormalization()\n",
    "#     model.add(tf.keras.layers.LeakyReLU(0.2))\n",
    "#     # model.add(tf.keras.layers.LSTM(100, kernel_initializer=init, kernel_constraint=const, recurrent_dropout=0.4, name=\"c_lstm3\"))\n",
    "#     model.add(tf.keras.layers.Dense(150, kernel_initializer=init, kernel_constraint=const))\n",
    "#     model.add(tf.keras.layers.Dropout(0.2))\n",
    "#     tf.keras.layers.BatchNormalization()\n",
    "#     model.add(tf.keras.layers.LeakyReLU(0.2))\n",
    "\n",
    "#     model.add(tf.keras.layers.Dense(100, kernel_initializer=init, kernel_constraint=const))\n",
    "#     model.add(tf.keras.layers.Dropout(0.2))\n",
    "#     tf.keras.layers.BatchNormalization()\n",
    "#     model.add(tf.keras.layers.LeakyReLU(0.2))\n",
    "\n",
    "#     model.add(tf.keras.layers.Dense(1, name=\"c_dense\"))\n",
    "#     # opt = tf.keras.optimizers.RMSprop(learning_rate=0.00005)\n",
    "#     # model.compile(loss=wasserstein_loss, optimizer=opt)\n",
    "#     return model\n",
    "\n",
    "# def make_generator(output_shape, noise_dim):\n",
    "#     init = tf.keras.initializers.RandomNormal(stddev=0.02)\n",
    "#     model = tf.keras.models.Sequential()\n",
    "#     # model.add(tf.keras.layers.LSTM(100, input_shape=(5, output_shape), kernel_initializer=init, recurrent_dropout=0.4, return_sequences=True))\n",
    "#     model.add(tf.keras.layers.Dense(100, input_shape=[noise_dim], kernel_initializer=init))\n",
    "#     tf.keras.layers.BatchNormalization()\n",
    "#     model.add(tf.keras.layers.LeakyReLU(0.2))\n",
    "#     # model.add(tf.keras.layers.LSTM(100, kernel_initializer=init, recurrent_dropout=0.4))\n",
    "#     model.add(tf.keras.layers.Dense(150, kernel_initializer=init))\n",
    "#     model.add(tf.keras.layers.Dropout(0.2))\n",
    "#     tf.keras.layers.BatchNormalization()\n",
    "#     model.add(tf.keras.layers.LeakyReLU(0.2))\n",
    "\n",
    "#     model.add(tf.keras.layers.Dense(200, kernel_initializer=init))\n",
    "#     model.add(tf.keras.layers.Dropout(0.2))\n",
    "#     tf.keras.layers.BatchNormalization()\n",
    "#     model.add(tf.keras.layers.LeakyReLU(0.2))\n",
    "#     # model.add(tf.keras.layers.Dense(output_shape[0]*output_shape[1], activation=\"tanh\", kernel_initializer=init))\n",
    "#     # model.add(tf.keras.layers.Reshape([output_shape[0], output_shape[1]]))\n",
    "#     model.add(tf.keras.layers.Dense(output_shape, activation=\"tanh\"))\n",
    "#     # opt = tf.keras.optimizers.RMSprop(learning_rate=0.00005)\n",
    "#     # model.compile(loss=generator_wasserstein_loss, optimizer=opt)\n",
    "#     return model\n",
    "\n",
    "# def make_gan(generator, critic):\n",
    "#     model = tf.keras.models.Sequential()\n",
    "#     model.add(generator)\n",
    "#     model.add(critic)\n",
    "#     opt = tf.keras.optimizers.RMSprop(learning_rate=0.00005)\n",
    "#     model.compile(loss=wasserstein_loss, optimizer=opt)\n",
    "#     return model"
   ]
  },
  {
   "cell_type": "markdown",
   "metadata": {},
   "source": [
    "## Step 1: Train autoencoder on real data"
   ]
  },
  {
   "cell_type": "code",
   "execution_count": null,
   "metadata": {},
   "outputs": [],
   "source": []
  },
  {
   "cell_type": "code",
   "execution_count": 375,
   "metadata": {},
   "outputs": [
    {
     "name": "stdout",
     "output_type": "stream",
     "text": [
      "Epoch 1/50\n",
      "157/157 [==============================] - 1s 995us/step - loss: 0.9692\n",
      "Epoch 2/50\n",
      "157/157 [==============================] - 0s 960us/step - loss: 0.8170\n",
      "Epoch 3/50\n",
      "157/157 [==============================] - 0s 933us/step - loss: 0.6958\n",
      "Epoch 4/50\n",
      "157/157 [==============================] - 0s 935us/step - loss: 0.5938\n",
      "Epoch 5/50\n",
      "157/157 [==============================] - 0s 948us/step - loss: 0.5107\n",
      "Epoch 6/50\n",
      "157/157 [==============================] - 0s 953us/step - loss: 0.4432\n",
      "Epoch 7/50\n",
      "157/157 [==============================] - 0s 952us/step - loss: 0.3894\n",
      "Epoch 8/50\n",
      "157/157 [==============================] - 0s 941us/step - loss: 0.3446\n",
      "Epoch 9/50\n",
      "157/157 [==============================] - 0s 949us/step - loss: 0.3098\n",
      "Epoch 10/50\n",
      "157/157 [==============================] - 0s 937us/step - loss: 0.2818\n",
      "Epoch 11/50\n",
      "157/157 [==============================] - 0s 941us/step - loss: 0.2613\n",
      "Epoch 12/50\n",
      "157/157 [==============================] - 0s 941us/step - loss: 0.2466\n",
      "Epoch 13/50\n",
      "157/157 [==============================] - 0s 950us/step - loss: 0.2343\n",
      "Epoch 14/50\n",
      "157/157 [==============================] - 0s 942us/step - loss: 0.2259\n",
      "Epoch 15/50\n",
      "157/157 [==============================] - 0s 943us/step - loss: 0.2194\n",
      "Epoch 16/50\n",
      "157/157 [==============================] - 0s 944us/step - loss: 0.2150\n",
      "Epoch 17/50\n",
      "157/157 [==============================] - 0s 957us/step - loss: 0.2114\n",
      "Epoch 18/50\n",
      "157/157 [==============================] - 0s 944us/step - loss: 0.2086\n",
      "Epoch 19/50\n",
      "157/157 [==============================] - 0s 944us/step - loss: 0.2061\n",
      "Epoch 20/50\n",
      "157/157 [==============================] - 0s 952us/step - loss: 0.2044\n",
      "Epoch 21/50\n",
      "157/157 [==============================] - 0s 953us/step - loss: 0.2023\n",
      "Epoch 22/50\n",
      "157/157 [==============================] - 0s 950us/step - loss: 0.2015\n",
      "Epoch 23/50\n",
      "157/157 [==============================] - 0s 958us/step - loss: 0.1999\n",
      "Epoch 24/50\n",
      "157/157 [==============================] - 0s 961us/step - loss: 0.2000\n",
      "Epoch 25/50\n",
      "157/157 [==============================] - 0s 951us/step - loss: 0.1983\n",
      "Epoch 26/50\n",
      "157/157 [==============================] - 0s 946us/step - loss: 0.1981\n",
      "Epoch 27/50\n",
      "157/157 [==============================] - 0s 956us/step - loss: 0.1974\n",
      "Epoch 28/50\n",
      "157/157 [==============================] - 0s 956us/step - loss: 0.1967\n",
      "Epoch 29/50\n",
      "157/157 [==============================] - 0s 961us/step - loss: 0.1957\n",
      "Epoch 30/50\n",
      "157/157 [==============================] - 0s 959us/step - loss: 0.1958\n",
      "Epoch 31/50\n",
      "157/157 [==============================] - 0s 939us/step - loss: 0.1948\n",
      "Epoch 32/50\n",
      "157/157 [==============================] - 0s 941us/step - loss: 0.1945\n",
      "Epoch 33/50\n",
      "157/157 [==============================] - 0s 934us/step - loss: 0.1945\n",
      "Epoch 34/50\n",
      "157/157 [==============================] - 0s 935us/step - loss: 0.1938\n",
      "Epoch 35/50\n",
      "157/157 [==============================] - 0s 937us/step - loss: 0.1931\n",
      "Epoch 36/50\n",
      "157/157 [==============================] - 0s 936us/step - loss: 0.1931\n",
      "Epoch 37/50\n",
      "157/157 [==============================] - 0s 940us/step - loss: 0.1927\n",
      "Epoch 38/50\n",
      "157/157 [==============================] - 0s 935us/step - loss: 0.1929\n",
      "Epoch 39/50\n",
      "157/157 [==============================] - 0s 948us/step - loss: 0.1919\n",
      "Epoch 40/50\n",
      "157/157 [==============================] - 0s 948us/step - loss: 0.1918\n",
      "Epoch 41/50\n",
      "157/157 [==============================] - 0s 943us/step - loss: 0.1912\n",
      "Epoch 42/50\n",
      "157/157 [==============================] - 0s 960us/step - loss: 0.1910\n",
      "Epoch 43/50\n",
      "157/157 [==============================] - 0s 942us/step - loss: 0.1902\n",
      "Epoch 44/50\n",
      "157/157 [==============================] - 0s 961us/step - loss: 0.1904\n",
      "Epoch 45/50\n",
      "157/157 [==============================] - 0s 945us/step - loss: 0.1905\n",
      "Epoch 46/50\n",
      "157/157 [==============================] - 0s 1ms/step - loss: 0.1901\n",
      "Epoch 47/50\n",
      "157/157 [==============================] - 0s 984us/step - loss: 0.1899\n",
      "Epoch 48/50\n",
      "157/157 [==============================] - 0s 935us/step - loss: 0.1889\n",
      "Epoch 49/50\n",
      "157/157 [==============================] - 0s 937us/step - loss: 0.1895\n",
      "Epoch 50/50\n",
      "157/157 [==============================] - 0s 938us/step - loss: 0.1893\n"
     ]
    }
   ],
   "source": [
    "# variational_ae.fit(train_dataset, train_dataset, epochs=5, batch_size=64)\n",
    "history = variational_ae.fit(train_dataset, train_dataset, epochs=50, batch_size=64)"
   ]
  },
  {
   "cell_type": "code",
   "execution_count": 376,
   "metadata": {},
   "outputs": [],
   "source": [
    "vae_loss_history[\"wustl\"] = history.history[\"loss\"]"
   ]
  },
  {
   "cell_type": "code",
   "execution_count": 377,
   "metadata": {},
   "outputs": [
    {
     "data": {
      "text/plain": [
       "Text(0, 0.5, 'Loss')"
      ]
     },
     "execution_count": 377,
     "metadata": {},
     "output_type": "execute_result"
    },
    {
     "data": {
      "image/png": "[encoded data removed]",
      "text/plain": [
       "<Figure size 640x480 with 1 Axes>"
      ]
     },
     "metadata": {},
     "output_type": "display_data"
    }
   ],
   "source": [
    "plt.plot(history.history[\"loss\"])\n",
    "plt.xlabel(\"Epoch\")\n",
    "plt.ylabel(\"Loss\")\n",
    "# plt.savefig(\"vae_gan_vae_loss_swat_sensor.png\", dpi=800)"
   ]
  },
  {
   "cell_type": "code",
   "execution_count": 378,
   "metadata": {},
   "outputs": [],
   "source": [
    "# vae_loss_history = {\"swat_sensor\": None, \"swat_network\": None, \"wustl\": None, \"wadi\": None}"
   ]
  },
  {
   "cell_type": "code",
   "execution_count": 379,
   "metadata": {},
   "outputs": [
    {
     "data": {
      "image/png": "[encoded data removed]",
      "text/plain": [
       "<Figure size 640x480 with 1 Axes>"
      ]
     },
     "metadata": {},
     "output_type": "display_data"
    }
   ],
   "source": [
    "plt.figure()\n",
    "plt.plot(vae_loss_history[\"swat_sensor\"], label=\"SWaT sensor data\")\n",
    "plt.plot(vae_loss_history[\"swat_network\"], label=\"SWaT network data\")\n",
    "plt.plot(vae_loss_history[\"wadi\"], label=\"WADI sensor data\")\n",
    "plt.plot(vae_loss_history[\"wustl\"], label=\"WUSTL network data\")\n",
    "plt.xlabel(\"Epoch\")\n",
    "plt.ylabel(\"Loss\")\n",
    "plt.legend()\n",
    "plt.show()\n",
    "# plt.savefig(\"vae_gan_vae_losses.png\")"
   ]
  },
  {
   "cell_type": "markdown",
   "metadata": {},
   "source": [
    "## Step 2: Train GAN to learn realistic latent vectors"
   ]
  },
  {
   "cell_type": "code",
   "execution_count": 380,
   "metadata": {},
   "outputs": [],
   "source": [
    "# generator_optimiser = tf.keras.optimizers.RMSprop(learning_rate=0.00005)\n",
    "# critic_optimiser = tf.keras.optimizers.RMSprop(learning_rate=0.00005)\n",
    "\n",
    "# def train_step(generator, critic, dataset, latent_dim, noise_dim, n_batch=40, n_critic=5):\n",
    "\n",
    "#     for _ in range(n_critic):\n",
    "\n",
    "#         \"\"\"\n",
    "#         Train critic more often than the generator for WGAN\n",
    "#         \"\"\"\n",
    "\n",
    "#         with tf.GradientTape() as critic_tape:\n",
    "#             ix = np.random.randint(0, dataset.shape[0], n_batch)\n",
    "#             # X_real = dataset.numpy()[ix]\n",
    "#             X_real = dataset[ix]\n",
    "#             noise = tf.random.normal((n_batch, noise_dim))\n",
    "#             X_fake = generator(noise, training=True)\n",
    "\n",
    "#             pred_real = critic(X_real, training=True)\n",
    "#             pred_fake = critic(X_fake, training=True)\n",
    "\n",
    "#             c_loss = wasserstein_loss(pred_real, pred_fake)\n",
    "        \n",
    "\n",
    "#         critic_gradients = critic_tape.gradient(c_loss, critic.trainable_variables)\n",
    "#         critic_optimiser.apply_gradients(zip(critic_gradients, critic.trainable_variables))\n",
    "#     # print(f\"Critic loss: {c_loss}\")  \n",
    "    \n",
    "#     \"\"\" \n",
    "#     Train generator\n",
    "#     \"\"\"\n",
    "\n",
    "#     with tf.GradientTape() as gen_tape:\n",
    "#         X_fake = generator(noise, training=True)\n",
    "#         pred_fake = critic(X_fake, training=True)\n",
    "#         g_loss = generator_wasserstein_loss(pred_fake)\n",
    "#         # print(f\"Generator loss: {g_loss}\")\n",
    "    \n",
    "#     generator_gradients = gen_tape.gradient(g_loss, generator.trainable_variables)\n",
    "#     generator_optimiser.apply_gradients(zip(generator_gradients, generator.trainable_variables))\n",
    "\n",
    "\n",
    "#     return c_loss, g_loss\n",
    "\n",
    "# def train(dataset, n_epochs=2, noise_dim=50, latent_dim=50):\n",
    "\n",
    "#     generator = make_generator(latent_dim, noise_dim)\n",
    "#     critic = make_critic((latent_dim, 1))\n",
    "\n",
    "#     c_losses, g_losses = [], []\n",
    "\n",
    "#     for i in range(n_epochs):\n",
    "#         # print(f\"Epoch: {i+1}\")\n",
    "#         for batch in dataset:\n",
    "#             c_loss, g_loss = train_step(generator, critic, batch, latent_dim, noise_dim)\n",
    "#             c_losses.append(c_loss)\n",
    "#             g_losses.append(g_loss)\n",
    "    \n",
    "#     noise = tf.random.normal((1000, noise_dim))\n",
    "#     prediction = generator.predict(noise)\n",
    "\n",
    "#     return c_losses, g_losses, prediction"
   ]
  },
  {
   "cell_type": "code",
   "execution_count": 381,
   "metadata": {},
   "outputs": [],
   "source": [
    "generator_optimiser = tf.keras.optimizers.Adam(1e-4)\n",
    "discriminator_optimiser = tf.keras.optimizers.Adam(1e-4)\n",
    "\n",
    "@tf.function\n",
    "def train_step(data):\n",
    "    dlosses = []\n",
    "    glosses = []\n",
    "    # generate samples from the random space\n",
    "    # noise = tf.random.normal((batch_size, seq_length, num_features))\n",
    "\n",
    "    with tf.GradientTape() as generator_tape, tf.GradientTape() as discriminator_tape:\n",
    "        noise = tf.random.normal((batch_size, seq_length, noise_dim))\n",
    "        generated_data = generator(noise, training=True)\n",
    "\n",
    "        real_data = discriminator(data, training=True)\n",
    "        fake_data = discriminator(generated_data, training=True)\n",
    "\n",
    "        gloss = generator_loss(fake_data)\n",
    "        dloss = discriminator_loss(real_data, fake_data)\n",
    "        dlosses.append(dloss)\n",
    "        glosses.append(gloss)\n",
    "\n",
    "    generator_gradients = generator_tape.gradient(gloss, generator.trainable_variables)\n",
    "    discriminator_gradients = discriminator_tape.gradient(dloss, discriminator.trainable_variables)\n",
    "\n",
    "    generator_optimiser.apply_gradients(zip(generator_gradients, generator.trainable_variables))\n",
    "    discriminator_optimiser.apply_gradients(zip(discriminator_gradients, discriminator.trainable_variables))\n",
    "    return dloss, gloss"
   ]
  },
  {
   "cell_type": "code",
   "execution_count": 382,
   "metadata": {},
   "outputs": [],
   "source": [
    "lv = variational_encoder(attacks[:10000])[0]"
   ]
  },
  {
   "cell_type": "code",
   "execution_count": 383,
   "metadata": {},
   "outputs": [
    {
     "data": {
      "text/plain": [
       "<tf.Tensor: shape=(10000, 100), dtype=float32, numpy=\n",
       "array([[ 0.09970459, -0.00197956,  0.11600327, ...,  0.18364806,\n",
       "         0.28140342, -0.34269983],\n",
       "       [ 0.09897309, -0.04159235,  0.15393698, ...,  0.20490494,\n",
       "         0.2918322 , -0.32100847],\n",
       "       [ 0.23338883,  0.03153744, -0.00589037, ...,  0.02288369,\n",
       "         0.13543989, -0.3769228 ],\n",
       "       ...,\n",
       "       [ 0.01218037,  0.0008024 , -0.00521853, ...,  0.01125006,\n",
       "         0.00953177, -0.00257281],\n",
       "       [ 0.00218528,  0.00167514, -0.00721234, ...,  0.00756188,\n",
       "         0.01059647,  0.00096035],\n",
       "       [ 0.01437591,  0.00147973, -0.00673973, ...,  0.0055708 ,\n",
       "         0.00202436,  0.00603999]], dtype=float32)>"
      ]
     },
     "execution_count": 383,
     "metadata": {},
     "output_type": "execute_result"
    }
   ],
   "source": [
    "lv"
   ]
  },
  {
   "cell_type": "code",
   "execution_count": 384,
   "metadata": {},
   "outputs": [
    {
     "data": {
      "text/plain": [
       "<_BatchDataset element_spec=TensorSpec(shape=(None, 100), dtype=tf.float32, name=None)>"
      ]
     },
     "execution_count": 384,
     "metadata": {},
     "output_type": "execute_result"
    }
   ],
   "source": [
    "# real_latent_vectors = np.split((variational_encoder(attacks[:20000])[0]).numpy(), 200)\n",
    "noise = tf.random.normal((batch_size, seq_length, num_features))\n",
    "latent_vector_dataset = (tf.data.Dataset.from_tensor_slices((variational_encoder(attacks[:10000])[0]).numpy()).shuffle(50000).batch(64))\n",
    "latent_vector_dataset"
   ]
  },
  {
   "cell_type": "code",
   "execution_count": 385,
   "metadata": {},
   "outputs": [],
   "source": [
    "def train(dataset, epochs):\n",
    "\n",
    "    dlosses = []\n",
    "    glosses = []\n",
    "\n",
    "    for epoch in range(epochs):\n",
    "        \n",
    "        # maybe add another loop for more training rounds\n",
    "        for data_batch in dataset:\n",
    "            dloss, gloss = train_step(data_batch)\n",
    "        dlosses.append(dloss)\n",
    "        glosses.append(gloss)\n",
    "\n",
    "\n",
    "    return dlosses, glosses"
   ]
  },
  {
   "cell_type": "code",
   "execution_count": 386,
   "metadata": {},
   "outputs": [],
   "source": [
    "# c_losses, g_losses, pred = train(real_latent_vectors, 10, 30, latent_dim)\n",
    "dlosses, glosses = train(latent_vector_dataset, epochs=30)"
   ]
  },
  {
   "cell_type": "code",
   "execution_count": 387,
   "metadata": {},
   "outputs": [],
   "source": [
    "\n",
    "# noise_dim = 30\n",
    "# n_batch = 64\n",
    "# # create the critic\n",
    "# critic = make_critic([latent_dim, 1])\n",
    "# # create the generator\n",
    "# # generator = make_generator((n_batch, latent_dim))\n",
    "# generator = make_generator(latent_dim, noise_dim)\n",
    "# # create the gan\n",
    "# gan = make_gan(generator, critic)\n",
    "# # load image data\n",
    "\n",
    "\n",
    "# real_latent_vectors = variational_encoder(test_dataset)[0]\n",
    "# epochs = 10\n",
    "# # train model\n",
    "# c1_loss, c2_loss, g_loss = train(generator, critic, gan, dataset=test_dataset[:10000], latent_dim=latent_dim, noise_dim=noise_dim, n_epochs=epochs, n_batch=n_batch)"
   ]
  },
  {
   "cell_type": "code",
   "execution_count": 395,
   "metadata": {},
   "outputs": [
    {
     "data": {
      "image/png": "[encoded data removed]",
      "text/plain": [
       "<Figure size 640x480 with 1 Axes>"
      ]
     },
     "metadata": {},
     "output_type": "display_data"
    }
   ],
   "source": [
    "# plt.plot(c_losses, label=\"critic loss real data\")\n",
    "# plt.plot(g_losses, label=\"generator\")\n",
    "plt.plot(dlosses, label=\"Discriminator Loss\")\n",
    "plt.plot(glosses, label=\"Generator Loss\")\n",
    "plt.xlabel(\"Epoch\")\n",
    "plt.ylabel(\"Loss\")\n",
    "plt.legend()\n",
    "# plt.show()\n",
    "plt.savefig(\"vae_gan_swat_network.png\", dpi=800)"
   ]
  },
  {
   "cell_type": "markdown",
   "metadata": {},
   "source": [
    "## Step 3: Use generator to make latent vectors and decode with decoder"
   ]
  },
  {
   "cell_type": "code",
   "execution_count": 389,
   "metadata": {},
   "outputs": [
    {
     "name": "stdout",
     "output_type": "stream",
     "text": [
      "16614/16614 [==============================] - 52s 3ms/step\n"
     ]
    }
   ],
   "source": [
    "test_noise = tf.random.normal((test_dataset.shape[0], seq_length, latent_dim))\n",
    "preds = generator.predict(test_noise)\n",
    "latent_vectors = preds.reshape(test_dataset.shape[0], latent_dim)\n",
    "data = variational_decoder(latent_vectors)\n",
    "\n",
    "# data.numpy().shape, test_dataset.shape"
   ]
  },
  {
   "cell_type": "code",
   "execution_count": 390,
   "metadata": {},
   "outputs": [
    {
     "data": {
      "text/plain": [
       "(TensorShape([531634, 22, 1]), (531634, 22))"
      ]
     },
     "execution_count": 390,
     "metadata": {},
     "output_type": "execute_result"
    }
   ],
   "source": [
    "data.shape, test_dataset.shape"
   ]
  },
  {
   "cell_type": "code",
   "execution_count": 391,
   "metadata": {},
   "outputs": [
    {
     "data": {
      "text/plain": [
       "KstestResult(statistic=0.9211135343624989, pvalue=0.0, statistic_location=0.35979228486646886, statistic_sign=1)"
      ]
     },
     "execution_count": 391,
     "metadata": {},
     "output_type": "execute_result"
    }
   ],
   "source": [
    "scipy.stats.ks_2samp(test_dataset.reshape(test_dataset.shape[0] * num_features,), data.numpy().reshape(test_dataset.shape[0] * num_features,))"
   ]
  },
  {
   "cell_type": "code",
   "execution_count": 392,
   "metadata": {},
   "outputs": [
    {
     "data": {
      "text/plain": [
       "0.38379554876741023"
      ]
     },
     "execution_count": 392,
     "metadata": {},
     "output_type": "execute_result"
    }
   ],
   "source": [
    "scipy.stats.wasserstein_distance(test_dataset.reshape(test_dataset.shape[0] * num_features,), data.numpy().reshape(test_dataset.shape[0] * num_features,))"
   ]
  },
  {
   "cell_type": "code",
   "execution_count": 393,
   "metadata": {},
   "outputs": [
    {
     "data": {
      "text/plain": [
       "(TensorShape([531634, 1]), (531634,))"
      ]
     },
     "execution_count": 393,
     "metadata": {},
     "output_type": "execute_result"
    }
   ],
   "source": [
    "data[:, 0].shape, test_dataset[:, 0].shape"
   ]
  },
  {
   "cell_type": "code",
   "execution_count": 394,
   "metadata": {},
   "outputs": [
    {
     "ename": "ValueError",
     "evalue": "cannot reshape array of size 531634 into shape (2640,)",
     "output_type": "error",
     "traceback": [
      "\u001b[0;31m---------------------------------------------------------------------------\u001b[0m",
      "\u001b[0;31mValueError\u001b[0m                                Traceback (most recent call last)",
      "Cell \u001b[0;32mIn[394], line 1\u001b[0m\n\u001b[0;32m----> 1\u001b[0m np\u001b[38;5;241m.\u001b[39mcov(\u001b[43mdata\u001b[49m\u001b[43m[\u001b[49m\u001b[43m:\u001b[49m\u001b[43m,\u001b[49m\u001b[43m \u001b[49m\u001b[38;5;241;43m2\u001b[39;49m\u001b[43m]\u001b[49m\u001b[38;5;241;43m.\u001b[39;49m\u001b[43mnumpy\u001b[49m\u001b[43m(\u001b[49m\u001b[43m)\u001b[49m\u001b[38;5;241;43m.\u001b[39;49m\u001b[43mreshape\u001b[49m\u001b[43m(\u001b[49m\u001b[43m(\u001b[49m\u001b[38;5;241;43m2640\u001b[39;49m\u001b[43m,\u001b[49m\u001b[43m)\u001b[49m\u001b[43m)\u001b[49m, test_dataset[:,\u001b[38;5;241m2\u001b[39m])\n",
      "\u001b[0;31mValueError\u001b[0m: cannot reshape array of size 531634 into shape (2640,)"
     ]
    }
   ],
   "source": [
    "np.cov(data[:, 2].numpy().reshape((2640,)), test_dataset[:,2])"
   ]
  },
  {
   "cell_type": "code",
   "execution_count": null,
   "metadata": {},
   "outputs": [],
   "source": [
    "# df = pd.DataFrame(data.numpy().reshape((test_dataset.shape[0] * num_features)))\n",
    "# df.to_csv(\"vae_gan_swat_sensor.csv\", index=False)"
   ]
  },
  {
   "cell_type": "code",
   "execution_count": null,
   "metadata": {},
   "outputs": [],
   "source": [
    "# from sklearn.neighbors import KernelDensity\n",
    "# kde_gen = KernelDensity(kernel='epanechnikov').fit(data.numpy()[:, 10].reshape(-1, 1))\n",
    "# kde_dat = KernelDensity(kernel='epanechnikov').fit(test_dataset[:1000, 10].reshape(-1, 1))\n",
    "\n",
    "# plt.plot(kde_gen.score_samples(data.numpy()[:, 10].reshape(-1, 1)))"
   ]
  },
  {
   "cell_type": "code",
   "execution_count": null,
   "metadata": {},
   "outputs": [],
   "source": [
    "# plt.plot(kde_dat.score_samples(test_dataset[:1000, 10].reshape(-1, 1)))"
   ]
  }
 ],
 "metadata": {
  "kernelspec": {
   "display_name": "ankh-morpork",
   "language": "python",
   "name": "python3"
  },
  "language_info": {
   "codemirror_mode": {
    "name": "ipython",
    "version": 3
   },
   "file_extension": ".py",
   "mimetype": "text/x-python",
   "name": "python",
   "nbconvert_exporter": "python",
   "pygments_lexer": "ipython3",
   "version": "3.11.6"
  }
 },
 "nbformat": 4,
 "nbformat_minor": 2
}
