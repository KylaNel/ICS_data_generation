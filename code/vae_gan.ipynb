{
 "cells": [
  {
   "cell_type": "code",
   "execution_count": 1,
   "metadata": {},
   "outputs": [
    {
     "name": "stderr",
     "output_type": "stream",
     "text": [
      "2024-02-22 10:55:48.682063: I tensorflow/tsl/cuda/cudart_stub.cc:28] Could not find cuda drivers on your machine, GPU will not be used.\n",
      "2024-02-22 10:55:49.612389: E tensorflow/compiler/xla/stream_executor/cuda/cuda_dnn.cc:9342] Unable to register cuDNN factory: Attempting to register factory for plugin cuDNN when one has already been registered\n",
      "2024-02-22 10:55:49.612412: E tensorflow/compiler/xla/stream_executor/cuda/cuda_fft.cc:609] Unable to register cuFFT factory: Attempting to register factory for plugin cuFFT when one has already been registered\n",
      "2024-02-22 10:55:49.615630: E tensorflow/compiler/xla/stream_executor/cuda/cuda_blas.cc:1518] Unable to register cuBLAS factory: Attempting to register factory for plugin cuBLAS when one has already been registered\n",
      "2024-02-22 10:55:50.124659: I tensorflow/tsl/cuda/cudart_stub.cc:28] Could not find cuda drivers on your machine, GPU will not be used.\n",
      "2024-02-22 10:55:50.126752: I tensorflow/core/platform/cpu_feature_guard.cc:182] This TensorFlow binary is optimized to use available CPU instructions in performance-critical operations.\n",
      "To enable the following instructions: AVX2 FMA, in other operations, rebuild TensorFlow with the appropriate compiler flags.\n",
      "2024-02-22 10:55:52.555683: W tensorflow/compiler/tf2tensorrt/utils/py_utils.cc:38] TF-TRT Warning: Could not find TensorRT\n"
     ]
    }
   ],
   "source": [
    "import numpy as np\n",
    "import matplotlib.pyplot as plt\n",
    "import pandas as pd\n",
    "import tensorflow as tf\n",
    "from sklearn import preprocessing\n",
    "import scipy\n",
    "from sklearn import preprocessing"
   ]
  },
  {
   "cell_type": "code",
   "execution_count": 2,
   "metadata": {},
   "outputs": [],
   "source": [
    "attacks = pd.read_csv(\"/home/knel/virtual_envs/ankh-morpork/ICS_data_generation/data/swat_processed.csv\", sep=\",\")"
   ]
  },
  {
   "cell_type": "code",
   "execution_count": 3,
   "metadata": {},
   "outputs": [],
   "source": [
    "attacks = preprocessing.normalize(attacks.to_numpy(), norm=\"max\", axis=0)\n",
    "\n",
    "# swap sport to front\n",
    "attacks[:, [0, 1]] = attacks[:, [1, 0]]\n",
    "# swap dport to after sport\n",
    "attacks[:, [1, 2]] = attacks[:, [2, 1]]\n",
    "# swap protocols to after dport\n",
    "attacks[:, [2, 14]] = attacks[:, [14, 2]]\n",
    "\n",
    "# column order now -> sport, dport, protocols, continuous (discrete, discrete, discrete, continuous)\n",
    "\n",
    "# should probably add batch and shuffle\n",
    "\n",
    "train_dataset = attacks[:int(np.floor(attacks.shape[0]*3/4))]\n",
    "# test_dataset = attacks[int(np.floor(attacks.shape[0]*3/4)):]\n",
    "test_dataset = attacks[:100000]\n",
    "\n",
    "num_features = attacks[:int(np.floor(attacks.shape[0]*3/4))].shape[1]\n",
    "seq_length = 5\n",
    "latent_dim = 500"
   ]
  },
  {
   "cell_type": "code",
   "execution_count": 4,
   "metadata": {},
   "outputs": [],
   "source": [
    "class Sampling(tf.keras.layers.Layer):\n",
    "    def call(self, inputs):\n",
    "        mean, log_var = inputs\n",
    "        return tf.keras.backend.random_normal(tf.shape(log_var)) * tf.keras.backend.exp(log_var / 2) + mean"
   ]
  },
  {
   "cell_type": "code",
   "execution_count": 5,
   "metadata": {},
   "outputs": [],
   "source": [
    "# encoder\n",
    "\n",
    "inputs = tf.keras.layers.Input(shape=[num_features,1])\n",
    "z = tf.keras.layers.Flatten()(inputs)\n",
    "z = tf.keras.layers.Dense(150, activation=\"relu\", kernel_initializer=\"he_normal\")(z)\n",
    "z = tf.keras.layers.Dense(100, activation=\"relu\", kernel_initializer=\"he_normal\")(z)\n",
    "codings_mean = tf.keras.layers.Dense(latent_dim)(z) # mu\n",
    "codings_log_var = tf.keras.layers.Dense(latent_dim)(z) # gamma\n",
    "codings = Sampling()([codings_mean, codings_log_var])\n",
    "variational_encoder = tf.keras.Model(inputs=[inputs], outputs=[codings_mean, codings_log_var, codings])\n",
    "\n",
    "# decoder\n",
    "\n",
    "decoder_inputs = tf.keras.layers.Input(shape=[latent_dim])\n",
    "x = tf.keras.layers.Dense(100, activation=\"relu\", kernel_initializer=\"he_normal\")(decoder_inputs)\n",
    "x = tf.keras.layers.Dense(150, activation=\"relu\", kernel_initializer=\"he_normal\")(x)\n",
    "x = tf.keras.layers.Dense(num_features*1, activation=\"sigmoid\")(x)\n",
    "outputs = tf.keras.layers.Reshape([num_features, 1])(x)\n",
    "variational_decoder = tf.keras.Model(inputs=[decoder_inputs], outputs=[outputs])\n",
    "\n",
    "# VAE model\n",
    "\n",
    "_, _, codings = variational_encoder(inputs)\n",
    "reconstructions = variational_decoder(codings)\n",
    "variational_ae = tf.keras.Model(inputs=[inputs], outputs=[reconstructions])\n",
    "\n",
    "# VAE losses\n",
    "\n",
    "latent_loss = -0.5 * tf.keras.backend.sum(1 + codings_log_var - tf.keras.backend.exp(codings_log_var) - tf.keras.backend.square(codings_mean), axis=-1)\n",
    "variational_ae.add_loss(tf.keras.backend.mean(latent_loss / float(num_features)))\n",
    "# variational_ae.add_loss(tf.keras.backend.mean(latent_loss))\n",
    "optimizer = tf.keras.optimizers.RMSprop(learning_rate=1e-5)\n",
    "variational_ae.compile(loss=\"binary_crossentropy\", optimizer=optimizer)"
   ]
  },
  {
   "cell_type": "code",
   "execution_count": 6,
   "metadata": {},
   "outputs": [],
   "source": [
    "def wasserstein_loss(y_pred, y_real):\n",
    "    return tf.keras.backend.mean(y_pred * y_real)\n",
    "\n",
    "def generator_wasserstein_loss(y_pred):\n",
    "    return -tf.keras.backend.mean(y_pred)\n",
    "\n",
    "class ClipConstraint(tf.keras.constraints.Constraint):\n",
    "    def __init__(self, clip_value):\n",
    "        self.clip_value = clip_value"
   ]
  },
  {
   "cell_type": "code",
   "execution_count": 7,
   "metadata": {},
   "outputs": [],
   "source": [
    "def make_critic(input_shape):\n",
    "    init = tf.keras.initializers.RandomNormal(stddev=0.02)\n",
    "    const = ClipConstraint(0.01)\n",
    "    model = tf.keras.models.Sequential()\n",
    "    # model.add(tf.keras.layers.Flatten(input_shape=(input_shape[0]*input_shape[1])))\n",
    "    # model.add(tf.keras.layers.LSTM(100, input_shape=input_shape, kernel_initializer=init, kernel_constraint=const, recurrent_dropout=0.4, return_sequences=True, name=\"c_lstm1\"))\n",
    "    # model.add(tf.keras.layers.LSTM(100, kernel_initializer=init, kernel_constraint=const, recurrent_dropout=0.4, return_sequences=True, name=\"c_lstm2\"))\n",
    "    model.add(tf.keras.layers.Dense(250, input_shape=input_shape, kernel_initializer=init, kernel_constraint=const))\n",
    "\n",
    "    model.add(tf.keras.layers.Dense(200, kernel_initializer=init, kernel_constraint=const))\n",
    "    model.add(tf.keras.layers.Dropout(0.2))\n",
    "    tf.keras.layers.BatchNormalization()\n",
    "    model.add(tf.keras.layers.LeakyReLU(0.2))\n",
    "    # model.add(tf.keras.layers.LSTM(100, kernel_initializer=init, kernel_constraint=const, recurrent_dropout=0.4, name=\"c_lstm3\"))\n",
    "    model.add(tf.keras.layers.Dense(150, kernel_initializer=init, kernel_constraint=const))\n",
    "    model.add(tf.keras.layers.Dropout(0.2))\n",
    "    tf.keras.layers.BatchNormalization()\n",
    "    model.add(tf.keras.layers.LeakyReLU(0.2))\n",
    "\n",
    "    model.add(tf.keras.layers.Dense(100, kernel_initializer=init, kernel_constraint=const))\n",
    "    model.add(tf.keras.layers.Dropout(0.2))\n",
    "    tf.keras.layers.BatchNormalization()\n",
    "    model.add(tf.keras.layers.LeakyReLU(0.2))\n",
    "\n",
    "    model.add(tf.keras.layers.Dense(1, name=\"c_dense\"))\n",
    "    # opt = tf.keras.optimizers.RMSprop(learning_rate=0.00005)\n",
    "    # model.compile(loss=wasserstein_loss, optimizer=opt)\n",
    "    return model\n",
    "\n",
    "def make_generator(output_shape, noise_dim):\n",
    "    init = tf.keras.initializers.RandomNormal(stddev=0.02)\n",
    "    model = tf.keras.models.Sequential()\n",
    "    # model.add(tf.keras.layers.LSTM(100, input_shape=(5, output_shape), kernel_initializer=init, recurrent_dropout=0.4, return_sequences=True))\n",
    "    model.add(tf.keras.layers.Dense(100, input_shape=[noise_dim], kernel_initializer=init))\n",
    "    tf.keras.layers.BatchNormalization()\n",
    "    model.add(tf.keras.layers.LeakyReLU(0.2))\n",
    "    # model.add(tf.keras.layers.LSTM(100, kernel_initializer=init, recurrent_dropout=0.4))\n",
    "    model.add(tf.keras.layers.Dense(150, kernel_initializer=init))\n",
    "    model.add(tf.keras.layers.Dropout(0.2))\n",
    "    tf.keras.layers.BatchNormalization()\n",
    "    model.add(tf.keras.layers.LeakyReLU(0.2))\n",
    "\n",
    "    model.add(tf.keras.layers.Dense(200, kernel_initializer=init))\n",
    "    model.add(tf.keras.layers.Dropout(0.2))\n",
    "    tf.keras.layers.BatchNormalization()\n",
    "    model.add(tf.keras.layers.LeakyReLU(0.2))\n",
    "    # model.add(tf.keras.layers.Dense(output_shape[0]*output_shape[1], activation=\"tanh\", kernel_initializer=init))\n",
    "    # model.add(tf.keras.layers.Reshape([output_shape[0], output_shape[1]]))\n",
    "    model.add(tf.keras.layers.Dense(output_shape, activation=\"sigmoid\"))\n",
    "    # opt = tf.keras.optimizers.RMSprop(learning_rate=0.00005)\n",
    "    # model.compile(loss=generator_wasserstein_loss, optimizer=opt)\n",
    "    return model\n",
    "\n",
    "def make_gan(generator, critic):\n",
    "    model = tf.keras.models.Sequential()\n",
    "    model.add(generator)\n",
    "    model.add(critic)\n",
    "    opt = tf.keras.optimizers.RMSprop(learning_rate=0.00005)\n",
    "    model.compile(loss=wasserstein_loss, optimizer=opt)\n",
    "    return model"
   ]
  },
  {
   "cell_type": "markdown",
   "metadata": {},
   "source": [
    "## Step 1: Train autoencoder on real data"
   ]
  },
  {
   "cell_type": "code",
   "execution_count": 8,
   "metadata": {},
   "outputs": [
    {
     "name": "stdout",
     "output_type": "stream",
     "text": [
      "Epoch 1/15\n",
      "31151/31151 [==============================] - 43s 1ms/step - loss: 0.2511\n",
      "Epoch 2/15\n",
      "31151/31151 [==============================] - 40s 1ms/step - loss: 0.2225\n",
      "Epoch 3/15\n",
      "31151/31151 [==============================] - 40s 1ms/step - loss: 0.2186\n",
      "Epoch 4/15\n",
      "31151/31151 [==============================] - 40s 1ms/step - loss: 0.2163\n",
      "Epoch 5/15\n",
      "31151/31151 [==============================] - 40s 1ms/step - loss: 0.2152\n",
      "Epoch 6/15\n",
      "31151/31151 [==============================] - 40s 1ms/step - loss: 0.2145\n",
      "Epoch 7/15\n",
      "31151/31151 [==============================] - 40s 1ms/step - loss: 0.2140\n",
      "Epoch 8/15\n",
      "31151/31151 [==============================] - 40s 1ms/step - loss: 0.2135\n",
      "Epoch 9/15\n",
      "31151/31151 [==============================] - 40s 1ms/step - loss: 0.2130\n",
      "Epoch 10/15\n",
      "31151/31151 [==============================] - 40s 1ms/step - loss: 0.2129\n",
      "Epoch 11/15\n",
      "31151/31151 [==============================] - 40s 1ms/step - loss: 0.2126\n",
      "Epoch 12/15\n",
      "31151/31151 [==============================] - 40s 1ms/step - loss: 0.2124\n",
      "Epoch 13/15\n",
      "31151/31151 [==============================] - 40s 1ms/step - loss: 0.2124\n",
      "Epoch 14/15\n",
      "31151/31151 [==============================] - 40s 1ms/step - loss: 0.2122\n",
      "Epoch 15/15\n",
      "31151/31151 [==============================] - 40s 1ms/step - loss: 0.2121\n"
     ]
    },
    {
     "data": {
      "text/plain": [
       "<keras.src.callbacks.History at 0x7f081d2b42d0>"
      ]
     },
     "execution_count": 8,
     "metadata": {},
     "output_type": "execute_result"
    }
   ],
   "source": [
    "variational_ae.fit(train_dataset, train_dataset, epochs=15, batch_size=64)"
   ]
  },
  {
   "cell_type": "markdown",
   "metadata": {},
   "source": [
    "## Step 2: Train GAN to learn realistic latent vectors"
   ]
  },
  {
   "cell_type": "code",
   "execution_count": 9,
   "metadata": {},
   "outputs": [],
   "source": [
    "generator_optimiser = tf.keras.optimizers.RMSprop(learning_rate=0.000005)\n",
    "critic_optimiser = tf.keras.optimizers.RMSprop(learning_rate=0.000005)\n",
    "\n",
    "def train_step(generator, critic, dataset, latent_dim, noise_dim, n_batch=40, n_critic=5):\n",
    "\n",
    "    for _ in range(n_critic):\n",
    "\n",
    "        \"\"\"\n",
    "        Train critic more often than the generator for WGAN\n",
    "        \"\"\"\n",
    "\n",
    "        with tf.GradientTape() as critic_tape:\n",
    "            ix = np.random.randint(0, dataset.shape[0], n_batch)\n",
    "            # X_real = dataset.numpy()[ix]\n",
    "            X_real = dataset[ix]\n",
    "            noise = tf.random.normal((n_batch, noise_dim))\n",
    "            X_fake = generator(noise, training=True)\n",
    "\n",
    "            pred_real = critic(X_real, training=True)\n",
    "            pred_fake = critic(X_fake, training=True)\n",
    "\n",
    "            c_loss = wasserstein_loss(pred_real, pred_fake)\n",
    "        \n",
    "\n",
    "        critic_gradients = critic_tape.gradient(c_loss, critic.trainable_variables)\n",
    "        critic_optimiser.apply_gradients(zip(critic_gradients, critic.trainable_variables))\n",
    "    # print(f\"Critic loss: {c_loss}\")  \n",
    "    \n",
    "    \"\"\" \n",
    "    Train generator\n",
    "    \"\"\"\n",
    "\n",
    "    with tf.GradientTape() as gen_tape:\n",
    "        X_fake = generator(noise, training=True)\n",
    "        pred_fake = critic(X_fake, training=True)\n",
    "        g_loss = generator_wasserstein_loss(pred_fake)\n",
    "        # print(f\"Generator loss: {g_loss}\")\n",
    "    \n",
    "    generator_gradients = gen_tape.gradient(g_loss, generator.trainable_variables)\n",
    "    generator_optimiser.apply_gradients(zip(generator_gradients, generator.trainable_variables))\n",
    "\n",
    "\n",
    "    return c_loss, g_loss\n",
    "\n",
    "def train(dataset, n_epochs=2, noise_dim=50, latent_dim=50):\n",
    "\n",
    "    generator = make_generator(latent_dim, noise_dim)\n",
    "    critic = make_critic((latent_dim, 1))\n",
    "\n",
    "    c_losses, g_losses = [], []\n",
    "\n",
    "    for i in range(n_epochs):\n",
    "        # print(f\"Epoch: {i+1}\")\n",
    "        for batch in dataset:\n",
    "            c_loss, g_loss = train_step(generator, critic, batch, latent_dim, noise_dim)\n",
    "            c_losses.append(c_loss)\n",
    "            g_losses.append(g_loss)\n",
    "    \n",
    "    noise = tf.random.normal((1000, noise_dim))\n",
    "    prediction = generator.predict(noise)\n",
    "\n",
    "    return c_losses, g_losses, prediction"
   ]
  },
  {
   "cell_type": "code",
   "execution_count": 10,
   "metadata": {},
   "outputs": [
    {
     "data": {
      "text/plain": [
       "(100, 500)"
      ]
     },
     "execution_count": 10,
     "metadata": {},
     "output_type": "execute_result"
    }
   ],
   "source": [
    "real_latent_vectors = np.split((variational_encoder(attacks[:20000])[0]).numpy(), 200)\n",
    "real_latent_vectors[0].shape"
   ]
  },
  {
   "cell_type": "code",
   "execution_count": 11,
   "metadata": {},
   "outputs": [
    {
     "data": {
      "text/plain": [
       "200"
      ]
     },
     "execution_count": 11,
     "metadata": {},
     "output_type": "execute_result"
    }
   ],
   "source": [
    "len(real_latent_vectors)"
   ]
  },
  {
   "cell_type": "code",
   "execution_count": 12,
   "metadata": {},
   "outputs": [
    {
     "name": "stderr",
     "output_type": "stream",
     "text": [
      "/home/knel/virtual_envs/ankh-morpork/lib/python3.11/site-packages/keras/src/initializers/initializers.py:120: UserWarning: The initializer RandomNormal is unseeded and being called multiple times, which will return identical values each time (even if the initializer is unseeded). Please update your code to provide a seed to the initializer, or avoid using the same initializer instance more than once.\n",
      "  warnings.warn(\n"
     ]
    },
    {
     "name": "stdout",
     "output_type": "stream",
     "text": [
      "32/32 [==============================] - 0s 822us/step\n"
     ]
    }
   ],
   "source": [
    "c_losses, g_losses, pred = train(real_latent_vectors, 10, 30, latent_dim)"
   ]
  },
  {
   "cell_type": "code",
   "execution_count": 13,
   "metadata": {},
   "outputs": [],
   "source": [
    "\n",
    "# noise_dim = 30\n",
    "# n_batch = 64\n",
    "# # create the critic\n",
    "# critic = make_critic([latent_dim, 1])\n",
    "# # create the generator\n",
    "# # generator = make_generator((n_batch, latent_dim))\n",
    "# generator = make_generator(latent_dim, noise_dim)\n",
    "# # create the gan\n",
    "# gan = make_gan(generator, critic)\n",
    "# # load image data\n",
    "\n",
    "\n",
    "# real_latent_vectors = variational_encoder(test_dataset)[0]\n",
    "# epochs = 10\n",
    "# # train model\n",
    "# c1_loss, c2_loss, g_loss = train(generator, critic, gan, dataset=test_dataset[:10000], latent_dim=latent_dim, noise_dim=noise_dim, n_epochs=epochs, n_batch=n_batch)"
   ]
  },
  {
   "cell_type": "code",
   "execution_count": 14,
   "metadata": {},
   "outputs": [
    {
     "data": {
      "image/png": "[encoded data removed]",
      "text/plain": [
       "<Figure size 640x480 with 1 Axes>"
      ]
     },
     "metadata": {},
     "output_type": "display_data"
    }
   ],
   "source": [
    "plt.plot(c_losses, label=\"critic loss real data\")\n",
    "plt.plot(g_losses, label=\"generator\")\n",
    "# plt.plot(c2_loss, label=\"critic loss fake data\")\n",
    "# plt.plot(g_loss, label=\"gen loss\")\n",
    "plt.legend()\n",
    "plt.show()"
   ]
  },
  {
   "cell_type": "markdown",
   "metadata": {},
   "source": [
    "## Step 3: Use generator to make latent vectors and decode with decoder"
   ]
  },
  {
   "cell_type": "code",
   "execution_count": 15,
   "metadata": {},
   "outputs": [
    {
     "data": {
      "text/plain": [
       "KstestResult(statistic=0.7175217391304348, pvalue=0.0, statistic_location=0.002150400430080086, statistic_sign=1)"
      ]
     },
     "execution_count": 15,
     "metadata": {},
     "output_type": "execute_result"
    }
   ],
   "source": [
    "latent_vectors = pred\n",
    "data = variational_decoder(latent_vectors)\n",
    "scipy.stats.ks_2samp(test_dataset[:1000].reshape(23000,), data.numpy().reshape(23000,))\n",
    "# data.numpy().shape, test_dataset.shape"
   ]
  },
  {
   "cell_type": "code",
   "execution_count": 16,
   "metadata": {},
   "outputs": [
    {
     "data": {
      "text/plain": [
       "0.10132390526996707"
      ]
     },
     "execution_count": 16,
     "metadata": {},
     "output_type": "execute_result"
    }
   ],
   "source": [
    "scipy.stats.wasserstein_distance(test_dataset[:1000].reshape(23000,), data.numpy().reshape(23000,))"
   ]
  },
  {
   "cell_type": "code",
   "execution_count": 17,
   "metadata": {},
   "outputs": [],
   "source": [
    "# from sklearn.neighbors import KernelDensity\n",
    "# kde_gen = KernelDensity(kernel='epanechnikov').fit(data.numpy()[:, 10].reshape(-1, 1))\n",
    "# kde_dat = KernelDensity(kernel='epanechnikov').fit(test_dataset[:1000, 10].reshape(-1, 1))\n",
    "\n",
    "# plt.plot(kde_gen.score_samples(data.numpy()[:, 10].reshape(-1, 1)))"
   ]
  },
  {
   "cell_type": "code",
   "execution_count": 18,
   "metadata": {},
   "outputs": [],
   "source": [
    "# plt.plot(kde_dat.score_samples(test_dataset[:1000, 10].reshape(-1, 1)))"
   ]
  }
 ],
 "metadata": {
  "kernelspec": {
   "display_name": "ankh-morpork",
   "language": "python",
   "name": "python3"
  },
  "language_info": {
   "codemirror_mode": {
    "name": "ipython",
    "version": 3
   },
   "file_extension": ".py",
   "mimetype": "text/x-python",
   "name": "python",
   "nbconvert_exporter": "python",
   "pygments_lexer": "ipython3",
   "version": "3.11.6"
  }
 },
 "nbformat": 4,
 "nbformat_minor": 2
}
