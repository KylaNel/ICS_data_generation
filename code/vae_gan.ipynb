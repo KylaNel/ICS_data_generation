{
 "cells": [
  {
   "cell_type": "code",
   "execution_count": 196,
   "metadata": {},
   "outputs": [],
   "source": [
    "import numpy as np\n",
    "import matplotlib.pyplot as plt\n",
    "import pandas as pd\n",
    "import tensorflow as tf\n",
    "import scipy\n",
    "from sklearn import preprocessing"
   ]
  },
  {
   "cell_type": "code",
   "execution_count": 197,
   "metadata": {},
   "outputs": [],
   "source": [
    "attacks = pd.read_csv(\"/home/knel/virtual_envs/ankh-morpork/ICS_data_generation/data/wustl_attacks.csv\", sep=\",\")"
   ]
  },
  {
   "cell_type": "code",
   "execution_count": 198,
   "metadata": {},
   "outputs": [],
   "source": [
    "attacks = preprocessing.normalize(attacks.to_numpy()[:, 1:], norm=\"max\", axis=0)\n",
    "\n",
    "# swap sport to front\n",
    "# attacks[:, [0, 1]] = attacks[:, [1, 0]]\n",
    "# # swap dport to after sport\n",
    "# attacks[:, [1, 2]] = attacks[:, [2, 1]]\n",
    "# # swap protocols to after dport\n",
    "# attacks[:, [2, 14]] = attacks[:, [14, 2]]\n",
    "\n",
    "# column order now -> sport, dport, protocols, continuous (discrete, discrete, discrete, continuous)\n",
    "\n",
    "# should probably add batch and shuffle\n",
    "\n",
    "batch_size = 64\n",
    "num_features = attacks[:int(np.floor(attacks.shape[0]*3/4))].shape[1]\n",
    "# train_dataset = attacks[:int(np.floor(attacks.shape[0]*4/5))]\n",
    "train_dataset = attacks[:10000]\n",
    "# train_dataset = (tf.data.Dataset.from_tensor_slices(attacks[:19968]).shuffle(10000).batch(batch_size))\n",
    "test_dataset = attacks[int(np.floor(attacks.shape[0]*4/5)):]\n",
    "# test_dataset = attacks[30000:32000]\n",
    "\n",
    "\n",
    "seq_length = 10\n",
    "latent_dim = 100"
   ]
  },
  {
   "cell_type": "code",
   "execution_count": 199,
   "metadata": {},
   "outputs": [
    {
     "data": {
      "text/plain": [
       "(17404, 27)"
      ]
     },
     "execution_count": 199,
     "metadata": {},
     "output_type": "execute_result"
    }
   ],
   "source": [
    "test_dataset.shape"
   ]
  },
  {
   "cell_type": "code",
   "execution_count": 200,
   "metadata": {},
   "outputs": [],
   "source": [
    "class Sampling(tf.keras.layers.Layer):\n",
    "    def call(self, inputs):\n",
    "        mean, log_var = inputs\n",
    "        return tf.keras.backend.random_normal(tf.shape(log_var)) * tf.keras.backend.exp(log_var / 2) + mean"
   ]
  },
  {
   "cell_type": "code",
   "execution_count": 201,
   "metadata": {},
   "outputs": [],
   "source": [
    "# encoder\n",
    "\n",
    "inputs = tf.keras.layers.Input(shape=[num_features,1])\n",
    "z = tf.keras.layers.Flatten()(inputs)\n",
    "z = tf.keras.layers.Dense(150, activation=\"relu\", kernel_initializer=\"he_normal\")(z)\n",
    "z = tf.keras.layers.Dense(100, activation=\"relu\", kernel_initializer=\"he_normal\")(z)\n",
    "codings_mean = tf.keras.layers.Dense(latent_dim)(z) # mu\n",
    "codings_log_var = tf.keras.layers.Dense(latent_dim)(z) # gamma\n",
    "codings = Sampling()([codings_mean, codings_log_var])\n",
    "variational_encoder = tf.keras.Model(inputs=[inputs], outputs=[codings_mean, codings_log_var, codings])\n",
    "\n",
    "# decoder\n",
    "\n",
    "decoder_inputs = tf.keras.layers.Input(shape=[latent_dim])\n",
    "x = tf.keras.layers.Dense(100, activation=\"relu\", kernel_initializer=\"he_normal\")(decoder_inputs)\n",
    "x = tf.keras.layers.Dense(150, activation=\"relu\", kernel_initializer=\"he_normal\")(x)\n",
    "x = tf.keras.layers.Dense(num_features*1, activation=\"sigmoid\")(x)\n",
    "outputs = tf.keras.layers.Reshape([num_features, 1])(x)\n",
    "variational_decoder = tf.keras.Model(inputs=[decoder_inputs], outputs=[outputs])\n",
    "\n",
    "# VAE model\n",
    "\n",
    "_, _, codings = variational_encoder(inputs)\n",
    "reconstructions = variational_decoder(codings)\n",
    "variational_ae = tf.keras.Model(inputs=[inputs], outputs=[reconstructions])\n",
    "\n",
    "# VAE losses\n",
    "\n",
    "latent_loss = -0.5 * tf.keras.backend.sum(1 + codings_log_var - tf.keras.backend.exp(codings_log_var) - tf.keras.backend.square(codings_mean), axis=-1)\n",
    "variational_ae.add_loss(tf.keras.backend.mean(latent_loss / float(num_features)))\n",
    "# variational_ae.add_loss(tf.keras.backend.mean(latent_loss))\n",
    "optimizer = tf.keras.optimizers.RMSprop(learning_rate=1e-5)\n",
    "variational_ae.compile(loss=\"binary_crossentropy\", optimizer=optimizer)"
   ]
  },
  {
   "cell_type": "code",
   "execution_count": 202,
   "metadata": {},
   "outputs": [],
   "source": [
    "noise_dim = 100\n",
    "\n",
    "def make_generator_model():\n",
    "    model = tf.keras.Sequential()\n",
    "    # LSTM hidden layer with 100 memory units\n",
    "    model.add(tf.keras.layers.LSTM(200, input_shape = [seq_length, noise_dim], recurrent_dropout=0.4, return_sequences=True))\n",
    "    model.add(tf.keras.layers.ReLU())\n",
    "    model.add(tf.keras.layers.LSTM(200, recurrent_dropout=0.4))\n",
    "    model.add(tf.keras.layers.ReLU())\n",
    "    # dropout layer with a probability of 20\n",
    "    # model.add(tf.keras.layers.Dropout(0.2))\n",
    "    # output dense (fully connected) layer\n",
    "    model.add(tf.keras.layers.Dense(latent_dim, activation=\"tanh\"))\n",
    "    return model\n",
    "\n",
    "def make_discriminator_model():\n",
    "    model = tf.keras.Sequential()\n",
    "    model.add(tf.keras.layers.LSTM(200, input_shape=[latent_dim, 1], recurrent_dropout=0.4, return_sequences=True))\n",
    "    model.add(tf.keras.layers.LSTM(200, recurrent_dropout=0.4))\n",
    "    # model.add(tf.keras.layers.Dropout(0.2))\n",
    "    # what should the units of this dense layer be?\n",
    "    # seems like it outputs one value >0 for real data and <0 for fake data\n",
    "    # for each item in the batch\n",
    "    model.add(tf.keras.layers.Dense(1, activation=\"tanh\"))\n",
    "    return model\n",
    "\n",
    "cross_entropy = tf.keras.losses.BinaryCrossentropy(from_logits=False) # from_logits=True means models prediction represents a value [-inf, inf]\n",
    "\n",
    "def discriminator_loss(real_data, fake_data):\n",
    "    real_loss = cross_entropy(tf.ones_like(real_data), real_data)\n",
    "    fake_loss = cross_entropy(tf.zeros_like(fake_data), fake_data)\n",
    "    total_loss = real_loss + fake_loss\n",
    "    return total_loss\n",
    "\n",
    "def generator_loss(fake_data):\n",
    "    return cross_entropy(tf.ones_like(fake_data), fake_data)"
   ]
  },
  {
   "cell_type": "code",
   "execution_count": 203,
   "metadata": {},
   "outputs": [],
   "source": [
    "generator = make_generator_model()\n",
    "discriminator = make_discriminator_model()"
   ]
  },
  {
   "cell_type": "code",
   "execution_count": 204,
   "metadata": {},
   "outputs": [],
   "source": [
    "# def wasserstein_loss(y_pred, y_real):\n",
    "#     return tf.keras.backend.mean(y_pred * y_real)\n",
    "\n",
    "# def generator_wasserstein_loss(y_pred):\n",
    "#     return -tf.keras.backend.mean(y_pred)\n",
    "\n",
    "# class ClipConstraint(tf.keras.constraints.Constraint):\n",
    "#     def __init__(self, clip_value):\n",
    "#         self.clip_value = clip_value"
   ]
  },
  {
   "cell_type": "code",
   "execution_count": 205,
   "metadata": {},
   "outputs": [],
   "source": [
    "# def make_critic(input_shape):\n",
    "#     init = tf.keras.initializers.RandomNormal(stddev=0.02)\n",
    "#     const = ClipConstraint(0.01)\n",
    "#     model = tf.keras.models.Sequential()\n",
    "#     # model.add(tf.keras.layers.Flatten(input_shape=(input_shape[0]*input_shape[1])))\n",
    "#     # model.add(tf.keras.layers.LSTM(100, input_shape=input_shape, kernel_initializer=init, kernel_constraint=const, recurrent_dropout=0.4, return_sequences=True, name=\"c_lstm1\"))\n",
    "#     # model.add(tf.keras.layers.LSTM(100, kernel_initializer=init, kernel_constraint=const, recurrent_dropout=0.4, return_sequences=True, name=\"c_lstm2\"))\n",
    "#     model.add(tf.keras.layers.Dense(250, input_shape=input_shape, kernel_initializer=init, kernel_constraint=const))\n",
    "\n",
    "#     model.add(tf.keras.layers.Dense(200, kernel_initializer=init, kernel_constraint=const))\n",
    "#     model.add(tf.keras.layers.Dropout(0.2))\n",
    "#     tf.keras.layers.BatchNormalization()\n",
    "#     model.add(tf.keras.layers.LeakyReLU(0.2))\n",
    "#     # model.add(tf.keras.layers.LSTM(100, kernel_initializer=init, kernel_constraint=const, recurrent_dropout=0.4, name=\"c_lstm3\"))\n",
    "#     model.add(tf.keras.layers.Dense(150, kernel_initializer=init, kernel_constraint=const))\n",
    "#     model.add(tf.keras.layers.Dropout(0.2))\n",
    "#     tf.keras.layers.BatchNormalization()\n",
    "#     model.add(tf.keras.layers.LeakyReLU(0.2))\n",
    "\n",
    "#     model.add(tf.keras.layers.Dense(100, kernel_initializer=init, kernel_constraint=const))\n",
    "#     model.add(tf.keras.layers.Dropout(0.2))\n",
    "#     tf.keras.layers.BatchNormalization()\n",
    "#     model.add(tf.keras.layers.LeakyReLU(0.2))\n",
    "\n",
    "#     model.add(tf.keras.layers.Dense(1, name=\"c_dense\"))\n",
    "#     # opt = tf.keras.optimizers.RMSprop(learning_rate=0.00005)\n",
    "#     # model.compile(loss=wasserstein_loss, optimizer=opt)\n",
    "#     return model\n",
    "\n",
    "# def make_generator(output_shape, noise_dim):\n",
    "#     init = tf.keras.initializers.RandomNormal(stddev=0.02)\n",
    "#     model = tf.keras.models.Sequential()\n",
    "#     # model.add(tf.keras.layers.LSTM(100, input_shape=(5, output_shape), kernel_initializer=init, recurrent_dropout=0.4, return_sequences=True))\n",
    "#     model.add(tf.keras.layers.Dense(100, input_shape=[noise_dim], kernel_initializer=init))\n",
    "#     tf.keras.layers.BatchNormalization()\n",
    "#     model.add(tf.keras.layers.LeakyReLU(0.2))\n",
    "#     # model.add(tf.keras.layers.LSTM(100, kernel_initializer=init, recurrent_dropout=0.4))\n",
    "#     model.add(tf.keras.layers.Dense(150, kernel_initializer=init))\n",
    "#     model.add(tf.keras.layers.Dropout(0.2))\n",
    "#     tf.keras.layers.BatchNormalization()\n",
    "#     model.add(tf.keras.layers.LeakyReLU(0.2))\n",
    "\n",
    "#     model.add(tf.keras.layers.Dense(200, kernel_initializer=init))\n",
    "#     model.add(tf.keras.layers.Dropout(0.2))\n",
    "#     tf.keras.layers.BatchNormalization()\n",
    "#     model.add(tf.keras.layers.LeakyReLU(0.2))\n",
    "#     # model.add(tf.keras.layers.Dense(output_shape[0]*output_shape[1], activation=\"tanh\", kernel_initializer=init))\n",
    "#     # model.add(tf.keras.layers.Reshape([output_shape[0], output_shape[1]]))\n",
    "#     model.add(tf.keras.layers.Dense(output_shape, activation=\"tanh\"))\n",
    "#     # opt = tf.keras.optimizers.RMSprop(learning_rate=0.00005)\n",
    "#     # model.compile(loss=generator_wasserstein_loss, optimizer=opt)\n",
    "#     return model\n",
    "\n",
    "# def make_gan(generator, critic):\n",
    "#     model = tf.keras.models.Sequential()\n",
    "#     model.add(generator)\n",
    "#     model.add(critic)\n",
    "#     opt = tf.keras.optimizers.RMSprop(learning_rate=0.00005)\n",
    "#     model.compile(loss=wasserstein_loss, optimizer=opt)\n",
    "#     return model"
   ]
  },
  {
   "cell_type": "markdown",
   "metadata": {},
   "source": [
    "## Step 1: Train autoencoder on real data"
   ]
  },
  {
   "cell_type": "code",
   "execution_count": null,
   "metadata": {},
   "outputs": [],
   "source": []
  },
  {
   "cell_type": "code",
   "execution_count": 206,
   "metadata": {},
   "outputs": [
    {
     "name": "stdout",
     "output_type": "stream",
     "text": [
      "Epoch 1/50\n",
      "157/157 [==============================] - 1s 1ms/step - loss: 1.1681\n",
      "Epoch 2/50\n",
      "157/157 [==============================] - 0s 965us/step - loss: 0.9623\n",
      "Epoch 3/50\n",
      "157/157 [==============================] - 0s 965us/step - loss: 0.8169\n",
      "Epoch 4/50\n",
      "157/157 [==============================] - 0s 987us/step - loss: 0.7127\n",
      "Epoch 5/50\n",
      "157/157 [==============================] - 0s 982us/step - loss: 0.6339\n",
      "Epoch 6/50\n",
      "157/157 [==============================] - 0s 956us/step - loss: 0.5787\n",
      "Epoch 7/50\n",
      "157/157 [==============================] - 0s 966us/step - loss: 0.5354\n",
      "Epoch 8/50\n",
      "157/157 [==============================] - 0s 971us/step - loss: 0.5031\n",
      "Epoch 9/50\n",
      "157/157 [==============================] - 0s 965us/step - loss: 0.4786\n",
      "Epoch 10/50\n",
      "157/157 [==============================] - 0s 948us/step - loss: 0.4604\n",
      "Epoch 11/50\n",
      "157/157 [==============================] - 0s 987us/step - loss: 0.4444\n",
      "Epoch 12/50\n",
      "157/157 [==============================] - 0s 938us/step - loss: 0.4323\n",
      "Epoch 13/50\n",
      "157/157 [==============================] - 0s 952us/step - loss: 0.4237\n",
      "Epoch 14/50\n",
      "157/157 [==============================] - 0s 1ms/step - loss: 0.4156\n",
      "Epoch 15/50\n",
      "157/157 [==============================] - 0s 964us/step - loss: 0.4093\n",
      "Epoch 16/50\n",
      "157/157 [==============================] - 0s 978us/step - loss: 0.4034\n",
      "Epoch 17/50\n",
      "157/157 [==============================] - 0s 970us/step - loss: 0.3979\n",
      "Epoch 18/50\n",
      "157/157 [==============================] - 0s 970us/step - loss: 0.3949\n",
      "Epoch 19/50\n",
      "157/157 [==============================] - 0s 1ms/step - loss: 0.3891\n",
      "Epoch 20/50\n",
      "157/157 [==============================] - 0s 953us/step - loss: 0.3865\n",
      "Epoch 21/50\n",
      "157/157 [==============================] - 0s 978us/step - loss: 0.3814\n",
      "Epoch 22/50\n",
      "157/157 [==============================] - 0s 963us/step - loss: 0.3784\n",
      "Epoch 23/50\n",
      "157/157 [==============================] - 0s 961us/step - loss: 0.3746\n",
      "Epoch 24/50\n",
      "157/157 [==============================] - 0s 966us/step - loss: 0.3704\n",
      "Epoch 25/50\n",
      "157/157 [==============================] - 0s 965us/step - loss: 0.3675\n",
      "Epoch 26/50\n",
      "157/157 [==============================] - 0s 962us/step - loss: 0.3630\n",
      "Epoch 27/50\n",
      "157/157 [==============================] - 0s 953us/step - loss: 0.3585\n",
      "Epoch 28/50\n",
      "157/157 [==============================] - 0s 945us/step - loss: 0.3557\n",
      "Epoch 29/50\n",
      "157/157 [==============================] - 0s 944us/step - loss: 0.3513\n",
      "Epoch 30/50\n",
      "157/157 [==============================] - 0s 949us/step - loss: 0.3475\n",
      "Epoch 31/50\n",
      "157/157 [==============================] - 0s 959us/step - loss: 0.3444\n",
      "Epoch 32/50\n",
      "157/157 [==============================] - 0s 959us/step - loss: 0.3416\n",
      "Epoch 33/50\n",
      "157/157 [==============================] - 0s 961us/step - loss: 0.3386\n",
      "Epoch 34/50\n",
      "157/157 [==============================] - 0s 972us/step - loss: 0.3357\n",
      "Epoch 35/50\n",
      "157/157 [==============================] - 0s 978us/step - loss: 0.3345\n",
      "Epoch 36/50\n",
      "157/157 [==============================] - 0s 962us/step - loss: 0.3295\n",
      "Epoch 37/50\n",
      "157/157 [==============================] - 0s 956us/step - loss: 0.3277\n",
      "Epoch 38/50\n",
      "157/157 [==============================] - 0s 986us/step - loss: 0.3255\n",
      "Epoch 39/50\n",
      "157/157 [==============================] - 0s 958us/step - loss: 0.3246\n",
      "Epoch 40/50\n",
      "157/157 [==============================] - 0s 958us/step - loss: 0.3230\n",
      "Epoch 41/50\n",
      "157/157 [==============================] - 0s 955us/step - loss: 0.3216\n",
      "Epoch 42/50\n",
      "157/157 [==============================] - 0s 975us/step - loss: 0.3199\n",
      "Epoch 43/50\n",
      "157/157 [==============================] - 0s 965us/step - loss: 0.3189\n",
      "Epoch 44/50\n",
      "157/157 [==============================] - 0s 960us/step - loss: 0.3172\n",
      "Epoch 45/50\n",
      "157/157 [==============================] - 0s 972us/step - loss: 0.3179\n",
      "Epoch 46/50\n",
      "157/157 [==============================] - 0s 949us/step - loss: 0.3150\n",
      "Epoch 47/50\n",
      "157/157 [==============================] - 0s 958us/step - loss: 0.3148\n",
      "Epoch 48/50\n",
      "157/157 [==============================] - 0s 959us/step - loss: 0.3151\n",
      "Epoch 49/50\n",
      "157/157 [==============================] - 0s 952us/step - loss: 0.3137\n",
      "Epoch 50/50\n",
      "157/157 [==============================] - 0s 946us/step - loss: 0.3136\n"
     ]
    }
   ],
   "source": [
    "# variational_ae.fit(train_dataset, train_dataset, epochs=5, batch_size=64)\n",
    "history = variational_ae.fit(train_dataset, train_dataset, epochs=50, batch_size=64)"
   ]
  },
  {
   "cell_type": "code",
   "execution_count": 207,
   "metadata": {},
   "outputs": [],
   "source": [
    "vae_loss_history[\"wustl\"] = history.history[\"loss\"]"
   ]
  },
  {
   "cell_type": "code",
   "execution_count": 208,
   "metadata": {},
   "outputs": [
    {
     "data": {
      "text/plain": [
       "Text(0.5, 0, 'Epoch')"
      ]
     },
     "execution_count": 208,
     "metadata": {},
     "output_type": "execute_result"
    },
    {
     "data": {
      "image/png": "[encoded data removed]",
      "text/plain": [
       "<Figure size 640x480 with 1 Axes>"
      ]
     },
     "metadata": {},
     "output_type": "display_data"
    }
   ],
   "source": [
    "plt.plot(history.history[\"loss\"])\n",
    "plt.xlabel(\"Epoch\")\n",
    "plt.ylabel(\"Loss\")\n",
    "# plt.savefig(\"vae_gan_vae_loss_swat_sensor.png\", dpi=800)"
   ]
  },
  {
   "cell_type": "code",
   "execution_count": 168,
   "metadata": {},
   "outputs": [],
   "source": [
    "# vae_loss_history = {\"swat_sensor\": None, \"swat_network\": None, \"wustl\": None, \"wadi\": None}"
   ]
  },
  {
   "cell_type": "code",
   "execution_count": 213,
   "metadata": {},
   "outputs": [
    {
     "data": {
      "image/png": "[encoded data removed]",
      "text/plain": [
       "<Figure size 640x480 with 1 Axes>"
      ]
     },
     "metadata": {},
     "output_type": "display_data"
    }
   ],
   "source": [
    "plt.figure()\n",
    "plt.plot(vae_loss_history[\"swat_sensor\"], label=\"SWaT sensor data\")\n",
    "plt.plot(vae_loss_history[\"swat_network\"], label=\"SWaT network data\")\n",
    "plt.plot(vae_loss_history[\"wadi\"], label=\"WADI sensor data\")\n",
    "plt.plot(vae_loss_history[\"wustl\"], label=\"WUSTL network data\")\n",
    "plt.xlabel(\"Epoch\")\n",
    "plt.ylabel(\"Loss\")\n",
    "plt.legend()\n",
    "# plt.show()\n",
    "plt.savefig(\"vae_gan_vae_losses.png\")"
   ]
  },
  {
   "cell_type": "markdown",
   "metadata": {},
   "source": [
    "## Step 2: Train GAN to learn realistic latent vectors"
   ]
  },
  {
   "cell_type": "code",
   "execution_count": 12,
   "metadata": {},
   "outputs": [],
   "source": [
    "# generator_optimiser = tf.keras.optimizers.RMSprop(learning_rate=0.00005)\n",
    "# critic_optimiser = tf.keras.optimizers.RMSprop(learning_rate=0.00005)\n",
    "\n",
    "# def train_step(generator, critic, dataset, latent_dim, noise_dim, n_batch=40, n_critic=5):\n",
    "\n",
    "#     for _ in range(n_critic):\n",
    "\n",
    "#         \"\"\"\n",
    "#         Train critic more often than the generator for WGAN\n",
    "#         \"\"\"\n",
    "\n",
    "#         with tf.GradientTape() as critic_tape:\n",
    "#             ix = np.random.randint(0, dataset.shape[0], n_batch)\n",
    "#             # X_real = dataset.numpy()[ix]\n",
    "#             X_real = dataset[ix]\n",
    "#             noise = tf.random.normal((n_batch, noise_dim))\n",
    "#             X_fake = generator(noise, training=True)\n",
    "\n",
    "#             pred_real = critic(X_real, training=True)\n",
    "#             pred_fake = critic(X_fake, training=True)\n",
    "\n",
    "#             c_loss = wasserstein_loss(pred_real, pred_fake)\n",
    "        \n",
    "\n",
    "#         critic_gradients = critic_tape.gradient(c_loss, critic.trainable_variables)\n",
    "#         critic_optimiser.apply_gradients(zip(critic_gradients, critic.trainable_variables))\n",
    "#     # print(f\"Critic loss: {c_loss}\")  \n",
    "    \n",
    "#     \"\"\" \n",
    "#     Train generator\n",
    "#     \"\"\"\n",
    "\n",
    "#     with tf.GradientTape() as gen_tape:\n",
    "#         X_fake = generator(noise, training=True)\n",
    "#         pred_fake = critic(X_fake, training=True)\n",
    "#         g_loss = generator_wasserstein_loss(pred_fake)\n",
    "#         # print(f\"Generator loss: {g_loss}\")\n",
    "    \n",
    "#     generator_gradients = gen_tape.gradient(g_loss, generator.trainable_variables)\n",
    "#     generator_optimiser.apply_gradients(zip(generator_gradients, generator.trainable_variables))\n",
    "\n",
    "\n",
    "#     return c_loss, g_loss\n",
    "\n",
    "# def train(dataset, n_epochs=2, noise_dim=50, latent_dim=50):\n",
    "\n",
    "#     generator = make_generator(latent_dim, noise_dim)\n",
    "#     critic = make_critic((latent_dim, 1))\n",
    "\n",
    "#     c_losses, g_losses = [], []\n",
    "\n",
    "#     for i in range(n_epochs):\n",
    "#         # print(f\"Epoch: {i+1}\")\n",
    "#         for batch in dataset:\n",
    "#             c_loss, g_loss = train_step(generator, critic, batch, latent_dim, noise_dim)\n",
    "#             c_losses.append(c_loss)\n",
    "#             g_losses.append(g_loss)\n",
    "    \n",
    "#     noise = tf.random.normal((1000, noise_dim))\n",
    "#     prediction = generator.predict(noise)\n",
    "\n",
    "#     return c_losses, g_losses, prediction"
   ]
  },
  {
   "cell_type": "code",
   "execution_count": 13,
   "metadata": {},
   "outputs": [],
   "source": [
    "generator_optimiser = tf.keras.optimizers.Adam(1e-4)\n",
    "discriminator_optimiser = tf.keras.optimizers.Adam(1e-4)\n",
    "\n",
    "@tf.function\n",
    "def train_step(data):\n",
    "    dlosses = []\n",
    "    glosses = []\n",
    "    # generate samples from the random space\n",
    "    # noise = tf.random.normal((batch_size, seq_length, num_features))\n",
    "\n",
    "    with tf.GradientTape() as generator_tape, tf.GradientTape() as discriminator_tape:\n",
    "        noise = tf.random.normal((batch_size, seq_length, noise_dim))\n",
    "        generated_data = generator(noise, training=True)\n",
    "\n",
    "        real_data = discriminator(data, training=True)\n",
    "        fake_data = discriminator(generated_data, training=True)\n",
    "\n",
    "        gloss = generator_loss(fake_data)\n",
    "        dloss = discriminator_loss(real_data, fake_data)\n",
    "        dlosses.append(dloss)\n",
    "        glosses.append(gloss)\n",
    "\n",
    "    generator_gradients = generator_tape.gradient(gloss, generator.trainable_variables)\n",
    "    discriminator_gradients = discriminator_tape.gradient(dloss, discriminator.trainable_variables)\n",
    "\n",
    "    generator_optimiser.apply_gradients(zip(generator_gradients, generator.trainable_variables))\n",
    "    discriminator_optimiser.apply_gradients(zip(discriminator_gradients, discriminator.trainable_variables))\n",
    "    return dloss, gloss"
   ]
  },
  {
   "cell_type": "code",
   "execution_count": 14,
   "metadata": {},
   "outputs": [],
   "source": [
    "lv = variational_encoder(attacks[:10000])[0]"
   ]
  },
  {
   "cell_type": "code",
   "execution_count": 15,
   "metadata": {},
   "outputs": [
    {
     "data": {
      "text/plain": [
       "<tf.Tensor: shape=(9977, 100), dtype=float32, numpy=\n",
       "array([[-0.00861892, -0.02575675, -0.00199601, ...,  0.06305134,\n",
       "        -0.01676309, -0.03395922],\n",
       "       [-0.00861892, -0.02575675, -0.00199601, ...,  0.06305134,\n",
       "        -0.01676309, -0.03395922],\n",
       "       [-0.00861892, -0.02575675, -0.00199601, ...,  0.06305134,\n",
       "        -0.01676309, -0.03395922],\n",
       "       ...,\n",
       "       [-0.01393519,  0.05409027,  0.01041131, ...,  0.00845135,\n",
       "         0.02052398, -0.00888359],\n",
       "       [-0.01393522,  0.05409024,  0.01041128, ...,  0.00845139,\n",
       "         0.02052398, -0.00888351],\n",
       "       [-0.01393522,  0.05409024,  0.01041128, ...,  0.00845139,\n",
       "         0.02052398, -0.00888351]], dtype=float32)>"
      ]
     },
     "execution_count": 15,
     "metadata": {},
     "output_type": "execute_result"
    }
   ],
   "source": [
    "lv"
   ]
  },
  {
   "cell_type": "code",
   "execution_count": 16,
   "metadata": {},
   "outputs": [
    {
     "data": {
      "text/plain": [
       "<_BatchDataset element_spec=TensorSpec(shape=(None, 100), dtype=tf.float32, name=None)>"
      ]
     },
     "execution_count": 16,
     "metadata": {},
     "output_type": "execute_result"
    }
   ],
   "source": [
    "# real_latent_vectors = np.split((variational_encoder(attacks[:20000])[0]).numpy(), 200)\n",
    "noise = tf.random.normal((batch_size, seq_length, num_features))\n",
    "latent_vector_dataset = (tf.data.Dataset.from_tensor_slices((variational_encoder(attacks[:10000])[0]).numpy()).shuffle(50000).batch(64))\n",
    "latent_vector_dataset"
   ]
  },
  {
   "cell_type": "code",
   "execution_count": 17,
   "metadata": {},
   "outputs": [],
   "source": [
    "def train(dataset, epochs):\n",
    "\n",
    "    dlosses = []\n",
    "    glosses = []\n",
    "\n",
    "    for epoch in range(epochs):\n",
    "        \n",
    "        # maybe add another loop for more training rounds\n",
    "        for data_batch in dataset:\n",
    "            dloss, gloss = train_step(data_batch)\n",
    "        dlosses.append(dloss)\n",
    "        glosses.append(gloss)\n",
    "\n",
    "\n",
    "    return dlosses, glosses"
   ]
  },
  {
   "cell_type": "code",
   "execution_count": 18,
   "metadata": {},
   "outputs": [],
   "source": [
    "# c_losses, g_losses, pred = train(real_latent_vectors, 10, 30, latent_dim)\n",
    "dlosses, glosses = train(latent_vector_dataset, epochs=30)"
   ]
  },
  {
   "cell_type": "code",
   "execution_count": 19,
   "metadata": {},
   "outputs": [],
   "source": [
    "\n",
    "# noise_dim = 30\n",
    "# n_batch = 64\n",
    "# # create the critic\n",
    "# critic = make_critic([latent_dim, 1])\n",
    "# # create the generator\n",
    "# # generator = make_generator((n_batch, latent_dim))\n",
    "# generator = make_generator(latent_dim, noise_dim)\n",
    "# # create the gan\n",
    "# gan = make_gan(generator, critic)\n",
    "# # load image data\n",
    "\n",
    "\n",
    "# real_latent_vectors = variational_encoder(test_dataset)[0]\n",
    "# epochs = 10\n",
    "# # train model\n",
    "# c1_loss, c2_loss, g_loss = train(generator, critic, gan, dataset=test_dataset[:10000], latent_dim=latent_dim, noise_dim=noise_dim, n_epochs=epochs, n_batch=n_batch)"
   ]
  },
  {
   "cell_type": "code",
   "execution_count": 29,
   "metadata": {},
   "outputs": [
    {
     "data": {
      "image/png": "[encoded data removed]",
      "text/plain": [
       "<Figure size 640x480 with 1 Axes>"
      ]
     },
     "metadata": {},
     "output_type": "display_data"
    },
    {
     "data": {
      "text/plain": [
       "<Figure size 640x480 with 0 Axes>"
      ]
     },
     "metadata": {},
     "output_type": "display_data"
    }
   ],
   "source": [
    "# plt.plot(c_losses, label=\"critic loss real data\")\n",
    "# plt.plot(g_losses, label=\"generator\")\n",
    "plt.plot(dlosses, label=\"Discriminator Loss\")\n",
    "plt.plot(glosses, label=\"Generator Loss\")\n",
    "plt.xlabel(\"Epoch\")\n",
    "plt.ylabel(\"Loss\")\n",
    "plt.legend()\n",
    "plt.show()\n",
    "# plt.savefig(\"vae_gan_wadi_sensor.png\", dpi=800)"
   ]
  },
  {
   "cell_type": "markdown",
   "metadata": {},
   "source": [
    "## Step 3: Use generator to make latent vectors and decode with decoder"
   ]
  },
  {
   "cell_type": "code",
   "execution_count": 21,
   "metadata": {},
   "outputs": [
    {
     "name": "stdout",
     "output_type": "stream",
     "text": [
      "63/63 [==============================] - 1s 3ms/step\n"
     ]
    }
   ],
   "source": [
    "test_noise = tf.random.normal((test_dataset.shape[0], seq_length, latent_dim))\n",
    "preds = generator.predict(test_noise)\n",
    "latent_vectors = preds.reshape(test_dataset.shape[0], latent_dim)\n",
    "data = variational_decoder(latent_vectors)\n",
    "\n",
    "# data.numpy().shape, test_dataset.shape"
   ]
  },
  {
   "cell_type": "code",
   "execution_count": 22,
   "metadata": {},
   "outputs": [
    {
     "data": {
      "text/plain": [
       "TensorShape([1996, 69, 1])"
      ]
     },
     "execution_count": 22,
     "metadata": {},
     "output_type": "execute_result"
    }
   ],
   "source": [
    "data.shape"
   ]
  },
  {
   "cell_type": "code",
   "execution_count": 23,
   "metadata": {},
   "outputs": [
    {
     "data": {
      "text/plain": [
       "KstestResult(statistic=0.46683947605355647, pvalue=0.0, statistic_location=0.5714272260665894, statistic_sign=-1)"
      ]
     },
     "execution_count": 23,
     "metadata": {},
     "output_type": "execute_result"
    }
   ],
   "source": [
    "scipy.stats.ks_2samp(test_dataset.reshape(test_dataset.shape[0] * num_features,), data.numpy().reshape(test_dataset.shape[0] * num_features,))"
   ]
  },
  {
   "cell_type": "code",
   "execution_count": 24,
   "metadata": {},
   "outputs": [
    {
     "data": {
      "text/plain": [
       "0.323210280902608"
      ]
     },
     "execution_count": 24,
     "metadata": {},
     "output_type": "execute_result"
    }
   ],
   "source": [
    "scipy.stats.wasserstein_distance(test_dataset.reshape(test_dataset.shape[0] * num_features,), data.numpy().reshape(test_dataset.shape[0] * num_features,))"
   ]
  },
  {
   "cell_type": "code",
   "execution_count": 28,
   "metadata": {},
   "outputs": [],
   "source": [
    "# df = pd.DataFrame(data.numpy().reshape((test_dataset.shape[0] * num_features)))\n",
    "# df.to_csv(\"vae_gan_wadi_sensor.csv\", index=False)"
   ]
  },
  {
   "cell_type": "code",
   "execution_count": 26,
   "metadata": {},
   "outputs": [],
   "source": [
    "# from sklearn.neighbors import KernelDensity\n",
    "# kde_gen = KernelDensity(kernel='epanechnikov').fit(data.numpy()[:, 10].reshape(-1, 1))\n",
    "# kde_dat = KernelDensity(kernel='epanechnikov').fit(test_dataset[:1000, 10].reshape(-1, 1))\n",
    "\n",
    "# plt.plot(kde_gen.score_samples(data.numpy()[:, 10].reshape(-1, 1)))"
   ]
  },
  {
   "cell_type": "code",
   "execution_count": 27,
   "metadata": {},
   "outputs": [],
   "source": [
    "# plt.plot(kde_dat.score_samples(test_dataset[:1000, 10].reshape(-1, 1)))"
   ]
  }
 ],
 "metadata": {
  "kernelspec": {
   "display_name": "ankh-morpork",
   "language": "python",
   "name": "python3"
  },
  "language_info": {
   "codemirror_mode": {
    "name": "ipython",
    "version": 3
   },
   "file_extension": ".py",
   "mimetype": "text/x-python",
   "name": "python",
   "nbconvert_exporter": "python",
   "pygments_lexer": "ipython3",
   "version": "3.11.6"
  }
 },
 "nbformat": 4,
 "nbformat_minor": 2
}
