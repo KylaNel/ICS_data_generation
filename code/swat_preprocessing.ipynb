{
 "cells": [
  {
   "cell_type": "code",
   "execution_count": 1,
   "metadata": {},
   "outputs": [],
   "source": [
    "import numpy as np\n",
    "import pandas as pd"
   ]
  },
  {
   "cell_type": "code",
   "execution_count": 7,
   "metadata": {},
   "outputs": [],
   "source": [
    "attack_rows = [x for x in range(13211) if x in range(900, 4501) or x in (range(8700, 12301))]\n",
    "non_attack_rows = [x for x in range(13211) if x not in attack_rows]"
   ]
  },
  {
   "cell_type": "code",
   "execution_count": 28,
   "metadata": {},
   "outputs": [],
   "source": [
    "swat_attacks_raw = pd.read_csv(\"/home/knel/datasets/SWaT/SWaT.A6_Dec 2019/csv/swat_dec_2019_semi_processed.csv\", skiprows=non_attack_rows)\n",
    "swat_normal_raw = pd.read_csv(\"/home/knel/datasets/SWaT/SWaT.A6_Dec 2019/csv/swat_dec_2019_semi_processed.csv\", skiprows=attack_rows)"
   ]
  },
  {
   "cell_type": "code",
   "execution_count": 29,
   "metadata": {},
   "outputs": [
    {
     "data": {
      "text/plain": [
       "((7201, 81), (5998, 81))"
      ]
     },
     "execution_count": 29,
     "metadata": {},
     "output_type": "execute_result"
    }
   ],
   "source": [
    "swat_attacks = swat_attacks_raw.to_numpy()\n",
    "swat_normal = swat_normal_raw.to_numpy()\n",
    "swat_attacks.shape, swat_normal.shape # ???"
   ]
  },
  {
   "cell_type": "code",
   "execution_count": 30,
   "metadata": {},
   "outputs": [
    {
     "data": {
      "text/plain": [
       "(7202, 6009)"
      ]
     },
     "execution_count": 30,
     "metadata": {},
     "output_type": "execute_result"
    }
   ],
   "source": [
    "len(attack_rows), len(non_attack_rows) # ???"
   ]
  }
 ],
 "metadata": {
  "kernelspec": {
   "display_name": "ankh-morpork",
   "language": "python",
   "name": "python3"
  },
  "language_info": {
   "codemirror_mode": {
    "name": "ipython",
    "version": 3
   },
   "file_extension": ".py",
   "mimetype": "text/x-python",
   "name": "python",
   "nbconvert_exporter": "python",
   "pygments_lexer": "ipython3",
   "version": "3.11.6"
  }
 },
 "nbformat": 4,
 "nbformat_minor": 2
}
