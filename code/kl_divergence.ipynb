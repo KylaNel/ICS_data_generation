{
 "cells": [
  {
   "cell_type": "code",
   "execution_count": 75,
   "metadata": {},
   "outputs": [],
   "source": [
    "import scipy\n",
    "import numpy as np\n",
    "import pandas as pd\n",
    "import matplotlib.pyplot as plt\n",
    "from geomloss import SamplesLoss\n",
    "import torch\n",
    "from sklearn import preprocessing"
   ]
  },
  {
   "cell_type": "code",
   "execution_count": 76,
   "metadata": {},
   "outputs": [],
   "source": [
    "gan_swat_network = pd.read_csv(\"gan_lstm_swat_network.csv\", sep=\",\").to_numpy()\n",
    "gan_swat_sensor = pd.read_csv(\"gan_lstm_swat_sensor.csv\", sep=\",\").to_numpy()\n",
    "gan_wadi = pd.read_csv(\"gan_lstm_wadi.csv\", sep=\",\").to_numpy()\n",
    "gan_wustl = pd.read_csv(\"gan_lstm_wustl.csv\", sep=\",\").to_numpy()\n",
    "\n",
    "vae_swat_network = pd.read_csv(\"vae_swat_network.csv\", sep=\",\").to_numpy()\n",
    "vae_swat_sensor = pd.read_csv(\"vae_swat_sensor.csv\", sep=\",\").to_numpy()\n",
    "vae_wadi = pd.read_csv(\"vae_wadi_sensor.csv\", sep=\",\").to_numpy()\n",
    "vae_wustl = pd.read_csv(\"vae_wustl_network.csv\", sep=\",\").to_numpy()\n",
    "\n",
    "vae_gan_swat_network = pd.read_csv(\"vae_gan_swat_network.csv\", sep=\",\").to_numpy()\n",
    "vae_gan_swat_sensor = pd.read_csv(\"vae_gan_swat_sensor.csv\", sep=\",\").to_numpy()\n",
    "vae_gan_wadi = pd.read_csv(\"vae_gan_wadi_sensor.csv\", sep=\",\").to_numpy()\n",
    "vae_gan_wustl = pd.read_csv(\"vae_gan_wustl_network.csv\", sep=\",\").to_numpy()\n",
    "\n",
    "gan_softmax_swat_network = pd.read_csv(\"gan_softmax_swat_network_50.csv\", sep=\",\").to_numpy()\n",
    "gan_softmax_swat_sensor = pd.read_csv(\"gan_softmax_swat_sensor_50.csv\", sep=\",\").to_numpy()\n",
    "gan_softmax_wadi = pd.read_csv(\"gan_softmax_wadi_50.csv\", sep=\",\").to_numpy()\n",
    "gan_softmax_wustl = pd.read_csv(\"gan_softmax_wustl_50.csv\", sep=\",\").to_numpy()"
   ]
  },
  {
   "cell_type": "code",
   "execution_count": 77,
   "metadata": {},
   "outputs": [],
   "source": [
    "swat = preprocessing.normalize(pd.read_csv(\"/home/knel/virtual_envs/ankh-morpork/ICS_data_generation/data/swat_processed.csv\", sep=\",\").to_numpy()[:, 1:], axis=0, norm=\"max\")\n",
    "# swap sport to front\n",
    "swat[:, [0, 1]] = swat[:, [1, 0]]\n",
    "# # swap dport to after sport\n",
    "swat[:, [1, 2]] = swat[:, [2, 1]]\n",
    "# # swap protocols to after dport\n",
    "swat[:, [2, 14]] = swat[:, [14, 2]]\n",
    "\n",
    "wadi = preprocessing.normalize(pd.read_csv(\"/home/knel/virtual_envs/ankh-morpork/ICS_data_generation/data/wadi_attacks.csv\", sep=\",\").to_numpy()[:, 1:])\n",
    "swat_sensor = preprocessing.normalize(pd.read_csv(\"/home/knel/virtual_envs/ankh-morpork/ICS_data_generation/data/swat_sensor.csv\", sep=\",\").to_numpy()[:, 1:])\n",
    "wustl = preprocessing.normalize(pd.read_csv(\"/home/knel/virtual_envs/ankh-morpork/ICS_data_generation/data/wustl_attacks.csv\", sep=\",\").to_numpy()[:, 1:])"
   ]
  },
  {
   "cell_type": "code",
   "execution_count": 78,
   "metadata": {},
   "outputs": [],
   "source": [
    "wadi[np.where(wadi == 0)] = 1e-5\n",
    "wadi[np.where(wadi < 0)] = 1e-10"
   ]
  },
  {
   "cell_type": "code",
   "execution_count": 79,
   "metadata": {},
   "outputs": [],
   "source": [
    "def kl(real, fake):\n",
    "\n",
    "    num_features = real.shape[1]\n",
    "    real = real[: fake.shape[0]]\n",
    "\n",
    "    kl_div = np.mean(scipy.special.kl_div(real, fake))\n",
    "\n",
    "    return 1 / (1 + kl_div)"
   ]
  },
  {
   "cell_type": "code",
   "execution_count": 80,
   "metadata": {},
   "outputs": [
    {
     "data": {
      "text/plain": [
       "(0.8822311395542197,\n",
       " 0.6257844904422971,\n",
       " 0.6844353554831375,\n",
       " 0.8338570254541159)"
      ]
     },
     "execution_count": 80,
     "metadata": {},
     "output_type": "execute_result"
    }
   ],
   "source": [
    "kl(swat, vae_swat_network[:, 1:]), kl(swat_sensor, vae_swat_sensor), kl(wadi, vae_wadi), kl(wustl, vae_wustl)"
   ]
  },
  {
   "cell_type": "code",
   "execution_count": 81,
   "metadata": {},
   "outputs": [
    {
     "data": {
      "text/plain": [
       "(0.8313787468900127,\n",
       " 0.6612746690204176,\n",
       " 0.6855552203864155,\n",
       " 0.7887078196709268)"
      ]
     },
     "execution_count": 81,
     "metadata": {},
     "output_type": "execute_result"
    }
   ],
   "source": [
    "kl(swat, gan_swat_network[:, 1:]), kl(swat_sensor, gan_swat_sensor), kl(wadi, gan_wadi), kl(wustl, gan_wustl)"
   ]
  },
  {
   "cell_type": "code",
   "execution_count": 82,
   "metadata": {},
   "outputs": [
    {
     "data": {
      "text/plain": [
       "(0.8941139934141011,\n",
       " 0.6925878970783403,\n",
       " 0.6805980515027783,\n",
       " 0.7415289850922514)"
      ]
     },
     "execution_count": 82,
     "metadata": {},
     "output_type": "execute_result"
    }
   ],
   "source": [
    "kl(swat, vae_gan_swat_network[:, 1:]), kl(swat_sensor, vae_gan_swat_sensor.reshape(2640, 28)), kl(wadi, vae_gan_wadi.reshape(1996, 69)), kl(wustl, vae_gan_wustl.reshape(17404, 27))"
   ]
  },
  {
   "cell_type": "code",
   "execution_count": 101,
   "metadata": {},
   "outputs": [],
   "source": [
    "gan_softmax_swat_network[np.where(gan_softmax_swat_network < 0)] = 1e-10\n",
    "gan_softmax_swat_sensor[np.where(gan_softmax_swat_sensor < 0)] = 1e-10\n",
    "gan_softmax_swat_sensor[np.where(gan_softmax_swat_sensor == 0)] = 1e-10\n",
    "gan_softmax_wadi[np.where(gan_softmax_wadi < 0)] = 1e-10\n",
    "gan_softmax_wadi[np.where(gan_softmax_wadi == 0)] = 1e-10\n",
    "gan_softmax_wustl[np.where(gan_softmax_wustl < 0)] = 1e-10"
   ]
  },
  {
   "cell_type": "code",
   "execution_count": 102,
   "metadata": {},
   "outputs": [
    {
     "data": {
      "text/plain": [
       "(0.5414227109843116,\n",
       " 0.49838775405549424,\n",
       " 0.6193616523408394,\n",
       " 0.5277508808098397)"
      ]
     },
     "execution_count": 102,
     "metadata": {},
     "output_type": "execute_result"
    }
   ],
   "source": [
    "kl(swat, preprocessing.normalize(gan_softmax_swat_network, axis=0, norm=\"max\")), kl(swat_sensor, gan_softmax_swat_sensor), kl(wadi, gan_softmax_wadi), kl(wustl, preprocessing.normalize(gan_softmax_wustl, axis=0, norm=\"max\"))"
   ]
  }
 ],
 "metadata": {
  "kernelspec": {
   "display_name": "ankh-morpork",
   "language": "python",
   "name": "python3"
  },
  "language_info": {
   "codemirror_mode": {
    "name": "ipython",
    "version": 3
   },
   "file_extension": ".py",
   "mimetype": "text/x-python",
   "name": "python",
   "nbconvert_exporter": "python",
   "pygments_lexer": "ipython3",
   "version": "3.11.6"
  }
 },
 "nbformat": 4,
 "nbformat_minor": 2
}
