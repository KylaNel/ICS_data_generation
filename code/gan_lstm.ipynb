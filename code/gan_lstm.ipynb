{
 "cells": [
  {
   "cell_type": "code",
   "execution_count": 1,
   "metadata": {},
   "outputs": [
    {
     "name": "stderr",
     "output_type": "stream",
     "text": [
      "2024-03-06 10:51:01.041846: I tensorflow/tsl/cuda/cudart_stub.cc:28] Could not find cuda drivers on your machine, GPU will not be used.\n",
      "2024-03-06 10:51:01.064790: E tensorflow/compiler/xla/stream_executor/cuda/cuda_dnn.cc:9342] Unable to register cuDNN factory: Attempting to register factory for plugin cuDNN when one has already been registered\n",
      "2024-03-06 10:51:01.064814: E tensorflow/compiler/xla/stream_executor/cuda/cuda_fft.cc:609] Unable to register cuFFT factory: Attempting to register factory for plugin cuFFT when one has already been registered\n",
      "2024-03-06 10:51:01.064830: E tensorflow/compiler/xla/stream_executor/cuda/cuda_blas.cc:1518] Unable to register cuBLAS factory: Attempting to register factory for plugin cuBLAS when one has already been registered\n",
      "2024-03-06 10:51:01.068876: I tensorflow/tsl/cuda/cudart_stub.cc:28] Could not find cuda drivers on your machine, GPU will not be used.\n",
      "2024-03-06 10:51:01.069191: I tensorflow/core/platform/cpu_feature_guard.cc:182] This TensorFlow binary is optimized to use available CPU instructions in performance-critical operations.\n",
      "To enable the following instructions: AVX2 FMA, in other operations, rebuild TensorFlow with the appropriate compiler flags.\n",
      "2024-03-06 10:51:01.786725: W tensorflow/compiler/tf2tensorrt/utils/py_utils.cc:38] TF-TRT Warning: Could not find TensorRT\n"
     ]
    }
   ],
   "source": [
    "import numpy as np\n",
    "import matplotlib.pyplot as plt\n",
    "import pandas as pd\n",
    "import tensorflow as tf\n",
    "\n",
    "%matplotlib inline"
   ]
  },
  {
   "cell_type": "code",
   "execution_count": 2,
   "metadata": {},
   "outputs": [
    {
     "name": "stdout",
     "output_type": "stream",
     "text": [
      "0\n"
     ]
    }
   ],
   "source": [
    "# Get in dataset\n",
    "data_features_test = pd.read_csv(\"/home/knel/virtual_envs/ankh-morpork/ICS_data_generation/data/csvDataFeaturesTest.csv\", sep=\";\")\n",
    "\n",
    "# Take out only data corresponing to attacks and remove the column labelling it as an attack\n",
    "data_features_attacks = data_features_test.to_numpy()[238279:, :-1]\n",
    "print(np.count_nonzero(np.isnan(data_features_attacks)))\n",
    "# Set negative values to 0\n",
    "data_features_attacks = np.where(data_features_attacks >= 0, data_features_attacks, 0)\n",
    "data_features_attacks = data_features_attacks.reshape((9999,21,1)).astype('float32')"
   ]
  },
  {
   "cell_type": "code",
   "execution_count": 3,
   "metadata": {},
   "outputs": [],
   "source": [
    "# based on Austrian dataset\n",
    "batch_size = 64\n",
    "features = 21\n",
    "# what is sequence length actually representing here\n",
    "seq_length = 5"
   ]
  },
  {
   "cell_type": "code",
   "execution_count": 4,
   "metadata": {},
   "outputs": [],
   "source": [
    "# shuffle prevents model from getting stuck in local minima when solving the loss function\n",
    "train_dataset = (tf.data.Dataset.from_tensor_slices(data_features_attacks[:9000]).shuffle(10000).batch(batch_size))"
   ]
  },
  {
   "cell_type": "code",
   "execution_count": 5,
   "metadata": {},
   "outputs": [],
   "source": [
    "def make_generator_model():\n",
    "    model = tf.keras.Sequential()\n",
    "    # LSTM hidden layer with 100 memory units\n",
    "    model.add(tf.keras.layers.LSTM(200, input_shape = (seq_length, features), recurrent_dropout=0.4, return_sequences=True))\n",
    "    model.add(tf.keras.layers.ReLU())\n",
    "    model.add(tf.keras.layers.LSTM(200, recurrent_dropout=0.4))\n",
    "    model.add(tf.keras.layers.ReLU())\n",
    "    # dropout layer with a probability of 20\n",
    "    # model.add(tf.keras.layers.Dropout(0.2))\n",
    "    # output dense (fully connected) layer\n",
    "    model.add(tf.keras.layers.Dense(features, activation=\"tanh\"))\n",
    "    return model"
   ]
  },
  {
   "cell_type": "code",
   "execution_count": 6,
   "metadata": {},
   "outputs": [
    {
     "data": {
      "text/plain": [
       "TensorShape([64, 21])"
      ]
     },
     "execution_count": 6,
     "metadata": {},
     "output_type": "execute_result"
    }
   ],
   "source": [
    "generator = make_generator_model()\n",
    "# what do we want to the generator to output? One packet at a time? One attack at a time?\n",
    "# what to use as noise - what kind of dimension?\n",
    "# BGAN does [batch_size x seq_length, features]\n",
    "# LSTM expects sequences of the form [samples, time steps, features]\n",
    "noise = tf.random.normal((batch_size, seq_length, features))\n",
    "generated_data_untrained = generator(noise, training=False)\n",
    "generated_data_untrained.get_shape()"
   ]
  },
  {
   "cell_type": "code",
   "execution_count": 7,
   "metadata": {},
   "outputs": [],
   "source": [
    "def make_discriminator_model():\n",
    "    model = tf.keras.Sequential()\n",
    "    model.add(tf.keras.layers.LSTM(200, input_shape=(21,1), recurrent_dropout=0.4, return_sequences=True))\n",
    "    model.add(tf.keras.layers.LSTM(200, recurrent_dropout=0.4))\n",
    "    # model.add(tf.keras.layers.Dropout(0.2))\n",
    "    # what should the units of this dense layer be?\n",
    "    # seems like it outputs one value >0 for real data and <0 for fake data\n",
    "    # for each item in the batch\n",
    "    model.add(tf.keras.layers.Dense(1, activation=\"tanh\"))\n",
    "    return model"
   ]
  },
  {
   "cell_type": "code",
   "execution_count": 8,
   "metadata": {},
   "outputs": [],
   "source": [
    "discriminator = make_discriminator_model()\n",
    "decision_untrained = discriminator(generated_data_untrained)\n",
    "# decision_untrained"
   ]
  },
  {
   "cell_type": "markdown",
   "metadata": {},
   "source": [
    "### Binary Cross Entropy\n",
    "\n",
    "$$ H_p(q) = -\\frac{1}{N} \\Sigma_{i=1}^N y_i log(p(y_i)) + (1-y_i) log(1-p(y_i)) $$\n",
    "\n",
    "### BGAN Losses\n",
    "\n",
    "$$ D_{loss} = \\frac{1}{m} \\Sigma_{i=1}^m [logD(x_i) + log(1-D(G(z_i)))] $$\n",
    "\n",
    "$$ G_{loss} = \\frac{1}{m} \\Sigma_{i=1}^m [log(1-D(G(z_i)))] $$"
   ]
  },
  {
   "cell_type": "code",
   "execution_count": 9,
   "metadata": {},
   "outputs": [],
   "source": [
    "# define losses (this will change)\n",
    "cross_entropy = tf.keras.losses.BinaryCrossentropy(from_logits=False) # from_logits=True means models prediction represents a value [-inf, inf]"
   ]
  },
  {
   "cell_type": "code",
   "execution_count": 10,
   "metadata": {},
   "outputs": [],
   "source": [
    "def discriminator_loss(real_data, fake_data):\n",
    "    real_loss = cross_entropy(tf.ones_like(real_data), real_data)\n",
    "    fake_loss = cross_entropy(tf.zeros_like(fake_data), fake_data)\n",
    "    total_loss = real_loss + fake_loss\n",
    "    return total_loss\n",
    "\n",
    "    # BGAN loss\n",
    "    # loss = tf.reduce_mean(tf.math.log(real_data) + tf.math.log(1 - fake_data), axis=None)\n",
    "    # if tf.math.is_nan(loss):\n",
    "    #     return 0.0\n",
    "    # return loss"
   ]
  },
  {
   "cell_type": "code",
   "execution_count": 11,
   "metadata": {},
   "outputs": [],
   "source": [
    "def generator_loss(fake_data):\n",
    "    return cross_entropy(tf.ones_like(fake_data), fake_data)\n",
    "\n",
    "    # BGAN loss\n",
    "    # loss = tf.reduce_mean(tf.math.log(1 - fake_data))\n",
    "    # if tf.math.is_nan(loss):\n",
    "    #     return 0.0\n",
    "    # return loss"
   ]
  },
  {
   "cell_type": "code",
   "execution_count": 12,
   "metadata": {},
   "outputs": [],
   "source": [
    "generator_optimiser = tf.keras.optimizers.Adam(1e-4)\n",
    "discriminator_optimiser = tf.keras.optimizers.Adam(1e-4)"
   ]
  },
  {
   "cell_type": "code",
   "execution_count": 13,
   "metadata": {},
   "outputs": [],
   "source": [
    "@tf.function\n",
    "def train_step(data):\n",
    "    dlosses = []\n",
    "    glosses = []\n",
    "    # generate samples from the random space\n",
    "    noise = tf.random.normal((batch_size, seq_length, features))\n",
    "\n",
    "    with tf.GradientTape() as generator_tape, tf.GradientTape() as discriminator_tape:\n",
    "        generated_data = generator(noise, training=True)\n",
    "\n",
    "        real_data = discriminator(data, training=True)\n",
    "        fake_data = discriminator(generated_data, training=True)\n",
    "\n",
    "        gloss = generator_loss(fake_data)\n",
    "        dloss = discriminator_loss(real_data, fake_data)\n",
    "        dlosses.append(dloss)\n",
    "        glosses.append(gloss)\n",
    "\n",
    "    generator_gradients = generator_tape.gradient(gloss, generator.trainable_variables)\n",
    "    discriminator_gradients = discriminator_tape.gradient(dloss, discriminator.trainable_variables)\n",
    "\n",
    "    generator_optimiser.apply_gradients(zip(generator_gradients, generator.trainable_variables))\n",
    "    discriminator_optimiser.apply_gradients(zip(discriminator_gradients, discriminator.trainable_variables))\n",
    "    return dloss, gloss"
   ]
  },
  {
   "cell_type": "code",
   "execution_count": 14,
   "metadata": {},
   "outputs": [],
   "source": [
    "noise = tf.random.normal((batch_size, seq_length, features))"
   ]
  },
  {
   "cell_type": "code",
   "execution_count": 15,
   "metadata": {},
   "outputs": [],
   "source": [
    "epochs = 50"
   ]
  },
  {
   "cell_type": "code",
   "execution_count": 16,
   "metadata": {},
   "outputs": [],
   "source": [
    "def train(dataset, epochs):\n",
    "    predictions = np.array([])\n",
    "    dlosses = []\n",
    "    glosses = []\n",
    "\n",
    "    for epoch in range(epochs):\n",
    "        \n",
    "        # maybe add another loop for more training rounds\n",
    "        for data_batch in dataset:\n",
    "            dloss, gloss = train_step(data_batch)\n",
    "            dlosses.append(dloss)\n",
    "            glosses.append(gloss)\n",
    "\n",
    "        prediction = generator(noise, training=False)\n",
    "        predictions = np.append(predictions, prediction)\n",
    "\n",
    "    return predictions, dlosses, glosses"
   ]
  },
  {
   "cell_type": "code",
   "execution_count": 17,
   "metadata": {},
   "outputs": [],
   "source": [
    "preds, dlosses, glosses = train(train_dataset, epochs=epochs)"
   ]
  },
  {
   "cell_type": "code",
   "execution_count": 18,
   "metadata": {},
   "outputs": [
    {
     "data": {
      "text/plain": [
       "array([ 0.51704866,  0.66362411,  0.63458341,  0.51180261,  0.59374011,\n",
       "        0.57412297,  0.56056577,  0.56785858,  0.71656501,  0.57667089,\n",
       "        0.72677553,  0.68252438,  0.75367993,  0.24159674,  0.5537231 ,\n",
       "        0.521038  ,  0.7389878 , -0.08529909, -0.19035658, -0.16311061,\n",
       "       -0.15029338])"
      ]
     },
     "execution_count": 18,
     "metadata": {},
     "output_type": "execute_result"
    }
   ],
   "source": [
    "preds = preds.reshape(batch_size*epochs, features)\n",
    "preds[0]"
   ]
  },
  {
   "cell_type": "code",
   "execution_count": 19,
   "metadata": {},
   "outputs": [
    {
     "data": {
      "text/plain": [
       "<matplotlib.legend.Legend at 0x7fba2a66e7d0>"
      ]
     },
     "execution_count": 19,
     "metadata": {},
     "output_type": "execute_result"
    },
    {
     "data": {
      "image/png": "[encoded data removed]",
      "text/plain": [
       "<Figure size 640x480 with 1 Axes>"
      ]
     },
     "metadata": {},
     "output_type": "display_data"
    }
   ],
   "source": [
    "plt.plot(dlosses, label=\"discriminator_loss\")\n",
    "plt.plot(glosses, label=\"generator_loss\")\n",
    "# plt.ylim(0,3)\n",
    "# plt.xlim(0, 1000)\n",
    "plt.legend()"
   ]
  },
  {
   "cell_type": "code",
   "execution_count": 20,
   "metadata": {},
   "outputs": [],
   "source": [
    "# when I increase memory units the losses go wild\n",
    "# smoother losses using tanh for both activations and non-logit binary crossentropy\n",
    "# not adding dropout genuinely makes it go insane"
   ]
  },
  {
   "cell_type": "code",
   "execution_count": 21,
   "metadata": {},
   "outputs": [],
   "source": [
    "import scipy"
   ]
  },
  {
   "cell_type": "code",
   "execution_count": 22,
   "metadata": {},
   "outputs": [
    {
     "data": {
      "text/plain": [
       "(3200, 21, 1)"
      ]
     },
     "execution_count": 22,
     "metadata": {},
     "output_type": "execute_result"
    }
   ],
   "source": [
    "data_features_attacks[9999-preds.shape[0]:].shape"
   ]
  },
  {
   "cell_type": "code",
   "execution_count": 23,
   "metadata": {},
   "outputs": [
    {
     "data": {
      "text/plain": [
       "KstestResult(statistic=0.42159226190476196, pvalue=0.0, statistic_location=0.022922636941075325, statistic_sign=1)"
      ]
     },
     "execution_count": 23,
     "metadata": {},
     "output_type": "execute_result"
    }
   ],
   "source": [
    "scipy.stats.ks_2samp(data_features_attacks[9999-preds.shape[0]:].reshape(preds.shape[0]*21,), preds.reshape(preds.shape[0]*21,))"
   ]
  }
 ],
 "metadata": {
  "kernelspec": {
   "display_name": "ankh-morpork",
   "language": "python",
   "name": "python3"
  },
  "language_info": {
   "codemirror_mode": {
    "name": "ipython",
    "version": 3
   },
   "file_extension": ".py",
   "mimetype": "text/x-python",
   "name": "python",
   "nbconvert_exporter": "python",
   "pygments_lexer": "ipython3",
   "version": "3.11.6"
  }
 },
 "nbformat": 4,
 "nbformat_minor": 2
}
