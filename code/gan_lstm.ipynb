{
 "cells": [
  {
   "cell_type": "code",
   "execution_count": 726,
   "metadata": {},
   "outputs": [],
   "source": [
    "import numpy as np\n",
    "import matplotlib.pyplot as plt\n",
    "import pandas as pd\n",
    "import tensorflow as tf\n",
    "\n",
    "%matplotlib inline"
   ]
  },
  {
   "cell_type": "code",
   "execution_count": 727,
   "metadata": {},
   "outputs": [
    {
     "name": "stdout",
     "output_type": "stream",
     "text": [
      "0\n"
     ]
    }
   ],
   "source": [
    "# Get in dataset\n",
    "data_features_test = pd.read_csv(\"datasets/energy-informatics-2020/csvDataFeaturesTest.csv\", sep=\";\")\n",
    "\n",
    "# Take out only data corresponing to attacks and remove the column labelling it as an attack\n",
    "data_features_attacks = data_features_test.to_numpy()[238279:, :-1]\n",
    "print(np.count_nonzero(np.isnan(data_features_attacks)))\n",
    "# Set negative values to 0\n",
    "data_features_attacks = np.where(data_features_attacks >= 0, data_features_attacks, 0)\n",
    "data_features_attacks = data_features_attacks.reshape((9999,21,1)).astype('float32')"
   ]
  },
  {
   "cell_type": "code",
   "execution_count": 728,
   "metadata": {},
   "outputs": [],
   "source": [
    "# based on Austrian dataset\n",
    "batch_size = 21\n",
    "features = 21\n",
    "# what is sequence length actually representing here\n",
    "seq_length = 5"
   ]
  },
  {
   "cell_type": "code",
   "execution_count": 729,
   "metadata": {},
   "outputs": [],
   "source": [
    "# shuffle prevents model from getting stuck in local minima when solving the loss function\n",
    "train_dataset = (tf.data.Dataset.from_tensor_slices(data_features_attacks[:9000]).shuffle(10000).batch(batch_size))"
   ]
  },
  {
   "cell_type": "code",
   "execution_count": 730,
   "metadata": {},
   "outputs": [],
   "source": [
    "def make_generator_model():\n",
    "    model = tf.keras.Sequential()\n",
    "    # LSTM hidden layer with 100 memory units\n",
    "    model.add(tf.keras.layers.LSTM(100, input_shape = (seq_length, features), recurrent_dropout=0.4, return_sequences=True))\n",
    "    model.add(tf.keras.layers.LSTM(100, recurrent_dropout=0.4))\n",
    "    # dropout layer with a probability of 20\n",
    "    # model.add(tf.keras.layers.Dropout(0.2))\n",
    "    # output dense (fully connected) layer\n",
    "    model.add(tf.keras.layers.Dense(features, activation=\"tanh\"))\n",
    "    return model"
   ]
  },
  {
   "cell_type": "code",
   "execution_count": 731,
   "metadata": {},
   "outputs": [
    {
     "data": {
      "text/plain": [
       "TensorShape([21, 21])"
      ]
     },
     "execution_count": 731,
     "metadata": {},
     "output_type": "execute_result"
    }
   ],
   "source": [
    "generator = make_generator_model()\n",
    "# what do we want to the generator to output? One packet at a time? One attack at a time?\n",
    "# what to use as noise - what kind of dimension?\n",
    "# BGAN does [batch_size x seq_length, features]\n",
    "# LSTM expects sequences of the form [samples, time steps, features]\n",
    "noise = tf.random.normal((batch_size, seq_length, features))\n",
    "generated_data_untrained = generator(noise, training=False)\n",
    "generated_data_untrained.get_shape()"
   ]
  },
  {
   "cell_type": "code",
   "execution_count": 732,
   "metadata": {},
   "outputs": [],
   "source": [
    "def make_discriminator_model():\n",
    "    model = tf.keras.Sequential()\n",
    "    model.add(tf.keras.layers.LSTM(100, input_shape=(21,1), recurrent_dropout=0.4, return_sequences=True))\n",
    "    model.add(tf.keras.layers.LSTM(100, recurrent_dropout=0.4))\n",
    "    # model.add(tf.keras.layers.Dropout(0.2))\n",
    "    # what should the units of this dense layer be?\n",
    "    # seems like it outputs one value >0 for real data and <0 for fake data\n",
    "    # for each item in the batch\n",
    "    model.add(tf.keras.layers.Dense(1, activation=\"tanh\"))\n",
    "    return model"
   ]
  },
  {
   "cell_type": "code",
   "execution_count": 733,
   "metadata": {},
   "outputs": [
    {
     "data": {
      "text/plain": [
       "<tf.Tensor: shape=(21, 1), dtype=float32, numpy=\n",
       "array([[ 8.2598178e-04],\n",
       "       [ 8.3120831e-06],\n",
       "       [-1.9348513e-04],\n",
       "       [ 4.4348193e-04],\n",
       "       [ 2.5758974e-04],\n",
       "       [-2.7169308e-04],\n",
       "       [ 5.8096204e-05],\n",
       "       [-1.0436410e-03],\n",
       "       [-1.2568595e-04],\n",
       "       [-2.3496206e-04],\n",
       "       [-3.2084994e-05],\n",
       "       [-6.9115782e-04],\n",
       "       [ 4.2423175e-04],\n",
       "       [-3.0908617e-04],\n",
       "       [ 2.8723245e-04],\n",
       "       [-2.5736677e-04],\n",
       "       [-2.1951633e-04],\n",
       "       [ 6.6993700e-04],\n",
       "       [-1.2085278e-03],\n",
       "       [-6.0254493e-04],\n",
       "       [-2.7193275e-04]], dtype=float32)>"
      ]
     },
     "execution_count": 733,
     "metadata": {},
     "output_type": "execute_result"
    }
   ],
   "source": [
    "discriminator = make_discriminator_model()\n",
    "decision_untrained = discriminator(generated_data_untrained)\n",
    "decision_untrained"
   ]
  },
  {
   "cell_type": "markdown",
   "metadata": {},
   "source": [
    "### Binary Cross Entropy\n",
    "\n",
    "$$ H_p(q) = -\\frac{1}{N} \\Sigma_{i=1}^N y_i log(p(y_i)) + (1-y_i) log(1-p(y_i)) $$\n",
    "\n",
    "### BGAN Losses\n",
    "\n",
    "$$ D_{loss} = \\frac{1}{m} \\Sigma_{i=1}^m [logD(x_i) + log(1-D(G(z_i)))] $$\n",
    "\n",
    "$$ G_{loss} = \\frac{1}{m} \\Sigma_{i=1}^m [log(1-D(G(z_i)))] $$"
   ]
  },
  {
   "cell_type": "code",
   "execution_count": 734,
   "metadata": {},
   "outputs": [],
   "source": [
    "# define losses (this will change)\n",
    "cross_entropy = tf.keras.losses.BinaryCrossentropy(from_logits=False) # from_logits=True means models prediction represents a value [-inf, inf]"
   ]
  },
  {
   "cell_type": "code",
   "execution_count": 735,
   "metadata": {},
   "outputs": [],
   "source": [
    "def discriminator_loss(real_data, fake_data):\n",
    "    real_loss = cross_entropy(tf.ones_like(real_data), real_data)\n",
    "    fake_loss = cross_entropy(tf.zeros_like(fake_data), fake_data)\n",
    "    total_loss = real_loss + fake_loss\n",
    "    return total_loss\n",
    "\n",
    "    # BGAN loss\n",
    "    # loss = tf.reduce_mean(tf.math.log(real_data) + tf.math.log(1 - fake_data), axis=None)\n",
    "    # if tf.math.is_nan(loss):\n",
    "    #     return 0.0\n",
    "    # return loss"
   ]
  },
  {
   "cell_type": "code",
   "execution_count": 736,
   "metadata": {},
   "outputs": [],
   "source": [
    "def generator_loss(fake_data):\n",
    "    return cross_entropy(tf.ones_like(fake_data), fake_data)\n",
    "\n",
    "    # BGAN loss\n",
    "    # loss = tf.reduce_mean(tf.math.log(1 - fake_data))\n",
    "    # if tf.math.is_nan(loss):\n",
    "    #     return 0.0\n",
    "    # return loss"
   ]
  },
  {
   "cell_type": "code",
   "execution_count": 737,
   "metadata": {},
   "outputs": [],
   "source": [
    "generator_optimiser = tf.keras.optimizers.Adam(1e-4)\n",
    "discriminator_optimiser = tf.keras.optimizers.Adam(1e-4)"
   ]
  },
  {
   "cell_type": "code",
   "execution_count": 738,
   "metadata": {},
   "outputs": [],
   "source": [
    "@tf.function\n",
    "def train_step(data):\n",
    "    dlosses = []\n",
    "    glosses = []\n",
    "    # generate samples from the random space\n",
    "    noise = tf.random.normal((batch_size, seq_length, features))\n",
    "\n",
    "    with tf.GradientTape() as generator_tape, tf.GradientTape() as discriminator_tape:\n",
    "        generated_data = generator(noise, training=True)\n",
    "\n",
    "        real_data = discriminator(data, training=True)\n",
    "        fake_data = discriminator(generated_data, training=True)\n",
    "\n",
    "        gloss = generator_loss(fake_data)\n",
    "        dloss = discriminator_loss(real_data, fake_data)\n",
    "        dlosses.append(dloss)\n",
    "        glosses.append(gloss)\n",
    "\n",
    "    generator_gradients = generator_tape.gradient(gloss, generator.trainable_variables)\n",
    "    discriminator_gradients = discriminator_tape.gradient(dloss, discriminator.trainable_variables)\n",
    "\n",
    "    generator_optimiser.apply_gradients(zip(generator_gradients, generator.trainable_variables))\n",
    "    discriminator_optimiser.apply_gradients(zip(discriminator_gradients, discriminator.trainable_variables))\n",
    "    return dloss, gloss"
   ]
  },
  {
   "cell_type": "code",
   "execution_count": 739,
   "metadata": {},
   "outputs": [],
   "source": [
    "noise = tf.random.normal((batch_size, seq_length, features))"
   ]
  },
  {
   "cell_type": "code",
   "execution_count": 740,
   "metadata": {},
   "outputs": [],
   "source": [
    "epochs = 30"
   ]
  },
  {
   "cell_type": "code",
   "execution_count": 741,
   "metadata": {},
   "outputs": [],
   "source": [
    "def train(dataset, epochs):\n",
    "    predictions = np.array([])\n",
    "    dlosses = []\n",
    "    glosses = []\n",
    "\n",
    "    for epoch in range(epochs):\n",
    "        \n",
    "        # maybe add another loop for more training rounds\n",
    "        for data_batch in dataset:\n",
    "            dloss, gloss = train_step(data_batch)\n",
    "            dlosses.append(dloss)\n",
    "            glosses.append(gloss)\n",
    "\n",
    "        prediction = generator(noise, training=False)\n",
    "        predictions = np.append(predictions, prediction)\n",
    "\n",
    "    return predictions, dlosses, glosses"
   ]
  },
  {
   "cell_type": "code",
   "execution_count": 742,
   "metadata": {},
   "outputs": [],
   "source": [
    "preds, dlosses, glosses = train(train_dataset, epochs=epochs)"
   ]
  },
  {
   "cell_type": "code",
   "execution_count": 743,
   "metadata": {},
   "outputs": [],
   "source": [
    "preds.shape\n",
    "preds = preds.reshape(batch_size*epochs, features)"
   ]
  },
  {
   "cell_type": "code",
   "execution_count": 744,
   "metadata": {},
   "outputs": [
    {
     "data": {
      "text/plain": [
       "<matplotlib.legend.Legend at 0x7f196351f790>"
      ]
     },
     "execution_count": 744,
     "metadata": {},
     "output_type": "execute_result"
    },
    {
     "data": {
      "image/png": "[encoded data removed]",
      "text/plain": [
       "<Figure size 640x480 with 1 Axes>"
      ]
     },
     "metadata": {},
     "output_type": "display_data"
    }
   ],
   "source": [
    "plt.plot(dlosses, label=\"discriminator_loss\")\n",
    "plt.plot(glosses, label=\"generator_loss\")\n",
    "plt.legend()"
   ]
  },
  {
   "cell_type": "code",
   "execution_count": 745,
   "metadata": {},
   "outputs": [],
   "source": [
    "# when I increase memory units the losses go insane\n",
    "# smoother losses using tanh for both losses and non-logit binary crossentropy\n",
    "# not adding dropout genuinely makes it go insane"
   ]
  },
  {
   "cell_type": "code",
   "execution_count": 746,
   "metadata": {},
   "outputs": [
    {
     "data": {
      "text/plain": [
       "(array([[-0.39861131, -0.1124873 ,  0.32606789, ...,  0.26103678,\n",
       "          0.49471718, -0.14399335],\n",
       "        [-0.33614802,  0.04368205,  0.36549655, ...,  0.23553172,\n",
       "          0.37349218, -0.00366266],\n",
       "        [-0.37716252, -0.17571776,  0.34698686, ...,  0.18118268,\n",
       "          0.50298083, -0.10435598],\n",
       "        ...,\n",
       "        [-0.43542975, -0.19706275,  0.53271377, ...,  0.02429573,\n",
       "          0.36504686, -0.15212283],\n",
       "        [-0.50899738,  0.05130783,  0.52831388, ...,  0.00443929,\n",
       "          0.32643467, -0.43055129],\n",
       "        [-0.50821042, -0.07539355,  0.56148005, ...,  0.01247329,\n",
       "          0.38048816, -0.28079548]]),\n",
       " (630, 21))"
      ]
     },
     "execution_count": 746,
     "metadata": {},
     "output_type": "execute_result"
    }
   ],
   "source": [
    "preds[-100:, :], preds.shape"
   ]
  }
 ],
 "metadata": {
  "kernelspec": {
   "display_name": "ankh-morpork",
   "language": "python",
   "name": "python3"
  },
  "language_info": {
   "codemirror_mode": {
    "name": "ipython",
    "version": 3
   },
   "file_extension": ".py",
   "mimetype": "text/x-python",
   "name": "python",
   "nbconvert_exporter": "python",
   "pygments_lexer": "ipython3",
   "version": "3.11.6"
  }
 },
 "nbformat": 4,
 "nbformat_minor": 2
}
