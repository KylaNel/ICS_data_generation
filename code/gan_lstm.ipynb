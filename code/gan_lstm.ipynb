{
 "cells": [
  {
   "cell_type": "code",
   "execution_count": 30,
   "metadata": {},
   "outputs": [],
   "source": [
    "import numpy as np\n",
    "import matplotlib.pyplot as plt\n",
    "import pandas as pd\n",
    "import tensorflow as tf\n",
    "import scipy\n",
    "from sklearn import preprocessing\n",
    "\n",
    "%matplotlib inline"
   ]
  },
  {
   "cell_type": "code",
   "execution_count": 31,
   "metadata": {},
   "outputs": [],
   "source": [
    "# # Get in dataset\n",
    "# data_features_test = pd.read_csv(\"/home/knel/virtual_envs/ankh-morpork/ICS_data_generation/data/csvDataFeaturesTest.csv\", sep=\";\")\n",
    "\n",
    "# # Take out only data corresponing to attacks and remove the column labelling it as an attack\n",
    "# data_features_attacks = data_features_test.to_numpy()[238279:, :-1]\n",
    "# print(np.count_nonzero(np.isnan(data_features_attacks)))\n",
    "# # Set negative values to 0\n",
    "# data_features_attacks = np.where(data_features_attacks >= 0, data_features_attacks, 0)\n",
    "# data_features_attacks = data_features_attacks.reshape((9999,21,1)).astype('float32')"
   ]
  },
  {
   "cell_type": "code",
   "execution_count": 32,
   "metadata": {},
   "outputs": [],
   "source": [
    "attacks = pd.read_csv(\"/home/knel/virtual_envs/ankh-morpork/ICS_data_generation/data/wustl_attacks.csv\", sep=\",\")"
   ]
  },
  {
   "cell_type": "code",
   "execution_count": 33,
   "metadata": {},
   "outputs": [],
   "source": [
    "attacks = preprocessing.normalize(attacks.to_numpy()[:, 1:], norm=\"max\", axis=0)\n",
    "\n",
    "# swap sport to front\n",
    "# attacks[:, [0, 1]] = attacks[:, [1, 0]]\n",
    "# # swap dport to after sport\n",
    "# attacks[:, [1, 2]] = attacks[:, [2, 1]]\n",
    "# # swap protocols to after dport\n",
    "# attacks[:, [2, 14]] = attacks[:, [14, 2]]\n",
    "\n",
    "# column order now -> sport, dport, protocols, continuous (discrete, discrete, discrete, continuous)"
   ]
  },
  {
   "cell_type": "code",
   "execution_count": 34,
   "metadata": {},
   "outputs": [],
   "source": [
    "# what is sequence length actually representing here\n",
    "# time steps\n",
    "seq_length = 10\n",
    "batch_size = 64\n",
    "features = attacks.shape[1]\n",
    "latent_dim = 100"
   ]
  },
  {
   "cell_type": "code",
   "execution_count": 35,
   "metadata": {},
   "outputs": [
    {
     "data": {
      "text/plain": [
       "(87016, 27)"
      ]
     },
     "execution_count": 35,
     "metadata": {},
     "output_type": "execute_result"
    }
   ],
   "source": [
    "attacks.shape"
   ]
  },
  {
   "cell_type": "code",
   "execution_count": 36,
   "metadata": {},
   "outputs": [],
   "source": [
    "# shuffle prevents model from getting stuck in local minima when solving the loss function\n",
    "# train_dataset = attacks[:20000]\n",
    "train_dataset = (tf.data.Dataset.from_tensor_slices(attacks[:9984]).shuffle(10000).batch(batch_size))\n",
    "# test_dataset = attacks[int(np.floor(attacks.shape[0]*3/4)):]\n",
    "test_dataset = attacks[attacks.shape[0]-3000:]"
   ]
  },
  {
   "cell_type": "code",
   "execution_count": 37,
   "metadata": {},
   "outputs": [],
   "source": [
    "def make_generator_model():\n",
    "    model = tf.keras.Sequential()\n",
    "    # LSTM hidden layer with 100 memory units\n",
    "    model.add(tf.keras.layers.LSTM(200, input_shape = (seq_length, latent_dim), recurrent_dropout=0.4, return_sequences=True))\n",
    "    model.add(tf.keras.layers.ReLU())\n",
    "    model.add(tf.keras.layers.LSTM(200, recurrent_dropout=0.4))\n",
    "    model.add(tf.keras.layers.ReLU())\n",
    "    # dropout layer with a probability of 20\n",
    "    # model.add(tf.keras.layers.Dropout(0.2))\n",
    "    # output dense (fully connected) layer\n",
    "    model.add(tf.keras.layers.Dense(features, activation=\"sigmoid\"))\n",
    "    return model"
   ]
  },
  {
   "cell_type": "code",
   "execution_count": 38,
   "metadata": {},
   "outputs": [],
   "source": [
    "generator = make_generator_model()\n",
    "# what do we want to the generator to output? One packet at a time? One attack at a time?\n",
    "# what to use as noise - what kind of dimension?\n",
    "# BGAN does [batch_size x seq_length, features]\n",
    "# LSTM expects sequences of the form [samples, time steps, features]\n",
    "# noise = tf.random.normal((batch_size, seq_length, features))\n",
    "# generated_data_untrained = generator(noise, training=False)\n",
    "# generated_data_untrained.get_shape()"
   ]
  },
  {
   "cell_type": "code",
   "execution_count": 39,
   "metadata": {},
   "outputs": [
    {
     "data": {
      "text/plain": [
       "array([4.78530229e-01, 1.22096395e-03, 2.92112950e-03, 0.00000000e+00,\n",
       "       4.00480577e-04, 1.98196413e-04, 3.65144055e-04, 2.98095640e-06,\n",
       "       8.73414451e-06, 8.73414451e-06, 1.07063700e-05, 1.07063700e-05,\n",
       "       1.90023753e-03, 7.98722045e-04, 1.00000000e+00, 2.64192928e-02,\n",
       "       9.34084823e-03, 5.49079570e-02, 9.99940251e-01, 5.49079570e-02,\n",
       "       5.49079570e-02, 5.49079570e-02, 8.98039216e-01, 0.00000000e+00,\n",
       "       0.00000000e+00, 5.49079570e-02, 2.64192928e-02])"
      ]
     },
     "execution_count": 39,
     "metadata": {},
     "output_type": "execute_result"
    }
   ],
   "source": [
    "test_dataset[0]"
   ]
  },
  {
   "cell_type": "code",
   "execution_count": 40,
   "metadata": {},
   "outputs": [],
   "source": [
    "def make_discriminator_model():\n",
    "    model = tf.keras.Sequential()\n",
    "    model.add(tf.keras.layers.LSTM(200, input_shape=(features,1), recurrent_dropout=0.4, return_sequences=True))\n",
    "    model.add(tf.keras.layers.LSTM(200, recurrent_dropout=0.4))\n",
    "    # model.add(tf.keras.layers.Dropout(0.2))\n",
    "    # what should the units of this dense layer be?\n",
    "    # seems like it outputs one value >0 for real data and <0 for fake data\n",
    "    # for each item in the batch\n",
    "    model.add(tf.keras.layers.Dense(1, activation=\"tanh\"))\n",
    "    return model"
   ]
  },
  {
   "cell_type": "code",
   "execution_count": 41,
   "metadata": {},
   "outputs": [],
   "source": [
    "discriminator = make_discriminator_model()\n",
    "# decision_untrained = discriminator(generated_data_untrained)\n",
    "# decision_untrained"
   ]
  },
  {
   "cell_type": "markdown",
   "metadata": {},
   "source": [
    "### Binary Cross Entropy\n",
    "\n",
    "$$ H_p(q) = -\\frac{1}{N} \\Sigma_{i=1}^N y_i log(p(y_i)) + (1-y_i) log(1-p(y_i)) $$\n",
    "\n",
    "### BGAN Losses\n",
    "\n",
    "$$ D_{loss} = \\frac{1}{m} \\Sigma_{i=1}^m [logD(x_i) + log(1-D(G(z_i)))] $$\n",
    "\n",
    "$$ G_{loss} = \\frac{1}{m} \\Sigma_{i=1}^m [log(1-D(G(z_i)))] $$"
   ]
  },
  {
   "cell_type": "code",
   "execution_count": 42,
   "metadata": {},
   "outputs": [],
   "source": [
    "# define losses (this will change)\n",
    "cross_entropy = tf.keras.losses.BinaryCrossentropy(from_logits=False) # from_logits=True means models prediction represents a value [-inf, inf]"
   ]
  },
  {
   "cell_type": "code",
   "execution_count": 43,
   "metadata": {},
   "outputs": [],
   "source": [
    "def discriminator_loss(real_data, fake_data):\n",
    "    real_loss = cross_entropy(tf.ones_like(real_data), real_data)\n",
    "    fake_loss = cross_entropy(tf.zeros_like(fake_data), fake_data)\n",
    "    total_loss = real_loss + fake_loss\n",
    "    return total_loss\n",
    "\n",
    "    # BGAN loss\n",
    "    # loss = tf.reduce_mean(tf.math.log(real_data) + tf.math.log(1 - fake_data))\n",
    "    # # if tf.math.is_nan(loss):\n",
    "    # #     return 0.0\n",
    "    # return loss"
   ]
  },
  {
   "cell_type": "code",
   "execution_count": 44,
   "metadata": {},
   "outputs": [],
   "source": [
    "d = discriminator(attacks[:64])\n",
    "# tf.math.log(d), d"
   ]
  },
  {
   "cell_type": "code",
   "execution_count": 45,
   "metadata": {},
   "outputs": [],
   "source": [
    "def generator_loss(fake_data):\n",
    "    # return cross_entropy(tf.ones_like(fake_data), fake_data)\n",
    "\n",
    "    # BGAN loss\n",
    "    loss = tf.reduce_mean(tf.math.log(1 - fake_data))\n",
    "    return loss"
   ]
  },
  {
   "cell_type": "code",
   "execution_count": 46,
   "metadata": {},
   "outputs": [],
   "source": [
    "generator_optimiser = tf.keras.optimizers.Adam(1e-4)\n",
    "discriminator_optimiser = tf.keras.optimizers.Adam(1e-4)"
   ]
  },
  {
   "cell_type": "code",
   "execution_count": 47,
   "metadata": {},
   "outputs": [],
   "source": [
    "@tf.function\n",
    "def train_step(data):\n",
    "    dlosses = []\n",
    "    glosses = []\n",
    "    # generate samples from the random space\n",
    "    noise = tf.random.normal((batch_size, seq_length, latent_dim))\n",
    "\n",
    "    with tf.GradientTape() as generator_tape, tf.GradientTape() as discriminator_tape:\n",
    "        generated_data = generator(noise, training=True)\n",
    "\n",
    "        real_data = discriminator(data, training=True)\n",
    "        fake_data = discriminator(generated_data, training=True)\n",
    "\n",
    "        gloss = generator_loss(fake_data)\n",
    "        dloss = discriminator_loss(real_data, fake_data)\n",
    "        dlosses.append(dloss)\n",
    "        glosses.append(gloss)\n",
    "\n",
    "    generator_gradients = generator_tape.gradient(gloss, generator.trainable_variables)\n",
    "    discriminator_gradients = discriminator_tape.gradient(dloss, discriminator.trainable_variables)\n",
    "\n",
    "    generator_optimiser.apply_gradients(zip(generator_gradients, generator.trainable_variables))\n",
    "    discriminator_optimiser.apply_gradients(zip(discriminator_gradients, discriminator.trainable_variables))\n",
    "    return dloss, gloss"
   ]
  },
  {
   "cell_type": "code",
   "execution_count": 48,
   "metadata": {},
   "outputs": [],
   "source": [
    "epochs = 50"
   ]
  },
  {
   "cell_type": "code",
   "execution_count": 49,
   "metadata": {},
   "outputs": [],
   "source": [
    "def train(dataset, epochs):\n",
    "    dlosses = []\n",
    "    glosses = []\n",
    "\n",
    "    for epoch in range(epochs):\n",
    "        \n",
    "        # maybe add another loop for more training rounds\n",
    "        for data_batch in dataset:\n",
    "            dloss, gloss = train_step(data_batch)\n",
    "        dlosses.append(dloss)\n",
    "        glosses.append(gloss)\n",
    "\n",
    "    return dlosses, glosses"
   ]
  },
  {
   "cell_type": "code",
   "execution_count": 50,
   "metadata": {},
   "outputs": [],
   "source": [
    "# 33m to run 50 epochs with 20000 data points\n",
    "dlosses, glosses = train(train_dataset, epochs=epochs)"
   ]
  },
  {
   "cell_type": "code",
   "execution_count": 58,
   "metadata": {},
   "outputs": [
    {
     "data": {
      "text/plain": [
       "<matplotlib.legend.Legend at 0x7440c72ac810>"
      ]
     },
     "execution_count": 58,
     "metadata": {},
     "output_type": "execute_result"
    },
    {
     "data": {
      "image/png": "[encoded data removed]",
      "text/plain": [
       "<Figure size 640x480 with 1 Axes>"
      ]
     },
     "metadata": {},
     "output_type": "display_data"
    }
   ],
   "source": [
    "plt.plot(dlosses, label=\"Discriminator Loss\")\n",
    "plt.plot(glosses, label=\"Generator Loss\")\n",
    "# plt.ylim(-1,2)\n",
    "# plt.xlim(0, 41)\n",
    "plt.xlabel(\"Epoch\")\n",
    "plt.ylabel(\"Loss\")\n",
    "plt.legend()\n",
    "# plt.savefig(\"gan_lstm_swat_sensor_2.png\", dpi=800)"
   ]
  },
  {
   "cell_type": "code",
   "execution_count": 52,
   "metadata": {},
   "outputs": [],
   "source": [
    "# when I increase memory units the losses go wild\n",
    "# smoother losses using tanh for both activations and non-logit binary crossentropy\n",
    "# not adding dropout genuinely makes it go insane"
   ]
  },
  {
   "cell_type": "code",
   "execution_count": 53,
   "metadata": {},
   "outputs": [
    {
     "name": "stdout",
     "output_type": "stream",
     "text": [
      "94/94 [==============================] - 1s 3ms/step\n"
     ]
    }
   ],
   "source": [
    "test_noise = tf.random.normal((test_dataset.shape[0], seq_length, latent_dim))\n",
    "test_noise.shape\n",
    "preds = generator.predict(test_noise)"
   ]
  },
  {
   "cell_type": "code",
   "execution_count": 54,
   "metadata": {},
   "outputs": [
    {
     "data": {
      "text/plain": [
       "(3000, 27)"
      ]
     },
     "execution_count": 54,
     "metadata": {},
     "output_type": "execute_result"
    }
   ],
   "source": [
    "preds.shape"
   ]
  },
  {
   "cell_type": "code",
   "execution_count": 59,
   "metadata": {},
   "outputs": [],
   "source": [
    "# df = pd.DataFrame(preds)\n",
    "# df.to_csv(\"gan_lstm_wustl.csv\", index=False)"
   ]
  },
  {
   "cell_type": "code",
   "execution_count": 56,
   "metadata": {},
   "outputs": [
    {
     "data": {
      "text/plain": [
       "KstestResult(statistic=0.6331481481481481, pvalue=0.0, statistic_location=0.011013215859030838, statistic_sign=1)"
      ]
     },
     "execution_count": 56,
     "metadata": {},
     "output_type": "execute_result"
    }
   ],
   "source": [
    "scipy.stats.ks_2samp(test_dataset.reshape(preds.shape[0]*features,), preds.reshape(preds.shape[0]*features,))"
   ]
  },
  {
   "cell_type": "code",
   "execution_count": 57,
   "metadata": {},
   "outputs": [
    {
     "data": {
      "text/plain": [
       "(array([0.32421285, 0.05682771, 0.03788305, 0.09298382, 0.53382075,\n",
       "        0.19721803, 0.04292379, 0.0181184 , 0.01909317, 0.02828927,\n",
       "        0.01884129, 0.01215813, 0.05579174, 0.0137105 , 0.01293292,\n",
       "        0.16495739, 0.2437218 , 0.6613826 , 0.67537224, 0.68599045,\n",
       "        0.17586604, 0.5471013 , 0.49870262, 0.55604047, 0.8224627 ,\n",
       "        0.24067844, 0.7981756 ], dtype=float32),\n",
       " array([4.78530229e-01, 1.22096395e-03, 2.92112950e-03, 0.00000000e+00,\n",
       "        4.00480577e-04, 1.98196413e-04, 3.65144055e-04, 2.98095640e-06,\n",
       "        8.73414451e-06, 8.73414451e-06, 1.07063700e-05, 1.07063700e-05,\n",
       "        1.90023753e-03, 7.98722045e-04, 1.00000000e+00, 2.64192928e-02,\n",
       "        9.34084823e-03, 5.49079570e-02, 9.99940251e-01, 5.49079570e-02,\n",
       "        5.49079570e-02, 5.49079570e-02, 8.98039216e-01, 0.00000000e+00,\n",
       "        0.00000000e+00, 5.49079570e-02, 2.64192928e-02]))"
      ]
     },
     "execution_count": 57,
     "metadata": {},
     "output_type": "execute_result"
    }
   ],
   "source": [
    "preds[0], test_dataset[0]"
   ]
  }
 ],
 "metadata": {
  "kernelspec": {
   "display_name": "ankh-morpork",
   "language": "python",
   "name": "python3"
  },
  "language_info": {
   "codemirror_mode": {
    "name": "ipython",
    "version": 3
   },
   "file_extension": ".py",
   "mimetype": "text/x-python",
   "name": "python",
   "nbconvert_exporter": "python",
   "pygments_lexer": "ipython3",
   "version": "3.11.6"
  }
 },
 "nbformat": 4,
 "nbformat_minor": 2
}
