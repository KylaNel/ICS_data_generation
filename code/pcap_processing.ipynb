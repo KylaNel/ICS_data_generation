{
 "cells": [
  {
   "cell_type": "code",
   "execution_count": 1,
   "metadata": {},
   "outputs": [],
   "source": [
    "import numpy as np\n",
    "from scapy.all import *\n"
   ]
  },
  {
   "cell_type": "code",
   "execution_count": 2,
   "metadata": {},
   "outputs": [],
   "source": [
    "swat = rdpcap(\"/home/knel/datasets/SWaT/SWaT.A6_Dec 2019/pcap/Dec2019_00001_20191206102207.pcap\")"
   ]
  },
  {
   "cell_type": "code",
   "execution_count": 6,
   "metadata": {},
   "outputs": [],
   "source": [
    "TIME_ZERO = swat[0].time"
   ]
  },
  {
   "cell_type": "code",
   "execution_count": 7,
   "metadata": {},
   "outputs": [],
   "source": [
    "attack_pkt_list = []\n",
    "for pkt in swat:\n",
    "    timestamp = pkt.time\n",
    "    relative_time = timestamp - TIME_ZERO\n",
    "    # check if packet from within attack timeframes\n",
    "    if (relative_time >= 900 and relative_time <= 4500) or (relative_time >= 8700 and relative_time <= 12300):\n",
    "        attack_pkt_list.append(pkt)"
   ]
  },
  {
   "cell_type": "code",
   "execution_count": 8,
   "metadata": {},
   "outputs": [
    {
     "data": {
      "text/plain": [
       "0"
      ]
     },
     "execution_count": 8,
     "metadata": {},
     "output_type": "execute_result"
    }
   ],
   "source": [
    "len(attack_pkt_list)"
   ]
  },
  {
   "cell_type": "code",
   "execution_count": 9,
   "metadata": {},
   "outputs": [
    {
     "name": "stdout",
     "output_type": "stream",
     "text": [
      "0.000000\n",
      "0.000002\n",
      "0.000003\n",
      "0.000004\n",
      "0.000006\n",
      "0.000007\n",
      "0.000008\n",
      "0.000010\n",
      "0.000113\n",
      "0.000114\n",
      "0.000269\n",
      "0.000271\n",
      "0.000272\n",
      "0.000587\n",
      "0.000588\n",
      "0.000918\n",
      "0.000919\n",
      "0.001267\n",
      "0.001268\n",
      "0.001421\n"
     ]
    }
   ],
   "source": [
    "for i in range(20):\n",
    "    print(swat[i].time - TIME_ZERO)"
   ]
  },
  {
   "cell_type": "code",
   "execution_count": 18,
   "metadata": {},
   "outputs": [
    {
     "name": "stdout",
     "output_type": "stream",
     "text": [
      "{'192.168.1.20', '192.168.1.200', '192.168.1.31', '153.254.86.163', '192.168.1.40', '192.168.1.60', '192.168.1.130', '192.168.1.118', '192.168.1.90', '192.168.1.176', '192.168.1.51', '192.168.1.11', '192.168.1.230', '192.168.1.177', '192.168.1.61', '192.168.1.219', '10.10.10.2', '192.168.1.10', '91.189.94.4', '192.168.1.30', '192.168.1.100', '118.201.255.203', '192.168.1.99', '192.168.1.179', '192.168.1.50', '192.168.1.234', '192.168.1.183', '192.168.1.41', '192.168.1.178', '192.168.1.175', '192.168.1.201', '192.168.1.21', '192.168.1.220'}\n",
      "{'192.168.1.20', '192.168.1.200', '153.254.86.163', '192.168.1.40', '192.168.1.60', '192.168.1.130', '224.0.0.252', '239.192.2.63', '192.168.1.176', '192.168.1.11', '192.168.1.230', '192.168.1.177', '192.168.50.128', '192.168.1.255', '192.168.1.219', '255.255.255.255', '239.192.4.191', '192.168.1.10', '91.189.94.4', '192.168.1.30', '192.168.1.100', '118.201.255.203', '10.10.10.7', '239.192.5.255', '192.168.1.99', '239.192.8.127', '239.255.255.250', '192.168.1.179', '192.168.1.50', '224.0.0.22', '239.192.3.127', '192.168.1.234', '192.168.1.183', '192.168.1.178', '192.168.1.175', '224.0.0.2', '192.168.1.201', '239.192.7.60', '192.168.1.220', '224.0.0.251'}\n"
     ]
    }
   ],
   "source": [
    "pkt_list = []\n",
    "for pkt in swat:\n",
    "    pkt_list.append(pkt)\n",
    "\n",
    "src_ips = []\n",
    "dst_ips = []\n",
    "for pkt in pkt_list:\n",
    "    try:\n",
    "        src_ips.append(pkt[IP].src)\n",
    "        dst_ips.append(pkt[IP].dst)\n",
    "    except IndexError:\n",
    "        continue;\n",
    "\n",
    "src_ips_set = set(src_ips)\n",
    "dst_ips_set = set(dst_ips)\n",
    "\n",
    "print(src_ips_set)\n",
    "print(dst_ips_set)"
   ]
  },
  {
   "cell_type": "code",
   "execution_count": null,
   "metadata": {},
   "outputs": [],
   "source": []
  }
 ],
 "metadata": {
  "kernelspec": {
   "display_name": "ankh-morpork",
   "language": "python",
   "name": "python3"
  },
  "language_info": {
   "codemirror_mode": {
    "name": "ipython",
    "version": 3
   },
   "file_extension": ".py",
   "mimetype": "text/x-python",
   "name": "python",
   "nbconvert_exporter": "python",
   "pygments_lexer": "ipython3",
   "version": "3.11.6"
  }
 },
 "nbformat": 4,
 "nbformat_minor": 2
}
