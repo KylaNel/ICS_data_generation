{
 "cells": [
  {
   "cell_type": "code",
   "execution_count": 1,
   "metadata": {},
   "outputs": [],
   "source": [
    "import numpy as np\n",
    "from scapy.all import *\n",
    "from sklearn.preprocessing import OneHotEncoder\n",
    "import pandas as pd"
   ]
  },
  {
   "cell_type": "code",
   "execution_count": 2,
   "metadata": {},
   "outputs": [],
   "source": [
    "# concat = pd.concat([pd.read_csv(\"/home/knel/datasets/SWaT/SWaT.A6_Dec 2019/pcap/pcap1.csv\"), \n",
    "#                    pd.read_csv(\"/home/knel/datasets/SWaT/SWaT.A6_Dec 2019/pcap/pcap2.csv\"),\n",
    "#                    pd.read_csv(\"/home/knel/datasets/SWaT/SWaT.A6_Dec 2019/pcap/pcap3.csv\"),\n",
    "#                    pd.read_csv(\"/home/knel/datasets/SWaT/SWaT.A6_Dec 2019/pcap/pcap4.csv\"),\n",
    "#                    pd.read_csv(\"/home/knel/datasets/SWaT/SWaT.A6_Dec 2019/pcap/pcap5.csv\"),\n",
    "#                    pd.read_csv(\"/home/knel/datasets/SWaT/SWaT.A6_Dec 2019/pcap/pcap6.csv\"),\n",
    "#                    pd.read_csv(\"/home/knel/datasets/SWaT/SWaT.A6_Dec 2019/pcap/pcap7.csv\"),\n",
    "#                    pd.read_csv(\"/home/knel/datasets/SWaT/SWaT.A6_Dec 2019/pcap/pcap8.csv\"),\n",
    "#                    pd.read_csv(\"/home/knel/datasets/SWaT/SWaT.A6_Dec 2019/pcap/pcap9.csv\")], ignore_index=True)"
   ]
  },
  {
   "cell_type": "code",
   "execution_count": 3,
   "metadata": {},
   "outputs": [],
   "source": [
    "# concat.to_csv(\"/home/knel/datasets/SWaT/SWaT.A6_Dec 2019/pcap/swat_pcap_features.csv\")"
   ]
  },
  {
   "cell_type": "code",
   "execution_count": 4,
   "metadata": {},
   "outputs": [],
   "source": [
    "bad_cols = [0, 15, 16, 20, 24, 25, 26, 27, 30] # Index, SIntPkt, DIntPkt, IdleTime, sDSb, sTtl, SAppBytes, DAppBytes, sTos\n",
    "use_cols = [i for i in range(0, 30) if i not in bad_cols]\n",
    "\n",
    "swat = pd.read_csv(\"/home/knel/datasets/SWaT/SWaT.A6_Dec 2019/pcap/swat_pcap_features.csv\", usecols=use_cols).to_numpy()"
   ]
  },
  {
   "cell_type": "code",
   "execution_count": 5,
   "metadata": {},
   "outputs": [],
   "source": [
    "sports_index, dports_index, protocols_index = 1, 2, 14"
   ]
  },
  {
   "cell_type": "code",
   "execution_count": 6,
   "metadata": {},
   "outputs": [],
   "source": [
    "# remove arp protocol rows (blank ports)\n",
    "swat = swat[np.where(swat[:, 14] != \"arp\")]\n",
    "\n",
    "# remove igmp protocol rows (blank ports)\n",
    "swat = swat[np.where(swat[:, 14] != \"igmp\")]\n",
    "\n",
    "# remove man protocol rows (some weird artifact from Argus I dunno)\n",
    "swat = swat[np.where(swat[:, 14] != \"man\")]"
   ]
  },
  {
   "cell_type": "code",
   "execution_count": 7,
   "metadata": {},
   "outputs": [
    {
     "data": {
      "text/plain": [
       "2658168"
      ]
     },
     "execution_count": 7,
     "metadata": {},
     "output_type": "execute_result"
    }
   ],
   "source": [
    "len(swat)"
   ]
  },
  {
   "cell_type": "code",
   "execution_count": 25,
   "metadata": {},
   "outputs": [
    {
     "data": {
      "text/html": [
       "<style>#sk-container-id-3 {color: black;}#sk-container-id-3 pre{padding: 0;}#sk-container-id-3 div.sk-toggleable {background-color: white;}#sk-container-id-3 label.sk-toggleable__label {cursor: pointer;display: block;width: 100%;margin-bottom: 0;padding: 0.3em;box-sizing: border-box;text-align: center;}#sk-container-id-3 label.sk-toggleable__label-arrow:before {content: \"▸\";float: left;margin-right: 0.25em;color: #696969;}#sk-container-id-3 label.sk-toggleable__label-arrow:hover:before {color: black;}#sk-container-id-3 div.sk-estimator:hover label.sk-toggleable__label-arrow:before {color: black;}#sk-container-id-3 div.sk-toggleable__content {max-height: 0;max-width: 0;overflow: hidden;text-align: left;background-color: #f0f8ff;}#sk-container-id-3 div.sk-toggleable__content pre {margin: 0.2em;color: black;border-radius: 0.25em;background-color: #f0f8ff;}#sk-container-id-3 input.sk-toggleable__control:checked~div.sk-toggleable__content {max-height: 200px;max-width: 100%;overflow: auto;}#sk-container-id-3 input.sk-toggleable__control:checked~label.sk-toggleable__label-arrow:before {content: \"▾\";}#sk-container-id-3 div.sk-estimator input.sk-toggleable__control:checked~label.sk-toggleable__label {background-color: #d4ebff;}#sk-container-id-3 div.sk-label input.sk-toggleable__control:checked~label.sk-toggleable__label {background-color: #d4ebff;}#sk-container-id-3 input.sk-hidden--visually {border: 0;clip: rect(1px 1px 1px 1px);clip: rect(1px, 1px, 1px, 1px);height: 1px;margin: -1px;overflow: hidden;padding: 0;position: absolute;width: 1px;}#sk-container-id-3 div.sk-estimator {font-family: monospace;background-color: #f0f8ff;border: 1px dotted black;border-radius: 0.25em;box-sizing: border-box;margin-bottom: 0.5em;}#sk-container-id-3 div.sk-estimator:hover {background-color: #d4ebff;}#sk-container-id-3 div.sk-parallel-item::after {content: \"\";width: 100%;border-bottom: 1px solid gray;flex-grow: 1;}#sk-container-id-3 div.sk-label:hover label.sk-toggleable__label {background-color: #d4ebff;}#sk-container-id-3 div.sk-serial::before {content: \"\";position: absolute;border-left: 1px solid gray;box-sizing: border-box;top: 0;bottom: 0;left: 50%;z-index: 0;}#sk-container-id-3 div.sk-serial {display: flex;flex-direction: column;align-items: center;background-color: white;padding-right: 0.2em;padding-left: 0.2em;position: relative;}#sk-container-id-3 div.sk-item {position: relative;z-index: 1;}#sk-container-id-3 div.sk-parallel {display: flex;align-items: stretch;justify-content: center;background-color: white;position: relative;}#sk-container-id-3 div.sk-item::before, #sk-container-id-3 div.sk-parallel-item::before {content: \"\";position: absolute;border-left: 1px solid gray;box-sizing: border-box;top: 0;bottom: 0;left: 50%;z-index: -1;}#sk-container-id-3 div.sk-parallel-item {display: flex;flex-direction: column;z-index: 1;position: relative;background-color: white;}#sk-container-id-3 div.sk-parallel-item:first-child::after {align-self: flex-end;width: 50%;}#sk-container-id-3 div.sk-parallel-item:last-child::after {align-self: flex-start;width: 50%;}#sk-container-id-3 div.sk-parallel-item:only-child::after {width: 0;}#sk-container-id-3 div.sk-dashed-wrapped {border: 1px dashed gray;margin: 0 0.4em 0.5em 0.4em;box-sizing: border-box;padding-bottom: 0.4em;background-color: white;}#sk-container-id-3 div.sk-label label {font-family: monospace;font-weight: bold;display: inline-block;line-height: 1.2em;}#sk-container-id-3 div.sk-label-container {text-align: center;}#sk-container-id-3 div.sk-container {/* jupyter's `normalize.less` sets `[hidden] { display: none; }` but bootstrap.min.css set `[hidden] { display: none !important; }` so we also need the `!important` here to be able to override the default hidden behavior on the sphinx rendered scikit-learn.org. See: https://github.com/scikit-learn/scikit-learn/issues/21755 */display: inline-block !important;position: relative;}#sk-container-id-3 div.sk-text-repr-fallback {display: none;}</style><div id=\"sk-container-id-3\" class=\"sk-top-container\"><div class=\"sk-text-repr-fallback\"><pre>OneHotEncoder()</pre><b>In a Jupyter environment, please rerun this cell to show the HTML representation or trust the notebook. <br />On GitHub, the HTML representation is unable to render, please try loading this page with nbviewer.org.</b></div><div class=\"sk-container\" hidden><div class=\"sk-item\"><div class=\"sk-estimator sk-toggleable\"><input class=\"sk-toggleable__control sk-hidden--visually\" id=\"sk-estimator-id-3\" type=\"checkbox\" checked><label for=\"sk-estimator-id-3\" class=\"sk-toggleable__label sk-toggleable__label-arrow\">OneHotEncoder</label><div class=\"sk-toggleable__content\"><pre>OneHotEncoder()</pre></div></div></div></div></div>"
      ],
      "text/plain": [
       "OneHotEncoder()"
      ]
     },
     "execution_count": 25,
     "metadata": {},
     "output_type": "execute_result"
    }
   ],
   "source": [
    "# one-hot encode Sports\n",
    "enc_sports = OneHotEncoder()\n",
    "enc_sports.fit(swat[:, sports_index].reshape(-1, 1))\n",
    "# sports_one_hot = enc_sports.transform(swat[:, sports_index].reshape(-1, 1)).toarray()\n",
    "\n",
    "# need to insert new column for every category from the one-hot encoder\n",
    "# this dataset is going to have SO MANY COLUMNS\n",
    "\n",
    "\n",
    "# one-hot encode Dports\n",
    "enc_dports = OneHotEncoder()\n",
    "enc_dports.fit(swat[:, dports_index].reshape(-1, 1))\n",
    "# dports_one_hot = enc_dports.transform(swat[:, dports_index].reshape(-1, 1)).toarray()\n",
    "\n",
    "# one-hot encode Proto\n",
    "enc_proto = OneHotEncoder()\n",
    "enc_proto.fit(swat[:, protocols_index].reshape(-1, 1))\n",
    "# dports_one_hot = enc_proto.transform(swat[:, protocols_index].reshape(-1, 1)).toarray()"
   ]
  },
  {
   "cell_type": "code",
   "execution_count": 26,
   "metadata": {},
   "outputs": [
    {
     "data": {
      "text/plain": [
       "(str,\n",
       " array([4.999887, '56327', '44818', 3910, 3913, 373788, 334332,\n",
       "        597922.3125, 534807.3125, 781.817688, 782.417664, 976, 978,\n",
       "        19.985681, 'tcp', 4.999887, 0.0, 4.999887, 4.999887, 4.999887, 0.0,\n",
       "        4.999887], dtype=object))"
      ]
     },
     "execution_count": 26,
     "metadata": {},
     "output_type": "execute_result"
    }
   ],
   "source": [
    "type(swat[0][1]), swat[0]"
   ]
  },
  {
   "cell_type": "code",
   "execution_count": 37,
   "metadata": {},
   "outputs": [],
   "source": [
    "sports_one_hot_flat = []\n",
    "dports_one_hot_flat = []\n",
    "proto_one_hot_flat = []\n",
    "\n",
    "swat_split = np.array_split(swat, 100_000)\n",
    "# swat_split = np.array_split(swat[:100], 10)\n",
    "\n",
    "for split in swat_split:\n",
    "    sports_one_hot_flat.append(enc_sports.transform(split[:, sports_index].reshape(-1, 1)).toarray())\n",
    "    dports_one_hot_flat.append(enc_dports.transform(split[:, dports_index].reshape(-1, 1)).toarray())\n",
    "    proto_one_hot_flat.append(enc_proto.transform(split[:, protocols_index].reshape(-1, 1)).toarray())"
   ]
  },
  {
   "cell_type": "code",
   "execution_count": null,
   "metadata": {},
   "outputs": [
    {
     "data": {
      "text/plain": [
       "(array([[0., 0., 0., ..., 0., 0., 0.],\n",
       "        [0., 0., 0., ..., 0., 0., 0.],\n",
       "        [0., 0., 0., ..., 0., 0., 0.],\n",
       "        ...,\n",
       "        [0., 0., 0., ..., 0., 0., 0.],\n",
       "        [0., 0., 0., ..., 0., 0., 0.],\n",
       "        [0., 0., 0., ..., 0., 0., 0.]]),\n",
       " (array([1572]),),\n",
       " (array([0, 1, 2, 3, 4, 5, 6, 7, 8, 9]),\n",
       "  array([14753, 14129,   140,  7213,  1571, 14718, 15796,  1553,  1551,\n",
       "           140])))"
      ]
     },
     "execution_count": 36,
     "metadata": {},
     "output_type": "execute_result"
    }
   ],
   "source": [
    "sports_one_hot_flat[0], np.where(sports_one_hot_flat[1][0] == 1), np.where(sports_one_hot_flat[:][0] == 1)"
   ]
  },
  {
   "cell_type": "code",
   "execution_count": 32,
   "metadata": {},
   "outputs": [
    {
     "data": {
      "text/plain": [
       "(array([14753]),)"
      ]
     },
     "execution_count": 32,
     "metadata": {},
     "output_type": "execute_result"
    }
   ],
   "source": [
    "test = []\n",
    "\n",
    "test.append(enc_sports.transform(swat[:10, sports_index].reshape(-1, 1)).toarray())\n",
    "\n",
    "\n",
    "test2 = np.asarray([])\n",
    "test2 = np.append(test2, enc_sports.transform(swat[:10, sports_index].reshape(-1, 1)).toarray())\n",
    "\n",
    "np.where(test[0][0] == 1)"
   ]
  },
  {
   "cell_type": "code",
   "execution_count": 154,
   "metadata": {},
   "outputs": [
    {
     "data": {
      "text/plain": [
       "True"
      ]
     },
     "execution_count": 154,
     "metadata": {},
     "output_type": "execute_result"
    }
   ],
   "source": [
    "np.array_equal(test[0], test2.reshape(10, 23030))"
   ]
  },
  {
   "cell_type": "code",
   "execution_count": 7,
   "metadata": {},
   "outputs": [],
   "source": [
    "attack_pkt_list = []\n",
    "for pkt in swat:\n",
    "    timestamp = pkt.time\n",
    "    relative_time = timestamp - TIME_ZERO\n",
    "    # check if packet from within attack timeframes\n",
    "    if (relative_time >= 900 and relative_time <= 4500) or (relative_time >= 8700 and relative_time <= 12300):\n",
    "        attack_pkt_list.append(pkt)"
   ]
  },
  {
   "cell_type": "code",
   "execution_count": 8,
   "metadata": {},
   "outputs": [
    {
     "data": {
      "text/plain": [
       "0"
      ]
     },
     "execution_count": 8,
     "metadata": {},
     "output_type": "execute_result"
    }
   ],
   "source": [
    "len(attack_pkt_list)"
   ]
  },
  {
   "cell_type": "code",
   "execution_count": 9,
   "metadata": {},
   "outputs": [
    {
     "name": "stdout",
     "output_type": "stream",
     "text": [
      "0.000000\n",
      "0.000002\n",
      "0.000003\n",
      "0.000004\n",
      "0.000006\n",
      "0.000007\n",
      "0.000008\n",
      "0.000010\n",
      "0.000113\n",
      "0.000114\n",
      "0.000269\n",
      "0.000271\n",
      "0.000272\n",
      "0.000587\n",
      "0.000588\n",
      "0.000918\n",
      "0.000919\n",
      "0.001267\n",
      "0.001268\n",
      "0.001421\n"
     ]
    }
   ],
   "source": [
    "for i in range(20):\n",
    "    print(swat[i].time - TIME_ZERO)"
   ]
  },
  {
   "cell_type": "code",
   "execution_count": 18,
   "metadata": {},
   "outputs": [
    {
     "name": "stdout",
     "output_type": "stream",
     "text": [
      "{'192.168.1.20', '192.168.1.200', '192.168.1.31', '153.254.86.163', '192.168.1.40', '192.168.1.60', '192.168.1.130', '192.168.1.118', '192.168.1.90', '192.168.1.176', '192.168.1.51', '192.168.1.11', '192.168.1.230', '192.168.1.177', '192.168.1.61', '192.168.1.219', '10.10.10.2', '192.168.1.10', '91.189.94.4', '192.168.1.30', '192.168.1.100', '118.201.255.203', '192.168.1.99', '192.168.1.179', '192.168.1.50', '192.168.1.234', '192.168.1.183', '192.168.1.41', '192.168.1.178', '192.168.1.175', '192.168.1.201', '192.168.1.21', '192.168.1.220'}\n",
      "{'192.168.1.20', '192.168.1.200', '153.254.86.163', '192.168.1.40', '192.168.1.60', '192.168.1.130', '224.0.0.252', '239.192.2.63', '192.168.1.176', '192.168.1.11', '192.168.1.230', '192.168.1.177', '192.168.50.128', '192.168.1.255', '192.168.1.219', '255.255.255.255', '239.192.4.191', '192.168.1.10', '91.189.94.4', '192.168.1.30', '192.168.1.100', '118.201.255.203', '10.10.10.7', '239.192.5.255', '192.168.1.99', '239.192.8.127', '239.255.255.250', '192.168.1.179', '192.168.1.50', '224.0.0.22', '239.192.3.127', '192.168.1.234', '192.168.1.183', '192.168.1.178', '192.168.1.175', '224.0.0.2', '192.168.1.201', '239.192.7.60', '192.168.1.220', '224.0.0.251'}\n"
     ]
    }
   ],
   "source": [
    "pkt_list = []\n",
    "for pkt in swat:\n",
    "    pkt_list.append(pkt)\n",
    "\n",
    "src_ips = []\n",
    "dst_ips = []\n",
    "for pkt in pkt_list:\n",
    "    try:\n",
    "        src_ips.append(pkt[IP].src)\n",
    "        dst_ips.append(pkt[IP].dst)\n",
    "    except IndexError:\n",
    "        continue;\n",
    "\n",
    "src_ips_set = set(src_ips)\n",
    "dst_ips_set = set(dst_ips)\n",
    "\n",
    "print(src_ips_set)\n",
    "print(dst_ips_set)"
   ]
  },
  {
   "cell_type": "code",
   "execution_count": null,
   "metadata": {},
   "outputs": [],
   "source": []
  }
 ],
 "metadata": {
  "kernelspec": {
   "display_name": "ankh-morpork",
   "language": "python",
   "name": "python3"
  },
  "language_info": {
   "codemirror_mode": {
    "name": "ipython",
    "version": 3
   },
   "file_extension": ".py",
   "mimetype": "text/x-python",
   "name": "python",
   "nbconvert_exporter": "python",
   "pygments_lexer": "ipython3",
   "version": "3.11.6"
  }
 },
 "nbformat": 4,
 "nbformat_minor": 2
}
