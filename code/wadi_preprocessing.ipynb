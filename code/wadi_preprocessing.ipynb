{
 "cells": [
  {
   "cell_type": "code",
   "execution_count": 1,
   "metadata": {},
   "outputs": [],
   "source": [
    "import numpy as np\n",
    "import pandas as pd"
   ]
  },
  {
   "cell_type": "code",
   "execution_count": 2,
   "metadata": {},
   "outputs": [],
   "source": [
    "# columns with no values\n",
    "unusable_columns = [50, 51, 86, 87]\n",
    "useable_columns = [x for x in range(3, 131) if x not in unusable_columns]\n",
    "# read in data without the feature labels and the date and time columns\n",
    "wadi_raw = pd.read_csv(\"/home/knel/datasets/WADI/WADI.A2_19 Nov 2019/WADI_attackdataLABLE.csv\", sep=\",\", skiprows=[0,1], usecols=useable_columns)"
   ]
  },
  {
   "cell_type": "code",
   "execution_count": 3,
   "metadata": {},
   "outputs": [
    {
     "data": {
      "text/plain": [
       "(172802, 124)"
      ]
     },
     "execution_count": 3,
     "metadata": {},
     "output_type": "execute_result"
    }
   ],
   "source": [
    "wadi = wadi_raw.to_numpy()\n",
    "wadi.shape"
   ]
  },
  {
   "cell_type": "code",
   "execution_count": 4,
   "metadata": {},
   "outputs": [],
   "source": [
    "# get just the attacks\n",
    "wadi_attacks = np.zeros((124))\n",
    "for row in wadi:\n",
    "    if row[-1] < 0:\n",
    "        wadi_attacks = np.vstack((wadi_attacks, row))\n",
    "# get rid of dummy row and label column\n",
    "wadi_attacks = wadi_attacks[1:, :-1]"
   ]
  },
  {
   "cell_type": "code",
   "execution_count": 6,
   "metadata": {},
   "outputs": [],
   "source": [
    "# save attacks to csv\n",
    "# df = pd.DataFrame(wadi_attacks)\n",
    "# df.to_csv(\"wadi_attacks.csv\", sep=\",\")"
   ]
  },
  {
   "cell_type": "code",
   "execution_count": 8,
   "metadata": {},
   "outputs": [
    {
     "data": {
      "text/plain": [
       "((172802, 123), (172802,))"
      ]
     },
     "execution_count": 8,
     "metadata": {},
     "output_type": "execute_result"
    }
   ],
   "source": [
    "# get labelled data - possibly use for CTGAN\n",
    "wadi_X = wadi[:, :-1]\n",
    "wadi_y = wadi[:, -1]\n",
    "wadi_X.shape, wadi_y.shape"
   ]
  },
  {
   "cell_type": "code",
   "execution_count": 10,
   "metadata": {},
   "outputs": [],
   "source": [
    "# save labelled data to csv\n",
    "# dfX = pd.DataFrame(wadi_X)\n",
    "# dfX.to_csv(\"wadi_data_X.csv\", sep=',')\n",
    "# dfY = pd.DataFrame(wadi_y)\n",
    "# dfY.to_csv(\"wadi_labels_y.csv\", sep=',')"
   ]
  },
  {
   "cell_type": "code",
   "execution_count": null,
   "metadata": {},
   "outputs": [],
   "source": []
  }
 ],
 "metadata": {
  "kernelspec": {
   "display_name": "ankh-morpork",
   "language": "python",
   "name": "python3"
  },
  "language_info": {
   "codemirror_mode": {
    "name": "ipython",
    "version": 3
   },
   "file_extension": ".py",
   "mimetype": "text/x-python",
   "name": "python",
   "nbconvert_exporter": "python",
   "pygments_lexer": "ipython3",
   "version": "3.11.6"
  }
 },
 "nbformat": 4,
 "nbformat_minor": 2
}
