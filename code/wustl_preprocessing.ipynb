{
 "cells": [
  {
   "cell_type": "code",
   "execution_count": 1,
   "metadata": {},
   "outputs": [],
   "source": [
    "import numpy as np\n",
    "import pandas as pd"
   ]
  },
  {
   "cell_type": "code",
   "execution_count": 2,
   "metadata": {},
   "outputs": [],
   "source": [
    "usecols = [i for i in range(0, 49) if i not in [0, 1, 2, 3, 37, 38, 47]]"
   ]
  },
  {
   "cell_type": "code",
   "execution_count": 3,
   "metadata": {},
   "outputs": [],
   "source": [
    "# last column is attack or not attack\n",
    "wustl = pd.read_csv(\"/home/knel/datasets/wustl_iiot_2021.csv\", sep=\",\", usecols=usecols)\n",
    "wustl = wustl.to_numpy()"
   ]
  },
  {
   "cell_type": "code",
   "execution_count": 4,
   "metadata": {},
   "outputs": [],
   "source": [
    "attack_data = wustl[wustl[:, -1] == 1.0][:, :-1]"
   ]
  },
  {
   "cell_type": "code",
   "execution_count": 5,
   "metadata": {},
   "outputs": [],
   "source": [
    "assert(len(attack_data) == 87016)"
   ]
  },
  {
   "cell_type": "code",
   "execution_count": 6,
   "metadata": {},
   "outputs": [],
   "source": [
    "# attack_dataframe = pd.DataFrame(attack_data)\n",
    "# attack_dataframe.to_csv(\"wustl_attacks.csv\", sep=\",\")"
   ]
  },
  {
   "cell_type": "code",
   "execution_count": 2,
   "metadata": {},
   "outputs": [],
   "source": [
    "wustl_attacks = pd.read_csv(\"/home/knel/virtual_envs/ankh-morpork/ICS_data_generation/data/wustl_attacks.csv\", sep=\",\")"
   ]
  },
  {
   "cell_type": "code",
   "execution_count": 11,
   "metadata": {},
   "outputs": [],
   "source": [
    "sport = wustl_attacks.to_numpy()[:, 1]\n",
    "dport = wustl_attacks.to_numpy()[:, 2]\n",
    "proto = wustl_attacks.to_numpy()[:, 3]"
   ]
  },
  {
   "cell_type": "code",
   "execution_count": 18,
   "metadata": {},
   "outputs": [
    {
     "name": "stdout",
     "output_type": "stream",
     "text": [
      "(44536,)\n",
      "(7756,)\n",
      "(4,)\n"
     ]
    }
   ],
   "source": [
    "print(np.unique(sport, return_counts=True)[0].shape)\n",
    "print(np.unique(dport, return_counts=True)[0].shape)\n",
    "print(np.unique(proto, return_counts=True)[0].shape)"
   ]
  }
 ],
 "metadata": {
  "kernelspec": {
   "display_name": "ankh-morpork",
   "language": "python",
   "name": "python3"
  },
  "language_info": {
   "codemirror_mode": {
    "name": "ipython",
    "version": 3
   },
   "file_extension": ".py",
   "mimetype": "text/x-python",
   "name": "python",
   "nbconvert_exporter": "python",
   "pygments_lexer": "ipython3",
   "version": "3.11.6"
  }
 },
 "nbformat": 4,
 "nbformat_minor": 2
}
