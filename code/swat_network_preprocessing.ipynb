{
 "cells": [
  {
   "cell_type": "code",
   "execution_count": 12,
   "metadata": {},
   "outputs": [],
   "source": [
    "import numpy as np\n",
    "from scapy.all import *\n",
    "import pandas as pd"
   ]
  },
  {
   "cell_type": "code",
   "execution_count": 2,
   "metadata": {},
   "outputs": [],
   "source": [
    "# concat = pd.concat([pd.read_csv(\"/home/knel/datasets/SWaT/SWaT.A6_Dec 2019/pcap/pcap1.csv\"), \n",
    "#                    pd.read_csv(\"/home/knel/datasets/SWaT/SWaT.A6_Dec 2019/pcap/pcap2.csv\"),\n",
    "#                    pd.read_csv(\"/home/knel/datasets/SWaT/SWaT.A6_Dec 2019/pcap/pcap3.csv\"),\n",
    "#                    pd.read_csv(\"/home/knel/datasets/SWaT/SWaT.A6_Dec 2019/pcap/pcap4.csv\"),\n",
    "#                    pd.read_csv(\"/home/knel/datasets/SWaT/SWaT.A6_Dec 2019/pcap/pcap5.csv\"),\n",
    "#                    pd.read_csv(\"/home/knel/datasets/SWaT/SWaT.A6_Dec 2019/pcap/pcap6.csv\"),\n",
    "#                    pd.read_csv(\"/home/knel/datasets/SWaT/SWaT.A6_Dec 2019/pcap/pcap7.csv\"),\n",
    "#                    pd.read_csv(\"/home/knel/datasets/SWaT/SWaT.A6_Dec 2019/pcap/pcap8.csv\"),\n",
    "#                    pd.read_csv(\"/home/knel/datasets/SWaT/SWaT.A6_Dec 2019/pcap/pcap9.csv\")], ignore_index=True)"
   ]
  },
  {
   "cell_type": "code",
   "execution_count": 3,
   "metadata": {},
   "outputs": [],
   "source": [
    "# concat.to_csv(\"/home/knel/datasets/SWaT/SWaT.A6_Dec 2019/pcap/swat_pcap_features.csv\")"
   ]
  },
  {
   "cell_type": "code",
   "execution_count": 13,
   "metadata": {},
   "outputs": [],
   "source": [
    "bad_cols = [0, 15, 16, 20, 24, 25, 26, 27, 30] # Index, SIntPkt, DIntPkt, IdleTime, sDSb, sTtl, SAppBytes, DAppBytes, sTos\n",
    "use_cols = [i for i in range(0, 30) if i not in bad_cols]\n",
    "\n",
    "swat = pd.read_csv(\"/home/knel/datasets/SWaT/SWaT.A6_Dec 2019/pcap/swat_pcap_features.csv\", usecols=use_cols).to_numpy()"
   ]
  },
  {
   "cell_type": "code",
   "execution_count": 14,
   "metadata": {},
   "outputs": [],
   "source": [
    "sports_index, dports_index, protocols_index = 1, 2, 14"
   ]
  },
  {
   "cell_type": "code",
   "execution_count": 15,
   "metadata": {},
   "outputs": [],
   "source": [
    "# remove arp protocol rows (blank ports)\n",
    "swat = swat[np.where(swat[:, 14] != \"arp\")]\n",
    "\n",
    "# remove igmp protocol rows (blank ports)\n",
    "swat = swat[np.where(swat[:, 14] != \"igmp\")]\n",
    "\n",
    "# remove man protocol rows (some weird artifact from Argus I dunno)\n",
    "swat = swat[np.where(swat[:, 14] != \"man\")]"
   ]
  },
  {
   "cell_type": "code",
   "execution_count": 16,
   "metadata": {},
   "outputs": [
    {
     "data": {
      "text/plain": [
       "(Counter({'tcp': 2619273,\n",
       "          'udp': 34276,\n",
       "          'icmp': 4021,\n",
       "          'ipv6-icmp': 259,\n",
       "          'llc': 256,\n",
       "          'rtp': 82,\n",
       "          'rtcp': 1}),\n",
       " 14372,\n",
       " 23030)"
      ]
     },
     "execution_count": 16,
     "metadata": {},
     "output_type": "execute_result"
    }
   ],
   "source": [
    "from collections import Counter\n",
    "Counter(swat[:, 14]), len(Counter(swat[:, 2])), len(Counter(swat[:,1]))"
   ]
  },
  {
   "cell_type": "code",
   "execution_count": 17,
   "metadata": {},
   "outputs": [
    {
     "data": {
      "text/plain": [
       "'0x0ed0'"
      ]
     },
     "execution_count": 17,
     "metadata": {},
     "output_type": "execute_result"
    }
   ],
   "source": [
    "ports = set()\n",
    "for sport in swat[:, 1]:\n",
    "    if not sport.isdigit():\n",
    "        ports.add(sport)\n",
    "for dport in swat[:, 2]:\n",
    "    if not dport.isdigit():\n",
    "        ports.add(dport)\n",
    "\n",
    "categories = list(ports)\n",
    "categories[0]\n"
   ]
  },
  {
   "cell_type": "code",
   "execution_count": 18,
   "metadata": {},
   "outputs": [
    {
     "data": {
      "text/plain": [
       "0"
      ]
     },
     "execution_count": 18,
     "metadata": {},
     "output_type": "execute_result"
    }
   ],
   "source": [
    "categories.index(\"0x0ed0\")"
   ]
  },
  {
   "cell_type": "code",
   "execution_count": 19,
   "metadata": {},
   "outputs": [],
   "source": [
    "# Replace port strings with category index\n",
    "for i, sport in enumerate(swat[:, 1]):\n",
    "    if not sport.isdigit():\n",
    "        swat[:, 1][i] = categories.index(sport) + 1\n",
    "\n",
    "for j, dport in enumerate(swat[:, 2]):\n",
    "    if not dport.isdigit():\n",
    "        swat[:, 2][j] = categories.index(dport) + 1\n",
    "\n",
    "protocols = [\"tcp\", \"udp\", \"icmp\", \"ipv6-icmp\", \"llc\", \"rtp\", \"rtcp\"]\n",
    "\n",
    "for k, proto in enumerate(swat[:, 14]):\n",
    "    swat[:, 14][k] = protocols.index(proto) + 1"
   ]
  },
  {
   "cell_type": "code",
   "execution_count": 20,
   "metadata": {},
   "outputs": [],
   "source": [
    "df = pd.DataFrame(swat)\n",
    "df.to_csv(\"swat_processed.csv\", sep=\",\")"
   ]
  },
  {
   "cell_type": "code",
   "execution_count": 7,
   "metadata": {},
   "outputs": [],
   "source": [
    "attack_pkt_list = []\n",
    "for pkt in swat:\n",
    "    timestamp = pkt.time\n",
    "    relative_time = timestamp - TIME_ZERO\n",
    "    # check if packet from within attack timeframes\n",
    "    if (relative_time >= 900 and relative_time <= 4500) or (relative_time >= 8700 and relative_time <= 12300):\n",
    "        attack_pkt_list.append(pkt)"
   ]
  },
  {
   "cell_type": "code",
   "execution_count": 8,
   "metadata": {},
   "outputs": [
    {
     "data": {
      "text/plain": [
       "0"
      ]
     },
     "execution_count": 8,
     "metadata": {},
     "output_type": "execute_result"
    }
   ],
   "source": [
    "len(attack_pkt_list)"
   ]
  },
  {
   "cell_type": "code",
   "execution_count": 9,
   "metadata": {},
   "outputs": [
    {
     "name": "stdout",
     "output_type": "stream",
     "text": [
      "0.000000\n",
      "0.000002\n",
      "0.000003\n",
      "0.000004\n",
      "0.000006\n",
      "0.000007\n",
      "0.000008\n",
      "0.000010\n",
      "0.000113\n",
      "0.000114\n",
      "0.000269\n",
      "0.000271\n",
      "0.000272\n",
      "0.000587\n",
      "0.000588\n",
      "0.000918\n",
      "0.000919\n",
      "0.001267\n",
      "0.001268\n",
      "0.001421\n"
     ]
    }
   ],
   "source": [
    "for i in range(20):\n",
    "    print(swat[i].time - TIME_ZERO)"
   ]
  },
  {
   "cell_type": "code",
   "execution_count": 18,
   "metadata": {},
   "outputs": [
    {
     "name": "stdout",
     "output_type": "stream",
     "text": [
      "{'192.168.1.20', '192.168.1.200', '192.168.1.31', '153.254.86.163', '192.168.1.40', '192.168.1.60', '192.168.1.130', '192.168.1.118', '192.168.1.90', '192.168.1.176', '192.168.1.51', '192.168.1.11', '192.168.1.230', '192.168.1.177', '192.168.1.61', '192.168.1.219', '10.10.10.2', '192.168.1.10', '91.189.94.4', '192.168.1.30', '192.168.1.100', '118.201.255.203', '192.168.1.99', '192.168.1.179', '192.168.1.50', '192.168.1.234', '192.168.1.183', '192.168.1.41', '192.168.1.178', '192.168.1.175', '192.168.1.201', '192.168.1.21', '192.168.1.220'}\n",
      "{'192.168.1.20', '192.168.1.200', '153.254.86.163', '192.168.1.40', '192.168.1.60', '192.168.1.130', '224.0.0.252', '239.192.2.63', '192.168.1.176', '192.168.1.11', '192.168.1.230', '192.168.1.177', '192.168.50.128', '192.168.1.255', '192.168.1.219', '255.255.255.255', '239.192.4.191', '192.168.1.10', '91.189.94.4', '192.168.1.30', '192.168.1.100', '118.201.255.203', '10.10.10.7', '239.192.5.255', '192.168.1.99', '239.192.8.127', '239.255.255.250', '192.168.1.179', '192.168.1.50', '224.0.0.22', '239.192.3.127', '192.168.1.234', '192.168.1.183', '192.168.1.178', '192.168.1.175', '224.0.0.2', '192.168.1.201', '239.192.7.60', '192.168.1.220', '224.0.0.251'}\n"
     ]
    }
   ],
   "source": [
    "pkt_list = []\n",
    "for pkt in swat:\n",
    "    pkt_list.append(pkt)\n",
    "\n",
    "src_ips = []\n",
    "dst_ips = []\n",
    "for pkt in pkt_list:\n",
    "    try:\n",
    "        src_ips.append(pkt[IP].src)\n",
    "        dst_ips.append(pkt[IP].dst)\n",
    "    except IndexError:\n",
    "        continue;\n",
    "\n",
    "src_ips_set = set(src_ips)\n",
    "dst_ips_set = set(dst_ips)\n",
    "\n",
    "print(src_ips_set)\n",
    "print(dst_ips_set)"
   ]
  },
  {
   "cell_type": "code",
   "execution_count": null,
   "metadata": {},
   "outputs": [],
   "source": []
  }
 ],
 "metadata": {
  "kernelspec": {
   "display_name": "ankh-morpork",
   "language": "python",
   "name": "python3"
  },
  "language_info": {
   "codemirror_mode": {
    "name": "ipython",
    "version": 3
   },
   "file_extension": ".py",
   "mimetype": "text/x-python",
   "name": "python",
   "nbconvert_exporter": "python",
   "pygments_lexer": "ipython3",
   "version": "3.11.6"
  }
 },
 "nbformat": 4,
 "nbformat_minor": 2
}
