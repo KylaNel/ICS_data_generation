{
 "cells": [
  {
   "cell_type": "code",
   "execution_count": 3,
   "metadata": {},
   "outputs": [],
   "source": [
    "import numpy as np\n",
    "import matplotlib.pyplot as plt\n",
    "import pandas as pd\n",
    "import tensorflow as tf\n",
    "from sklearn import preprocessing\n",
    "import scipy\n",
    "\n",
    "%matplotlib inline"
   ]
  },
  {
   "cell_type": "code",
   "execution_count": 4,
   "metadata": {},
   "outputs": [
    {
     "name": "stdout",
     "output_type": "stream",
     "text": [
      "0\n"
     ]
    }
   ],
   "source": [
    "# Get in dataset\n",
    "data_features_test = pd.read_csv(\"/home/knel/virtual_envs/ankh-morpork/ICS_data_generation/data/csvDataFeaturesTest.csv\", sep=\";\")\n",
    "\n",
    "# Take out only data corresponing to attacks and remove the column labelling it as an attack\n",
    "data_features_attacks = data_features_test.to_numpy()[238279:, :21]\n",
    "print(np.count_nonzero(np.isnan(data_features_attacks)))\n",
    "# Set negative values to 0\n",
    "data_features_attacks = np.where(data_features_attacks >= 0, data_features_attacks, 0)\n",
    "data_features_attacks = data_features_attacks.reshape((9999,21,1)).astype('float32')\n"
   ]
  },
  {
   "cell_type": "code",
   "execution_count": 5,
   "metadata": {},
   "outputs": [],
   "source": [
    "BUFFER_SIZE = 10000\n",
    "BATCH_SIZE = 50"
   ]
  },
  {
   "cell_type": "code",
   "execution_count": 6,
   "metadata": {},
   "outputs": [],
   "source": [
    "# Batch and shuffle data\n",
    "\n",
    "train_dataset = (tf.data.Dataset.from_tensor_slices(data_features_attacks[:9000]).shuffle(BUFFER_SIZE).batch(BATCH_SIZE))\n",
    "test_dataset = (tf.data.Dataset.from_tensor_slices(data_features_attacks[9000:]).shuffle(BUFFER_SIZE).batch(BATCH_SIZE))"
   ]
  },
  {
   "cell_type": "code",
   "execution_count": 7,
   "metadata": {},
   "outputs": [],
   "source": [
    "class CVAE(tf.keras.Model):\n",
    "    def __init__(self, latent_dim):\n",
    "        super(CVAE, self).__init__()\n",
    "        self.latent_dim = latent_dim\n",
    "        self.encoder = tf.keras.Sequential([\n",
    "            # input layer\n",
    "            tf.keras.layers.InputLayer(input_shape=(21, 1)),\n",
    "            # hidden layers\n",
    "            tf.keras.layers.Conv1D(filters=16, kernel_size=1, activation='relu'),\n",
    "            tf.keras.layers.Conv1D(filters=32, kernel_size=1, activation='relu'),\n",
    "            tf.keras.layers.Conv1D(filters=64, kernel_size=1, activation='relu'),\n",
    "            tf.keras.layers.Flatten(),\n",
    "            # output layer\n",
    "            tf.keras.layers.Dense(latent_dim + latent_dim),\n",
    "            ]\n",
    "        )\n",
    "        self.decoder = tf.keras.Sequential([\n",
    "            # input layer\n",
    "            tf.keras.layers.InputLayer(input_shape=(latent_dim,)),\n",
    "            # hidden layers\n",
    "            tf.keras.layers.Dense(units=21*100, activation=tf.nn.relu),\n",
    "            tf.keras.layers.Reshape(target_shape=(21,100)),\n",
    "            # transposed convolutional layers go in the opposite direction of a normal convolution\n",
    "            # reshapes and upscales\n",
    "            # accepts an input volume from a previous layer\n",
    "            # produces an output that is larger than the input volume\n",
    "            # maintains a connectivity pattern between the input and the output\n",
    "            tf.keras.layers.Conv1DTranspose(filters=64, kernel_size=1, padding='same', activation='relu'),\n",
    "            tf.keras.layers.Conv1DTranspose(filters=32, kernel_size=1, padding='same', activation='relu'),\n",
    "            tf.keras.layers.Conv1DTranspose(filters=16, kernel_size=1, padding='same', activation='relu'),\n",
    "            # output layer\n",
    "            tf.keras.layers.Conv1DTranspose(filters=1, kernel_size=1, padding='same'),\n",
    "            ]\n",
    "        )\n",
    "\n",
    "    @tf.function\n",
    "    def sample(self, eps=None):\n",
    "        if eps is None:\n",
    "            eps = tf.random.normal(shape=(100, self.latent_dim))\n",
    "        return self.decode(eps, apply_sigmoid=True)\n",
    "\n",
    "    def encode(self, data):\n",
    "        mean, logvar = tf.split(self.encoder(data), num_or_size_splits=2, axis=1)\n",
    "        return mean, logvar\n",
    "\n",
    "    # sample from a unit Gaussian, and then shift the randomly sampled by the latent \n",
    "    # distribution's mean and scale it by the latent distribution's variance \n",
    "    # use log variance so the model doesn't learn negative values\n",
    "    def reparameterise(self, mean, logvar):\n",
    "        eps = tf.random.normal(shape=mean.shape)\n",
    "        return eps * tf.exp(logvar * 0.5) + mean\n",
    "\n",
    "    def decode(self, z, apply_sigmoid=False):\n",
    "        logits = self.decoder(z)\n",
    "        if apply_sigmoid:\n",
    "            probs = tf.sigmoid(logits)\n",
    "            return probs\n",
    "        return logits"
   ]
  },
  {
   "cell_type": "code",
   "execution_count": 8,
   "metadata": {},
   "outputs": [],
   "source": [
    "# try removing weight from KL divergence\n",
    "# might be KL divergence blowing up that's causing nans\n",
    "# alos try wider prior\n",
    "# sigmoid might be causing vanishing gradients but there doesn't seem to be a good alternative"
   ]
  },
  {
   "cell_type": "code",
   "execution_count": 9,
   "metadata": {},
   "outputs": [],
   "source": [
    "optimizer = tf.keras.optimizers.Adam(1e-4)\n",
    "\n",
    "def log_normal_pdf(sample, mean, logvar, raxis=1):\n",
    "    log2pi = tf.math.log(2. * np.pi)\n",
    "    s = -0.5 * ((sample-mean) ** 2. * tf.exp(-logvar) + logvar + log2pi)\n",
    "    return tf.reduce_sum(s, axis=raxis)\n",
    "\n",
    "def compute_loss(model, data):\n",
    "    mean, logvar = model.encode(data)\n",
    "    z = model.reparameterise(mean, logvar)\n",
    "    data_logit = model.decode(z)\n",
    "    cross_ent = tf.nn.sigmoid_cross_entropy_with_logits(logits=data_logit, labels=data)\n",
    "    logpx_z = -tf.reduce_sum(cross_ent, axis=[1,2])\n",
    "    logpz = log_normal_pdf(z, 0., 0.)\n",
    "    logqz_x = log_normal_pdf(z, mean, logvar)\n",
    "    return -tf.reduce_mean(logpx_z + logpz - logqz_x)"
   ]
  },
  {
   "cell_type": "code",
   "execution_count": 10,
   "metadata": {},
   "outputs": [],
   "source": [
    "# `tf.function` causes the function to be compiled\n",
    "@tf.function\n",
    "def train_step(model, data, optimizer):\n",
    "    # GradientTape will automatically watch any trainable variables that are accessed inside \n",
    "    with tf.GradientTape() as tape:\n",
    "        loss = compute_loss(model, data)\n",
    "    gradients = tape.gradient(loss, model.trainable_variables)\n",
    "    optimizer.apply_gradients(zip(gradients, model.trainable_variables))"
   ]
  },
  {
   "cell_type": "code",
   "execution_count": 11,
   "metadata": {},
   "outputs": [],
   "source": [
    "def predict(model, test_sample):\n",
    "    mean, logvar = model.encode(test_sample)\n",
    "    z = model.reparameterise(mean, logvar)\n",
    "    predictions = model.sample(z)\n",
    "    return predictions"
   ]
  },
  {
   "cell_type": "code",
   "execution_count": 12,
   "metadata": {},
   "outputs": [
    {
     "name": "stdout",
     "output_type": "stream",
     "text": [
      "(50, 21, 1)\n"
     ]
    }
   ],
   "source": [
    "\n",
    "latent_dim = 1200\n",
    "num_examples_to_generate = 200\n",
    "epochs = 20\n",
    "\n",
    "for test_batch in test_dataset.take(1):\n",
    "    test_sample = test_batch[0:num_examples_to_generate, :, :]\n",
    "    print(test_sample.shape)\n",
    "\n",
    "# random_vector_for_generation = tf.random.normal(shape=[num_examples_to_generate, latent_dim])\n",
    "model = CVAE(latent_dim)"
   ]
  },
  {
   "cell_type": "code",
   "execution_count": 14,
   "metadata": {},
   "outputs": [],
   "source": [
    "predictions = np.array([])\n",
    "for epoch in range(epochs):\n",
    "    for train_x in train_dataset:\n",
    "        train_step(model, train_x, optimizer)\n",
    "    \n",
    "    loss = tf.keras.metrics.Mean()\n",
    "    for test_x in test_dataset:\n",
    "        loss(compute_loss(model, test_x))\n",
    "    elbo = -loss.result()\n",
    "\n",
    "    predictions = np.append(predictions, predict(model, test_sample))"
   ]
  },
  {
   "cell_type": "code",
   "execution_count": 15,
   "metadata": {},
   "outputs": [
    {
     "data": {
      "text/plain": [
       "(0, 21000)"
      ]
     },
     "execution_count": 15,
     "metadata": {},
     "output_type": "execute_result"
    }
   ],
   "source": [
    "np.count_nonzero(np.isnan(predictions)), predictions.size"
   ]
  },
  {
   "cell_type": "code",
   "execution_count": null,
   "metadata": {},
   "outputs": [],
   "source": [
    "# size = int(predictions.shape[0]/21)\n",
    "# predictions = predictions.reshape(size, 21)"
   ]
  },
  {
   "cell_type": "code",
   "execution_count": null,
   "metadata": {},
   "outputs": [],
   "source": [
    "# data_labels = [name for name in data_features_test.columns]\n",
    "\n",
    "# frame_len_actual = data_features_test[\"frameLen\"]\n",
    "# frame_len_generated = predictions[:,0]"
   ]
  },
  {
   "cell_type": "code",
   "execution_count": 16,
   "metadata": {},
   "outputs": [
    {
     "data": {
      "text/plain": [
       "KstestResult(statistic=0.6019829353162687, pvalue=0.0, statistic_location=0.0, statistic_sign=1)"
      ]
     },
     "execution_count": 16,
     "metadata": {},
     "output_type": "execute_result"
    }
   ],
   "source": [
    "scipy.stats.ks_2samp(data_features_attacks[9000:].reshape(999*21,), predictions)"
   ]
  },
  {
   "cell_type": "code",
   "execution_count": null,
   "metadata": {},
   "outputs": [],
   "source": []
  }
 ],
 "metadata": {
  "kernelspec": {
   "display_name": "ankh-morpork",
   "language": "python",
   "name": "python3"
  },
  "language_info": {
   "codemirror_mode": {
    "name": "ipython",
    "version": 3
   },
   "file_extension": ".py",
   "mimetype": "text/x-python",
   "name": "python",
   "nbconvert_exporter": "python",
   "pygments_lexer": "ipython3",
   "version": "3.11.6"
  }
 },
 "nbformat": 4,
 "nbformat_minor": 2
}
