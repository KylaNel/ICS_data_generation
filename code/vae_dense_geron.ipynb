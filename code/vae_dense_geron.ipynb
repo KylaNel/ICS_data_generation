{
 "cells": [
  {
   "cell_type": "code",
   "execution_count": 92,
   "metadata": {},
   "outputs": [],
   "source": [
    "# Not subclassing prevents using different behaviour in training and in generation. Means dropout is not an option."
   ]
  },
  {
   "cell_type": "code",
   "execution_count": 93,
   "metadata": {},
   "outputs": [],
   "source": [
    "import numpy as np\n",
    "import matplotlib.pyplot as plt\n",
    "import pandas as pd\n",
    "import tensorflow as tf\n",
    "from sklearn import preprocessing\n",
    "import scipy\n",
    "from sklearn import preprocessing\n",
    "\n",
    "%matplotlib inline"
   ]
  },
  {
   "cell_type": "code",
   "execution_count": 94,
   "metadata": {},
   "outputs": [],
   "source": [
    "# Get in dataset\n",
    "attacks = pd.read_csv(\"/home/knel/virtual_envs/ankh-morpork/ICS_data_generation/data/wustl_attacks.csv\", sep=\",\")"
   ]
  },
  {
   "cell_type": "code",
   "execution_count": 95,
   "metadata": {},
   "outputs": [],
   "source": [
    "attacks = preprocessing.normalize(attacks.to_numpy(), norm=\"max\", axis=0)"
   ]
  },
  {
   "cell_type": "code",
   "execution_count": 96,
   "metadata": {},
   "outputs": [],
   "source": [
    "seq_length = 10\n",
    "batch_size = 64\n",
    "num_features = attacks.shape[1]\n",
    "codings_size = 100"
   ]
  },
  {
   "cell_type": "code",
   "execution_count": 97,
   "metadata": {},
   "outputs": [],
   "source": [
    "# train_dataset = (tf.data.Dataset.from_tensor_slices(attacks[:9984]).shuffle(10000).batch(batch_size))\n",
    "# test_dataset = attacks[attacks.shape[0]-5000:]"
   ]
  },
  {
   "cell_type": "code",
   "execution_count": 98,
   "metadata": {},
   "outputs": [],
   "source": [
    "# should probably add batch and shuffle\n",
    "\n",
    "train_dataset = attacks[:int(np.floor(attacks.shape[0]*4/5))]\n",
    "test_dataset = attacks[int(np.floor(attacks.shape[0]*4/5)):]\n",
    "\n",
    "# buffer_size = 10000\n",
    "# batch_size = 50\n",
    "\n",
    "# train_dataset = (tf.data.Dataset.from_tensor_slices(attacks[:int(np.floor(attacks.shape[0]*3/4))]).shuffle(buffer_size).batch(batch_size))\n",
    "# test_dataset = (tf.data.Dataset.from_tensor_slices(attacks[int(np.floor(attacks.shape[0]*3/4)):]).shuffle(buffer_size).batch(batch_size))"
   ]
  },
  {
   "cell_type": "code",
   "execution_count": 99,
   "metadata": {},
   "outputs": [
    {
     "data": {
      "text/plain": [
       "((69612, 28), (17404, 28))"
      ]
     },
     "execution_count": 99,
     "metadata": {},
     "output_type": "execute_result"
    }
   ],
   "source": [
    "train_dataset.shape, test_dataset.shape"
   ]
  },
  {
   "cell_type": "code",
   "execution_count": 100,
   "metadata": {},
   "outputs": [],
   "source": [
    "class Sampling(tf.keras.layers.Layer):\n",
    "    def call(self, inputs):\n",
    "        mean, log_var = inputs\n",
    "        return tf.keras.backend.random_normal(tf.shape(log_var)) * tf.keras.backend.exp(log_var / 2) + mean"
   ]
  },
  {
   "cell_type": "code",
   "execution_count": 101,
   "metadata": {},
   "outputs": [],
   "source": [
    "# encoder\n",
    "\n",
    "inputs = tf.keras.layers.Input(shape=[num_features,1])\n",
    "z = tf.keras.layers.Flatten()(inputs)\n",
    "z = tf.keras.layers.Dense(150, activation=\"relu\", kernel_initializer=\"he_normal\")(z)\n",
    "z = tf.keras.layers.Dense(100, activation=\"relu\", kernel_initializer=\"he_normal\")(z)\n",
    "codings_mean = tf.keras.layers.Dense(codings_size)(z) # mu\n",
    "codings_log_var = tf.keras.layers.Dense(codings_size)(z) # gamma\n",
    "codings = Sampling()([codings_mean, codings_log_var])\n",
    "variational_encoder = tf.keras.Model(inputs=[inputs], outputs=[codings_mean, codings_log_var, codings])"
   ]
  },
  {
   "cell_type": "code",
   "execution_count": 102,
   "metadata": {},
   "outputs": [],
   "source": [
    "# decoder\n",
    "\n",
    "decoder_inputs = tf.keras.layers.Input(shape=[codings_size])\n",
    "x = tf.keras.layers.Dense(100, activation=\"relu\", kernel_initializer=\"he_normal\")(decoder_inputs)\n",
    "x = tf.keras.layers.Dense(150, activation=\"relu\", kernel_initializer=\"he_normal\")(x)\n",
    "x = tf.keras.layers.Dense(num_features*1, activation=\"sigmoid\")(x)\n",
    "outputs = tf.keras.layers.Reshape([num_features, 1])(x)\n",
    "variational_decoder = tf.keras.Model(inputs=[decoder_inputs], outputs=[outputs])"
   ]
  },
  {
   "cell_type": "code",
   "execution_count": 103,
   "metadata": {},
   "outputs": [],
   "source": [
    "# VAE model\n",
    "\n",
    "_, _, codings = variational_encoder(inputs)\n",
    "reconstructions = variational_decoder(codings)\n",
    "variational_ae = tf.keras.Model(inputs=[inputs], outputs=[reconstructions])"
   ]
  },
  {
   "cell_type": "code",
   "execution_count": 104,
   "metadata": {},
   "outputs": [],
   "source": [
    "# losses\n",
    "\n",
    "latent_loss = -0.5 * tf.keras.backend.sum(1 + codings_log_var - tf.keras.backend.exp(codings_log_var) - tf.keras.backend.square(codings_mean), axis=-1)\n",
    "variational_ae.add_loss(tf.keras.backend.mean(latent_loss / float(num_features)))\n",
    "# variational_ae.add_loss(tf.keras.backend.mean(latent_loss))\n",
    "optimizer = tf.keras.optimizers.RMSprop(learning_rate=1e-5)\n",
    "variational_ae.compile(loss=\"binary_crossentropy\", optimizer=optimizer)"
   ]
  },
  {
   "cell_type": "code",
   "execution_count": 105,
   "metadata": {},
   "outputs": [
    {
     "name": "stdout",
     "output_type": "stream",
     "text": [
      "Epoch 1/50\n"
     ]
    },
    {
     "name": "stdout",
     "output_type": "stream",
     "text": [
      "1088/1088 [==============================] - 2s 963us/step - loss: 0.7922\n",
      "Epoch 2/50\n",
      "1088/1088 [==============================] - 1s 956us/step - loss: 0.4520\n",
      "Epoch 3/50\n",
      "1088/1088 [==============================] - 1s 951us/step - loss: 0.4034\n",
      "Epoch 4/50\n",
      "1088/1088 [==============================] - 1s 962us/step - loss: 0.3807\n",
      "Epoch 5/50\n",
      "1088/1088 [==============================] - 1s 958us/step - loss: 0.3579\n",
      "Epoch 6/50\n",
      "1088/1088 [==============================] - 1s 961us/step - loss: 0.3397\n",
      "Epoch 7/50\n",
      "1088/1088 [==============================] - 1s 949us/step - loss: 0.3295\n",
      "Epoch 8/50\n",
      "1088/1088 [==============================] - 1s 960us/step - loss: 0.3248\n",
      "Epoch 9/50\n",
      "1088/1088 [==============================] - 1s 989us/step - loss: 0.3208\n",
      "Epoch 10/50\n",
      "1088/1088 [==============================] - 1s 973us/step - loss: 0.3191\n",
      "Epoch 11/50\n",
      "1088/1088 [==============================] - 1s 961us/step - loss: 0.3180\n",
      "Epoch 12/50\n",
      "1088/1088 [==============================] - 1s 965us/step - loss: 0.3166\n",
      "Epoch 13/50\n",
      "1088/1088 [==============================] - 1s 960us/step - loss: 0.3154\n",
      "Epoch 14/50\n",
      "1088/1088 [==============================] - 1s 976us/step - loss: 0.3139\n",
      "Epoch 15/50\n",
      "1088/1088 [==============================] - 1s 965us/step - loss: 0.3140\n",
      "Epoch 16/50\n",
      "1088/1088 [==============================] - 1s 975us/step - loss: 0.3129\n",
      "Epoch 17/50\n",
      "1088/1088 [==============================] - 1s 952us/step - loss: 0.3126\n",
      "Epoch 18/50\n",
      "1088/1088 [==============================] - 1s 984us/step - loss: 0.3113\n",
      "Epoch 19/50\n",
      "1088/1088 [==============================] - 1s 964us/step - loss: 0.3108\n",
      "Epoch 20/50\n",
      "1088/1088 [==============================] - 1s 966us/step - loss: 0.3105\n",
      "Epoch 21/50\n",
      "1088/1088 [==============================] - 1s 961us/step - loss: 0.3104\n",
      "Epoch 22/50\n",
      "1088/1088 [==============================] - 1s 964us/step - loss: 0.3095\n",
      "Epoch 23/50\n",
      "1088/1088 [==============================] - 1s 968us/step - loss: 0.3094\n",
      "Epoch 24/50\n",
      "1088/1088 [==============================] - 1s 966us/step - loss: 0.3087\n",
      "Epoch 25/50\n",
      "1088/1088 [==============================] - 1s 990us/step - loss: 0.3081\n",
      "Epoch 26/50\n",
      "1088/1088 [==============================] - 1s 958us/step - loss: 0.3081\n",
      "Epoch 27/50\n",
      "1088/1088 [==============================] - 1s 951us/step - loss: 0.3070\n",
      "Epoch 28/50\n",
      "1088/1088 [==============================] - 1s 961us/step - loss: 0.3070\n",
      "Epoch 29/50\n",
      "1088/1088 [==============================] - 1s 963us/step - loss: 0.3063\n",
      "Epoch 30/50\n",
      "1088/1088 [==============================] - 1s 952us/step - loss: 0.3067\n",
      "Epoch 31/50\n",
      "1088/1088 [==============================] - 1s 956us/step - loss: 0.3059\n",
      "Epoch 32/50\n",
      "1088/1088 [==============================] - 1s 986us/step - loss: 0.3057\n",
      "Epoch 33/50\n",
      "1088/1088 [==============================] - 1s 951us/step - loss: 0.3050\n",
      "Epoch 34/50\n",
      "1088/1088 [==============================] - 1s 957us/step - loss: 0.3055\n",
      "Epoch 35/50\n",
      "1088/1088 [==============================] - 1s 961us/step - loss: 0.3050\n",
      "Epoch 36/50\n",
      "1088/1088 [==============================] - 1s 1ms/step - loss: 0.3048\n",
      "Epoch 37/50\n",
      "1088/1088 [==============================] - 1s 967us/step - loss: 0.3044\n",
      "Epoch 38/50\n",
      "1088/1088 [==============================] - 1s 980us/step - loss: 0.3039\n",
      "Epoch 39/50\n",
      "1088/1088 [==============================] - 1s 942us/step - loss: 0.3036\n",
      "Epoch 40/50\n",
      "1088/1088 [==============================] - 1s 968us/step - loss: 0.3030\n",
      "Epoch 41/50\n",
      "1088/1088 [==============================] - 1s 966us/step - loss: 0.3030\n",
      "Epoch 42/50\n",
      "1088/1088 [==============================] - 1s 980us/step - loss: 0.3025\n",
      "Epoch 43/50\n",
      "1088/1088 [==============================] - 1s 968us/step - loss: 0.3026\n",
      "Epoch 44/50\n",
      "1088/1088 [==============================] - 1s 960us/step - loss: 0.3024\n",
      "Epoch 45/50\n",
      "1088/1088 [==============================] - 1s 963us/step - loss: 0.3019\n",
      "Epoch 46/50\n",
      "1088/1088 [==============================] - 1s 996us/step - loss: 0.3014\n",
      "Epoch 47/50\n",
      "1088/1088 [==============================] - 1s 942us/step - loss: 0.3020\n",
      "Epoch 48/50\n",
      "1088/1088 [==============================] - 1s 953us/step - loss: 0.3008\n",
      "Epoch 49/50\n",
      "1088/1088 [==============================] - 1s 953us/step - loss: 0.3008\n",
      "Epoch 50/50\n",
      "1088/1088 [==============================] - 1s 962us/step - loss: 0.3011\n"
     ]
    }
   ],
   "source": [
    "history = variational_ae.fit(train_dataset, train_dataset, epochs=50, batch_size=64)"
   ]
  },
  {
   "cell_type": "code",
   "execution_count": 106,
   "metadata": {},
   "outputs": [
    {
     "name": "stdout",
     "output_type": "stream",
     "text": [
      "544/544 [==============================] - 0s 602us/step\n"
     ]
    },
    {
     "data": {
      "text/plain": [
       "KstestResult(statistic=0.33989928423679283, pvalue=0.0, statistic_location=0.00020024028834601522, statistic_sign=1)"
      ]
     },
     "execution_count": 106,
     "metadata": {},
     "output_type": "execute_result"
    }
   ],
   "source": [
    "predictions = variational_ae.predict(test_dataset)\n",
    "\n",
    "num_values = test_dataset.shape[0] * test_dataset.shape[1]\n",
    "\n",
    "scipy.stats.ks_2samp(test_dataset.reshape(num_values,), predictions.reshape(num_values,))"
   ]
  },
  {
   "cell_type": "code",
   "execution_count": 107,
   "metadata": {},
   "outputs": [
    {
     "data": {
      "text/plain": [
       "KstestResult(statistic=0.03628791481496141, pvalue=0.0, statistic_location=0.8, statistic_sign=-1)"
      ]
     },
     "execution_count": 107,
     "metadata": {},
     "output_type": "execute_result"
    }
   ],
   "source": [
    "scipy.stats.ks_2samp(test_dataset.reshape(num_values,), train_dataset.reshape(train_dataset.shape[0] * train_dataset.shape[1]))"
   ]
  },
  {
   "cell_type": "code",
   "execution_count": 108,
   "metadata": {},
   "outputs": [],
   "source": [
    "# df = pd.DataFrame(predictions.reshape(predictions.shape[0], predictions.shape[1]))\n",
    "# df.to_csv(\"vae_swat_network.csv\", index=False)"
   ]
  }
 ],
 "metadata": {
  "kernelspec": {
   "display_name": "ankh-morpork",
   "language": "python",
   "name": "python3"
  },
  "language_info": {
   "codemirror_mode": {
    "name": "ipython",
    "version": 3
   },
   "file_extension": ".py",
   "mimetype": "text/x-python",
   "name": "python",
   "nbconvert_exporter": "python",
   "pygments_lexer": "ipython3",
   "version": "3.11.6"
  }
 },
 "nbformat": 4,
 "nbformat_minor": 2
}
