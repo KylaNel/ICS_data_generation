{
 "cells": [
  {
   "cell_type": "code",
   "execution_count": 37,
   "metadata": {},
   "outputs": [],
   "source": [
    "# Not subclassing prevents using different behaviour in training and in generation. Means dropout is not an option."
   ]
  },
  {
   "cell_type": "code",
   "execution_count": 38,
   "metadata": {},
   "outputs": [],
   "source": [
    "import numpy as np\n",
    "import matplotlib.pyplot as plt\n",
    "import pandas as pd\n",
    "import tensorflow as tf\n",
    "from sklearn import preprocessing\n",
    "import scipy\n",
    "from sklearn import preprocessing\n",
    "\n",
    "%matplotlib inline"
   ]
  },
  {
   "cell_type": "code",
   "execution_count": 39,
   "metadata": {},
   "outputs": [],
   "source": [
    "# Get in dataset\n",
    "attacks = pd.read_csv(\"/home/knel/virtual_envs/ankh-morpork/ICS_data_generation/data/swat_processed.csv\", sep=\",\")"
   ]
  },
  {
   "cell_type": "code",
   "execution_count": 40,
   "metadata": {},
   "outputs": [],
   "source": [
    "attacks = preprocessing.normalize(attacks.to_numpy()[:, 1:], norm=\"max\", axis=0)"
   ]
  },
  {
   "cell_type": "code",
   "execution_count": 41,
   "metadata": {},
   "outputs": [],
   "source": [
    "seq_length = 10\n",
    "batch_size = 64\n",
    "num_features = attacks.shape[1]\n",
    "codings_size = 100"
   ]
  },
  {
   "cell_type": "code",
   "execution_count": 42,
   "metadata": {},
   "outputs": [],
   "source": [
    "# train_dataset = (tf.data.Dataset.from_tensor_slices(attacks[:9984]).shuffle(10000).batch(batch_size))\n",
    "# test_dataset = attacks[attacks.shape[0]-5000:]"
   ]
  },
  {
   "cell_type": "code",
   "execution_count": 43,
   "metadata": {},
   "outputs": [],
   "source": [
    "# should probably add batch and shuffle\n",
    "\n",
    "train_dataset = attacks[:int(np.floor(attacks.shape[0]*4/5))]\n",
    "test_dataset = attacks[int(np.floor(attacks.shape[0]*4/5)):]\n",
    "\n",
    "train_dataset = train_dataset[:20000]\n",
    "\n",
    "# buffer_size = 10000\n",
    "# batch_size = 50\n",
    "\n",
    "# train_dataset = (tf.data.Dataset.from_tensor_slices(attacks[:int(np.floor(attacks.shape[0]*3/4))]).shuffle(buffer_size).batch(batch_size))\n",
    "# test_dataset = (tf.data.Dataset.from_tensor_slices(attacks[int(np.floor(attacks.shape[0]*3/4)):]).shuffle(buffer_size).batch(batch_size))"
   ]
  },
  {
   "cell_type": "code",
   "execution_count": 44,
   "metadata": {},
   "outputs": [
    {
     "data": {
      "text/plain": [
       "((20000, 22), (531634, 22))"
      ]
     },
     "execution_count": 44,
     "metadata": {},
     "output_type": "execute_result"
    }
   ],
   "source": [
    "train_dataset.shape, test_dataset.shape"
   ]
  },
  {
   "cell_type": "code",
   "execution_count": 45,
   "metadata": {},
   "outputs": [],
   "source": [
    "class Sampling(tf.keras.layers.Layer):\n",
    "    def call(self, inputs):\n",
    "        mean, log_var = inputs\n",
    "        return tf.keras.backend.random_normal(tf.shape(log_var)) * tf.keras.backend.exp(log_var / 2) + mean"
   ]
  },
  {
   "cell_type": "code",
   "execution_count": 46,
   "metadata": {},
   "outputs": [],
   "source": [
    "# encoder\n",
    "\n",
    "inputs = tf.keras.layers.Input(shape=[num_features,1])\n",
    "z = tf.keras.layers.Flatten()(inputs)\n",
    "z = tf.keras.layers.Dense(150, activation=\"relu\", kernel_initializer=\"he_normal\")(z)\n",
    "z = tf.keras.layers.Dense(100, activation=\"relu\", kernel_initializer=\"he_normal\")(z)\n",
    "codings_mean = tf.keras.layers.Dense(codings_size)(z) # mu\n",
    "codings_log_var = tf.keras.layers.Dense(codings_size)(z) # gamma\n",
    "codings = Sampling()([codings_mean, codings_log_var])\n",
    "variational_encoder = tf.keras.Model(inputs=[inputs], outputs=[codings_mean, codings_log_var, codings])"
   ]
  },
  {
   "cell_type": "code",
   "execution_count": 47,
   "metadata": {},
   "outputs": [],
   "source": [
    "# decoder\n",
    "\n",
    "decoder_inputs = tf.keras.layers.Input(shape=[codings_size])\n",
    "x = tf.keras.layers.Dense(100, activation=\"relu\", kernel_initializer=\"he_normal\")(decoder_inputs)\n",
    "x = tf.keras.layers.Dense(150, activation=\"relu\", kernel_initializer=\"he_normal\")(x)\n",
    "x = tf.keras.layers.Dense(num_features*1, activation=\"sigmoid\")(x)\n",
    "outputs = tf.keras.layers.Reshape([num_features, 1])(x)\n",
    "variational_decoder = tf.keras.Model(inputs=[decoder_inputs], outputs=[outputs])"
   ]
  },
  {
   "cell_type": "code",
   "execution_count": 48,
   "metadata": {},
   "outputs": [],
   "source": [
    "# VAE model\n",
    "\n",
    "_, _, codings = variational_encoder(inputs)\n",
    "reconstructions = variational_decoder(codings)\n",
    "variational_ae = tf.keras.Model(inputs=[inputs], outputs=[reconstructions])"
   ]
  },
  {
   "cell_type": "code",
   "execution_count": 49,
   "metadata": {},
   "outputs": [],
   "source": [
    "# losses\n",
    "\n",
    "latent_loss = -0.5 * tf.keras.backend.sum(1 + codings_log_var - tf.keras.backend.exp(codings_log_var) - tf.keras.backend.square(codings_mean), axis=-1)\n",
    "variational_ae.add_loss(tf.keras.backend.mean(latent_loss / float(num_features)))\n",
    "# variational_ae.add_loss(tf.keras.backend.mean(latent_loss))\n",
    "optimizer = tf.keras.optimizers.RMSprop(learning_rate=1e-5)\n",
    "variational_ae.compile(loss=\"binary_crossentropy\", optimizer=optimizer)"
   ]
  },
  {
   "cell_type": "code",
   "execution_count": 50,
   "metadata": {},
   "outputs": [
    {
     "name": "stdout",
     "output_type": "stream",
     "text": [
      "Epoch 1/50\n",
      "313/313 [==============================] - 1s 963us/step - loss: 0.9102\n",
      "Epoch 2/50\n",
      "313/313 [==============================] - 0s 937us/step - loss: 0.6571\n",
      "Epoch 3/50\n",
      "313/313 [==============================] - 0s 954us/step - loss: 0.4905\n",
      "Epoch 4/50\n",
      "313/313 [==============================] - 0s 960us/step - loss: 0.3827\n",
      "Epoch 5/50\n",
      "313/313 [==============================] - 0s 952us/step - loss: 0.3122\n",
      "Epoch 6/50\n",
      "313/313 [==============================] - 0s 949us/step - loss: 0.2695\n",
      "Epoch 7/50\n",
      "313/313 [==============================] - 0s 952us/step - loss: 0.2462\n",
      "Epoch 8/50\n",
      "313/313 [==============================] - 0s 954us/step - loss: 0.2327\n",
      "Epoch 9/50\n",
      "313/313 [==============================] - 0s 950us/step - loss: 0.2246\n",
      "Epoch 10/50\n",
      "313/313 [==============================] - 0s 958us/step - loss: 0.2194\n",
      "Epoch 11/50\n",
      "313/313 [==============================] - 0s 958us/step - loss: 0.2162\n",
      "Epoch 12/50\n",
      "313/313 [==============================] - 0s 976us/step - loss: 0.2141\n",
      "Epoch 13/50\n",
      "313/313 [==============================] - 0s 953us/step - loss: 0.2122\n",
      "Epoch 14/50\n",
      "313/313 [==============================] - 0s 986us/step - loss: 0.2108\n",
      "Epoch 15/50\n",
      "313/313 [==============================] - 0s 957us/step - loss: 0.2094\n",
      "Epoch 16/50\n",
      "313/313 [==============================] - 0s 1ms/step - loss: 0.2086\n",
      "Epoch 17/50\n",
      "313/313 [==============================] - 0s 967us/step - loss: 0.2073\n",
      "Epoch 18/50\n",
      "313/313 [==============================] - 0s 942us/step - loss: 0.2066\n",
      "Epoch 19/50\n",
      "313/313 [==============================] - 0s 953us/step - loss: 0.2057\n",
      "Epoch 20/50\n",
      "313/313 [==============================] - 0s 964us/step - loss: 0.2056\n",
      "Epoch 21/50\n",
      "313/313 [==============================] - 0s 963us/step - loss: 0.2043\n",
      "Epoch 22/50\n",
      "313/313 [==============================] - 0s 956us/step - loss: 0.2038\n",
      "Epoch 23/50\n",
      "313/313 [==============================] - 0s 963us/step - loss: 0.2030\n",
      "Epoch 24/50\n",
      "313/313 [==============================] - 0s 943us/step - loss: 0.2023\n",
      "Epoch 25/50\n",
      "313/313 [==============================] - 0s 961us/step - loss: 0.2019\n",
      "Epoch 26/50\n",
      "313/313 [==============================] - 0s 955us/step - loss: 0.2019\n",
      "Epoch 27/50\n",
      "313/313 [==============================] - 0s 956us/step - loss: 0.2015\n",
      "Epoch 28/50\n",
      "313/313 [==============================] - 0s 993us/step - loss: 0.2009\n",
      "Epoch 29/50\n",
      "313/313 [==============================] - 0s 989us/step - loss: 0.2004\n",
      "Epoch 30/50\n",
      "313/313 [==============================] - 0s 972us/step - loss: 0.2002\n",
      "Epoch 31/50\n",
      "313/313 [==============================] - 0s 951us/step - loss: 0.1996\n",
      "Epoch 32/50\n",
      "313/313 [==============================] - 0s 960us/step - loss: 0.1993\n",
      "Epoch 33/50\n",
      "313/313 [==============================] - 0s 958us/step - loss: 0.1987\n",
      "Epoch 34/50\n",
      "313/313 [==============================] - 0s 976us/step - loss: 0.1988\n",
      "Epoch 35/50\n",
      "313/313 [==============================] - 0s 968us/step - loss: 0.1985\n",
      "Epoch 36/50\n",
      "313/313 [==============================] - 0s 952us/step - loss: 0.1980\n",
      "Epoch 37/50\n",
      "313/313 [==============================] - 0s 949us/step - loss: 0.1975\n",
      "Epoch 38/50\n",
      "313/313 [==============================] - 0s 954us/step - loss: 0.1978\n",
      "Epoch 39/50\n",
      "313/313 [==============================] - 0s 971us/step - loss: 0.1973\n",
      "Epoch 40/50\n",
      "313/313 [==============================] - 0s 957us/step - loss: 0.1968\n",
      "Epoch 41/50\n",
      "313/313 [==============================] - 0s 995us/step - loss: 0.1968\n",
      "Epoch 42/50\n",
      "313/313 [==============================] - 0s 968us/step - loss: 0.1965\n",
      "Epoch 43/50\n",
      "313/313 [==============================] - 0s 1ms/step - loss: 0.1963\n",
      "Epoch 44/50\n",
      "313/313 [==============================] - 0s 993us/step - loss: 0.1961\n",
      "Epoch 45/50\n",
      "313/313 [==============================] - 0s 961us/step - loss: 0.1953\n",
      "Epoch 46/50\n",
      "313/313 [==============================] - 0s 957us/step - loss: 0.1958\n",
      "Epoch 47/50\n",
      "313/313 [==============================] - 0s 973us/step - loss: 0.1954\n",
      "Epoch 48/50\n",
      "313/313 [==============================] - 0s 967us/step - loss: 0.1952\n",
      "Epoch 49/50\n",
      "313/313 [==============================] - 0s 957us/step - loss: 0.1951\n",
      "Epoch 50/50\n",
      "313/313 [==============================] - 0s 964us/step - loss: 0.1952\n"
     ]
    }
   ],
   "source": [
    "history = variational_ae.fit(train_dataset, train_dataset, epochs=50, batch_size=64)"
   ]
  },
  {
   "cell_type": "code",
   "execution_count": 51,
   "metadata": {},
   "outputs": [
    {
     "data": {
      "text/plain": [
       "Text(0, 0.5, 'Loss')"
      ]
     },
     "execution_count": 51,
     "metadata": {},
     "output_type": "execute_result"
    },
    {
     "data": {
      "image/png": "[encoded data removed]",
      "text/plain": [
       "<Figure size 640x480 with 1 Axes>"
      ]
     },
     "metadata": {},
     "output_type": "display_data"
    }
   ],
   "source": [
    "plt.plot(history.history[\"loss\"])\n",
    "plt.xlabel(\"Epoch\")\n",
    "plt.ylabel(\"Loss\")\n",
    "# plt.savefig(\"vae_wustl.png\", dpi=800)"
   ]
  },
  {
   "cell_type": "code",
   "execution_count": 52,
   "metadata": {},
   "outputs": [],
   "source": [
    "# vae_loss_history[\"wustl\"] = history.history[\"loss\"]"
   ]
  },
  {
   "cell_type": "code",
   "execution_count": 53,
   "metadata": {},
   "outputs": [],
   "source": [
    "# vae_loss_history"
   ]
  },
  {
   "cell_type": "code",
   "execution_count": 54,
   "metadata": {},
   "outputs": [],
   "source": [
    "# vae_loss_history = {\"swat_network\": None, \"swat_sensor\": None, \"wadi\": None, \"wustl\": None}"
   ]
  },
  {
   "cell_type": "code",
   "execution_count": 55,
   "metadata": {},
   "outputs": [],
   "source": [
    "# plt.figure()\n",
    "# plt.plot(vae_loss_history[\"swat_sensor\"], label=\"SWaT sensor data\")\n",
    "# plt.plot(vae_loss_history[\"swat_network\"], label=\"SWaT network data\")\n",
    "# plt.plot(vae_loss_history[\"wadi\"], label=\"WADI sensor data\")\n",
    "# plt.plot(vae_loss_history[\"wustl\"], label=\"WUSTL network data\")\n",
    "# plt.xlabel(\"Epoch\")\n",
    "# plt.ylabel(\"Loss\")\n",
    "# plt.legend()\n",
    "# # plt.show()\n",
    "# plt.savefig(\"vae_losses.png\")"
   ]
  },
  {
   "cell_type": "code",
   "execution_count": 56,
   "metadata": {},
   "outputs": [
    {
     "name": "stdout",
     "output_type": "stream",
     "text": [
      "16614/16614 [==============================] - 10s 597us/step\n"
     ]
    },
    {
     "data": {
      "text/plain": [
       "KstestResult(statistic=0.4158826629530159, pvalue=0.0, statistic_location=5.8609572999999995e-05, statistic_sign=1)"
      ]
     },
     "execution_count": 56,
     "metadata": {},
     "output_type": "execute_result"
    }
   ],
   "source": [
    "predictions = variational_ae.predict(test_dataset)\n",
    "\n",
    "num_values = test_dataset.shape[0] * test_dataset.shape[1]\n",
    "\n",
    "scipy.stats.ks_2samp(test_dataset.reshape(num_values,), predictions.reshape(num_values,))"
   ]
  },
  {
   "cell_type": "code",
   "execution_count": 57,
   "metadata": {},
   "outputs": [
    {
     "data": {
      "text/plain": [
       "KstestResult(statistic=0.009499702709006574, pvalue=1.1444612541920637e-33, statistic_location=3.8812443e-05, statistic_sign=-1)"
      ]
     },
     "execution_count": 57,
     "metadata": {},
     "output_type": "execute_result"
    }
   ],
   "source": [
    "scipy.stats.ks_2samp(test_dataset.reshape(num_values,), train_dataset.reshape(train_dataset.shape[0] * train_dataset.shape[1]))"
   ]
  },
  {
   "cell_type": "code",
   "execution_count": 58,
   "metadata": {},
   "outputs": [
    {
     "data": {
      "text/plain": [
       "(531634, 22, 1)"
      ]
     },
     "execution_count": 58,
     "metadata": {},
     "output_type": "execute_result"
    }
   ],
   "source": [
    "predictions.shape"
   ]
  },
  {
   "cell_type": "code",
   "execution_count": 59,
   "metadata": {},
   "outputs": [
    {
     "data": {
      "text/plain": [
       "(531634, 22)"
      ]
     },
     "execution_count": 59,
     "metadata": {},
     "output_type": "execute_result"
    }
   ],
   "source": [
    "predictions.reshape(predictions.shape[0], predictions.shape[1]).shape"
   ]
  },
  {
   "cell_type": "code",
   "execution_count": 60,
   "metadata": {},
   "outputs": [],
   "source": [
    "# df = pd.DataFrame(predictions.reshape(predictions.shape[0], predictions.shape[1]))\n",
    "# df.to_csv(\"vae_swat_sensor.csv\", index=False)"
   ]
  }
 ],
 "metadata": {
  "kernelspec": {
   "display_name": "ankh-morpork",
   "language": "python",
   "name": "python3"
  },
  "language_info": {
   "codemirror_mode": {
    "name": "ipython",
    "version": 3
   },
   "file_extension": ".py",
   "mimetype": "text/x-python",
   "name": "python",
   "nbconvert_exporter": "python",
   "pygments_lexer": "ipython3",
   "version": "3.11.6"
  }
 },
 "nbformat": 4,
 "nbformat_minor": 2
}
